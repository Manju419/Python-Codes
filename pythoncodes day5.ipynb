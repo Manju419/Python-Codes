{
 "cells": [
  {
   "cell_type": "markdown",
   "metadata": {},
   "source": [
    "## Day 5\n",
    "**Simple programs ......**\n",
    "\n",
    "**Note: In this Chapter we discuss the python codes with clear explanations like how the program run with input values and how the statements work.**\n",
    "\n",
    "Let's go ahead ......."
   ]
  },
  {
   "cell_type": "markdown",
   "metadata": {},
   "source": [
    "### 41. Roman number to decimal numbers\n"
   ]
  },
  {
   "cell_type": "code",
   "execution_count": 1,
   "metadata": {},
   "outputs": [
    {
     "name": "stdout",
     "output_type": "stream",
     "text": [
      "MCIV\n",
      "decimal value:\n",
      "1104\n"
     ]
    }
   ],
   "source": [
    "def value(r):\n",
    "    if r=='I':\n",
    "        return 1\n",
    "    if r=='V':\n",
    "        return 5\n",
    "    if r=='X':\n",
    "        return 10\n",
    "    if r=='L':\n",
    "        return 50\n",
    "    if r=='C':\n",
    "        return 100\n",
    "    if r=='D':\n",
    "        return 500\n",
    "    if r=='M':\n",
    "        return 1000\n",
    "    return -1\n",
    "str=input()\n",
    "def romantodec(str):\n",
    "    res=0\n",
    "    i=0\n",
    "    while(i<len(str)):\n",
    "        s1=value(str[i])\n",
    "        \n",
    "        if(i+1<len(str)):\n",
    "            s2=value(str[i+1])\n",
    "            \n",
    "            if(s1>s2):\n",
    "                res=res+s1\n",
    "                i=i+1\n",
    "            else:\n",
    "                res=res+s2-s1\n",
    "                i=i+2\n",
    "                \n",
    "        else:\n",
    "            res=res+s1\n",
    "            i=i+1\n",
    "    return res\n",
    "print(\"decimal value:\")\n",
    "print(romantodec(str))\n",
    "            \n",
    "                \n",
    "        "
   ]
  },
  {
   "cell_type": "markdown",
   "metadata": {},
   "source": [
    "### 42. Frequency of the given character"
   ]
  },
  {
   "cell_type": "code",
   "execution_count": 2,
   "metadata": {},
   "outputs": [
    {
     "name": "stdout",
     "output_type": "stream",
     "text": [
      "you are awesome\n",
      "a\n",
      "2\n"
     ]
    }
   ],
   "source": [
    "str=input()\n",
    "char1=input()\n",
    "count=0\n",
    "for i in str:\n",
    "    if char1==i:\n",
    "        count=count+1\n",
    "print(count)\n",
    "    "
   ]
  },
  {
   "cell_type": "markdown",
   "metadata": {},
   "source": [
    "##### Note: If you need to know the process of this program go and check in day5 procedure.txt"
   ]
  },
  {
   "cell_type": "markdown",
   "metadata": {},
   "source": [
    "### 43. How to get sum and product of the given number"
   ]
  },
  {
   "cell_type": "code",
   "execution_count": 3,
   "metadata": {},
   "outputs": [
    {
     "name": "stdout",
     "output_type": "stream",
     "text": [
      "enter number74323\n",
      "sum=19,product=504\n"
     ]
    }
   ],
   "source": [
    "n=int(input(\"enter number\"))\n",
    "sum1=0\n",
    "product=1\n",
    "\n",
    "while(n>0):\n",
    "    r=n%10\n",
    "    sum1=sum1+r\n",
    "    product=product*r\n",
    "    n=n//10\n",
    "print(\"sum=%d,product=%d\"%(sum1,product))"
   ]
  },
  {
   "cell_type": "markdown",
   "metadata": {},
   "source": [
    "##### Note: If you need to know the process of this program go and check in day5 procedure.txt\n"
   ]
  },
  {
   "cell_type": "markdown",
   "metadata": {},
   "source": [
    "### 44. How make the binary search of number in an array"
   ]
  },
  {
   "cell_type": "code",
   "execution_count": 8,
   "metadata": {},
   "outputs": [
    {
     "name": "stdout",
     "output_type": "stream",
     "text": [
      "[2, 5, 9, 25, 27, 60, 65, 71, 71, 84]\n",
      "enter key for search:27\n",
      "Final key value is  4\n"
     ]
    }
   ],
   "source": [
    "from random import random\n",
    "n=10\n",
    "array=[]\n",
    "for i in range(10):\n",
    "    array.append(int(random()*100))\n",
    "array.sort()\n",
    "print(array)\n",
    "k=int(input(\"enter key for search:\"))\n",
    "mini=0\n",
    "maxi=n-1\n",
    "while mini<=maxi:\n",
    "    mid=(mini+maxi)//2\n",
    "    if k<array[mid]:\n",
    "        maxi=mid-1\n",
    "    elif k>array[mid]:\n",
    "        mini=mid+1\n",
    "    else:\n",
    "        print(\"Final key value is \",mid)\n",
    "        break\n",
    "else:\n",
    "    print(\"no roots\")\n"
   ]
  },
  {
   "cell_type": "markdown",
   "metadata": {},
   "source": [
    "##### Note: If you need to know the process of this program go and check in day5 procedure.txt\n"
   ]
  },
  {
   "cell_type": "markdown",
   "metadata": {},
   "source": [
    "### 45. 1,-0.5,0.25,-0.125.......... series..."
   ]
  },
  {
   "cell_type": "code",
   "execution_count": 13,
   "metadata": {},
   "outputs": [
    {
     "name": "stdout",
     "output_type": "stream",
     "text": [
      "enter number:4\n",
      "1 -0.5 0.25 -0.125 0.0625 "
     ]
    }
   ],
   "source": [
    "x=int(input(\"enter number:\"))\n",
    "z=0\n",
    "y=1\n",
    "sum1=0\n",
    "print(y,end=\" \")\n",
    "while z<x:\n",
    "    sum1=sum1+y\n",
    "    y=y/-2\n",
    "    z=z+1\n",
    "    print(y,end=\" \")\n"
   ]
  },
  {
   "cell_type": "markdown",
   "metadata": {},
   "source": [
    "##### Note: If you need to know the process of this program go and check in day5 procedure.txt"
   ]
  },
  {
   "cell_type": "markdown",
   "metadata": {},
   "source": [
    "### 46. Factorial of given number..(using for looop and while loop)"
   ]
  },
  {
   "cell_type": "code",
   "execution_count": 14,
   "metadata": {},
   "outputs": [
    {
     "name": "stdout",
     "output_type": "stream",
     "text": [
      "enter number:5\n",
      "120 "
     ]
    }
   ],
   "source": [
    "n=int(input(\"enter number:\"))\n",
    "temp=1\n",
    "z=1\n",
    "while(z<=n):\n",
    "    temp=temp*z\n",
    "    z=z+1\n",
    "print(temp,end=\" \")"
   ]
  },
  {
   "cell_type": "markdown",
   "metadata": {},
   "source": [
    "##### USING FOR LOOP"
   ]
  },
  {
   "cell_type": "code",
   "execution_count": 15,
   "metadata": {},
   "outputs": [
    {
     "name": "stdout",
     "output_type": "stream",
     "text": [
      "enter number:5\n",
      "120 "
     ]
    }
   ],
   "source": [
    "n=int(input(\"enter number:\"))\n",
    "temp=1\n",
    "for i in range(1,n+1):\n",
    "    temp=temp*i\n",
    "print(temp,end=\" \")"
   ]
  },
  {
   "cell_type": "markdown",
   "metadata": {},
   "source": [
    "### 47. How to get the maximum value of floating point number"
   ]
  },
  {
   "cell_type": "code",
   "execution_count": 16,
   "metadata": {},
   "outputs": [
    {
     "name": "stdout",
     "output_type": "stream",
     "text": [
      "enter floating number:157.254\n",
      "7 "
     ]
    }
   ],
   "source": [
    "x=float(input(\"enter floating number:\"))\n",
    "y=str(x)\n",
    "maxi=-1\n",
    "for i in range(len(y)):\n",
    "    if y[i]=='.':\n",
    "        continue\n",
    "    elif maxi<int(y[i]):\n",
    "        maxi=int(y[i])\n",
    "print(maxi,end=\" \")"
   ]
  },
  {
   "cell_type": "markdown",
   "metadata": {},
   "source": [
    "### 48. How to get the prime and complex numbers\n"
   ]
  },
  {
   "cell_type": "code",
   "execution_count": 20,
   "metadata": {},
   "outputs": [
    {
     "name": "stdout",
     "output_type": "stream",
     "text": [
      "enter number:97\n",
      "It is prime number\n"
     ]
    }
   ],
   "source": [
    "import math\n",
    "x=int(input(\"enter number:\"))\n",
    "if x==2:\n",
    "    print(\"It is prime enter more than 2\")\n",
    "if x<2:\n",
    "    print(\"enter more than 2\")\n",
    "    quit()\n",
    "    \n",
    "y=2\n",
    "num=math.sqrt(x)\n",
    "while y<=num:\n",
    "    if (x%y==0):\n",
    "        print(\"It is complex number\")\n",
    "        break\n",
    "    y=y+1\n",
    "else:\n",
    "    print(\"It is prime number\")"
   ]
  },
  {
   "cell_type": "markdown",
   "metadata": {},
   "source": [
    "##### Note: If you need to know the process of this program go and check in day5 procedure.txt"
   ]
  },
  {
   "cell_type": "markdown",
   "metadata": {},
   "source": [
    "### 49. How to expand the strings of alphabets"
   ]
  },
  {
   "cell_type": "code",
   "execution_count": 22,
   "metadata": {},
   "outputs": [
    {
     "name": "stdout",
     "output_type": "stream",
     "text": [
      "enter str1:a\n",
      "enter str2:e\n",
      "a b c d e \n"
     ]
    }
   ],
   "source": [
    "str1=(input('enter str1:'))\n",
    "str2=input(\"enter str2:\")\n",
    "while str1<=str2:\n",
    "    print(str1,end=\" \")\n",
    "    str1=chr(ord(str1)+1)\n",
    "print()"
   ]
  },
  {
   "cell_type": "markdown",
   "metadata": {},
   "source": [
    "##### Note: If you need to know the process of this program go and check in day5 procedure.txt"
   ]
  },
  {
   "cell_type": "markdown",
   "metadata": {},
   "source": [
    "### 50. How to replace the a substring of a string"
   ]
  },
  {
   "cell_type": "code",
   "execution_count": 8,
   "metadata": {},
   "outputs": [
    {
     "name": "stdout",
     "output_type": "stream",
     "text": [
      "Hello,world,Table\n",
      "choose substring:Table\n",
      "insert new string:manju\n"
     ]
    },
    {
     "ename": "TypeError",
     "evalue": "find() takes at least 1 argument (0 given)",
     "output_type": "error",
     "traceback": [
      "\u001b[1;31m---------------------------------------------------------------------------\u001b[0m",
      "\u001b[1;31mTypeError\u001b[0m                                 Traceback (most recent call last)",
      "\u001b[1;32m<ipython-input-8-ef752aa1985b>\u001b[0m in \u001b[0;36m<module>\u001b[1;34m\u001b[0m\n\u001b[0;32m      4\u001b[0m \u001b[0msubstr2\u001b[0m\u001b[1;33m=\u001b[0m\u001b[0minput\u001b[0m\u001b[1;33m(\u001b[0m\u001b[1;34m\"insert new string:\"\u001b[0m\u001b[1;33m)\u001b[0m\u001b[1;33m\u001b[0m\u001b[1;33m\u001b[0m\u001b[0m\n\u001b[0;32m      5\u001b[0m \u001b[0mlensubstr1\u001b[0m\u001b[1;33m=\u001b[0m\u001b[0mlen\u001b[0m\u001b[1;33m(\u001b[0m\u001b[0mstr1\u001b[0m\u001b[1;33m)\u001b[0m\u001b[1;33m\u001b[0m\u001b[1;33m\u001b[0m\u001b[0m\n\u001b[1;32m----> 6\u001b[1;33m \u001b[0mx\u001b[0m\u001b[1;33m=\u001b[0m \u001b[0mstr\u001b[0m\u001b[1;33m.\u001b[0m\u001b[0mfind\u001b[0m\u001b[1;33m(\u001b[0m\u001b[0msubstr11\u001b[0m\u001b[1;33m)\u001b[0m\u001b[1;33m>\u001b[0m\u001b[1;36m0\u001b[0m           \u001b[1;31m# line shows the suppose substr1=Table(5) means str.find(5>0) it iterates through that#\u001b[0m\u001b[1;33m\u001b[0m\u001b[1;33m\u001b[0m\u001b[0m\n\u001b[0m\u001b[0;32m      7\u001b[0m \u001b[0mprint\u001b[0m\u001b[1;33m(\u001b[0m\u001b[0mx\u001b[0m\u001b[1;33m)\u001b[0m\u001b[1;33m\u001b[0m\u001b[1;33m\u001b[0m\u001b[0m\n",
      "\u001b[1;31mTypeError\u001b[0m: find() takes at least 1 argument (0 given)"
     ]
    }
   ],
   "source": [
    "str1=\"Hello,world,Table\"\n",
    "print(str1)\n",
    "substr11=input(\"choose substring:\")\n",
    "substr2=input(\"insert new string:\")\n",
    "lensubstr1=len(str1)\n",
    "x= str.find(substr11)>0           # line shows the suppose substr1=Table(5) means str.find(5>0) it iterates through that#\n",
    "print(x)"
   ]
  },
  {
   "cell_type": "code",
   "execution_count": null,
   "metadata": {},
   "outputs": [],
   "source": []
  }
 ],
 "metadata": {
  "kernelspec": {
   "display_name": "Python 3",
   "language": "python",
   "name": "python3"
  },
  "language_info": {
   "codemirror_mode": {
    "name": "ipython",
    "version": 3
   },
   "file_extension": ".py",
   "mimetype": "text/x-python",
   "name": "python",
   "nbconvert_exporter": "python",
   "pygments_lexer": "ipython3",
   "version": "3.7.4"
  }
 },
 "nbformat": 4,
 "nbformat_minor": 2
}
