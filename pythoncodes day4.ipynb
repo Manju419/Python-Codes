{
 "cells": [
  {
   "cell_type": "markdown",
   "metadata": {},
   "source": [
    "## Day 4:\n",
    "\n",
    "##**Simple Programs\n",
    "\n",
    "Note: In this Chapter we discuss the python codes with clear explanations like how the program run with input values and how the statements work.\n",
    "\n",
    "Let's go ahead ......."
   ]
  },
  {
   "cell_type": "markdown",
   "metadata": {},
   "source": [
    "### 31. How to calculate the mass,density,volume"
   ]
  },
  {
   "cell_type": "code",
   "execution_count": 8,
   "metadata": {},
   "outputs": [
    {
     "name": "stdout",
     "output_type": "stream",
     "text": [
      "enter(m,d,v):m\n",
      "enter density:6\n",
      "enter volume:18\n",
      "108 "
     ]
    }
   ],
   "source": [
    "mdv=(input(\"enter(m,d,v):\"))\n",
    "if mdv=='m':\n",
    "    d=int(input(\"enter density:\"))\n",
    "    v=int(input(\"enter volume:\"))\n",
    "    print((d*v),end=\" \")\n",
    "elif mdv=='d':\n",
    "    m=int(input(\"enter mass:\"))\n",
    "    v=int(input(\"enter volume:\"))\n",
    "    print((m/v),end=\" \")\n",
    "elif mdv=='v':\n",
    "     m=int(input(\"enter mass:\"))\n",
    "     d=int(input(\"enter density:\"))\n",
    "     print((m/d),end=\" \")\n",
    "    \n"
   ]
  },
  {
   "cell_type": "markdown",
   "metadata": {},
   "source": [
    "##### Note: If you need to know the process of this program go and check in day4 procedure.txt"
   ]
  },
  {
   "cell_type": "markdown",
   "metadata": {},
   "source": [
    "### 32.How to determine the quadrant of point"
   ]
  },
  {
   "cell_type": "code",
   "execution_count": 12,
   "metadata": {},
   "outputs": [
    {
     "name": "stdout",
     "output_type": "stream",
     "text": [
      "enter a:4\n",
      "enter b:4\n",
      "enter c:-5\n",
      "x1:0.72,x2:-1.72\n"
     ]
    }
   ],
   "source": [
    "import math\n",
    "a=int(input(\"enter a:\"))\n",
    "b=int(input(\"enter b:\"))\n",
    "c=int(input(\"enter c:\"))\n",
    "y=b*b-4*a*c\n",
    "if(y>0):\n",
    "    x1=(-b+math.sqrt(y))/(2*a)\n",
    "    x2=(-b-math.sqrt(y))/(2*a)\n",
    "    print(\"x1:%.2f,x2:%.2f\"%(x1,x2))\n",
    "    \n",
    "else:\n",
    "    y1=-b/(2*a)\n",
    "    y2=-b/(2*a)\n",
    "    print(\"y1:%.2f,y2:%.2f\"%(y1,y2))"
   ]
  },
  {
   "cell_type": "markdown",
   "metadata": {},
   "source": [
    "##### Note: If you need to know the process of this program go and check in day4 procedure.txt"
   ]
  },
  {
   "cell_type": "markdown",
   "metadata": {},
   "source": [
    "### 33. How to determine if a triangle exist or not (based on side)\n"
   ]
  },
  {
   "cell_type": "code",
   "execution_count": 2,
   "metadata": {},
   "outputs": [
    {
     "name": "stdout",
     "output_type": "stream",
     "text": [
      "enter a:3\n",
      "enter b:4\n",
      "enter c:5\n",
      "Triangle is exists\n"
     ]
    }
   ],
   "source": [
    "a=int(input(\"enter a:\"))\n",
    "b=int(input(\"enter b:\"))\n",
    "c=int(input(\"enter c:\"))\n",
    "if(a+b>c)and(b+c>a)and(a+c>b):\n",
    "    print(\"Triangle is exists\")\n",
    "else:\n",
    "    print(\"Triangle is not exists\")"
   ]
  },
  {
   "cell_type": "markdown",
   "metadata": {},
   "source": [
    "### 34. How to check the if the point  belongs to circle\n",
    "\n",
    "**Hint:Based on the formulae we can say it belongs to circle or not i.e., h=sqrt(x*x+y*y)**\n",
    "\n",
    "**If h<=r means belongs to circle else it is not**"
   ]
  },
  {
   "cell_type": "code",
   "execution_count": 3,
   "metadata": {},
   "outputs": [
    {
     "name": "stdout",
     "output_type": "stream",
     "text": [
      "enter x:3\n",
      "enter y:4\n",
      "enter hypothenis:5\n",
      "It is belongs to circle\n"
     ]
    }
   ],
   "source": [
    "import math \n",
    "x=float(input(\"enter x:\"))\n",
    "y=float(input('enter y:'))\n",
    "r=float(input(\"enter hypothenis:\"))\n",
    "h=math.sqrt(pow(x,2)+pow(y,2))\n",
    "if(h<=r):\n",
    "    print(\"It is belongs to circle\")\n",
    "else:\n",
    "    print(\"It is not belongs to circle\")\n",
    "\n"
   ]
  },
  {
   "cell_type": "markdown",
   "metadata": {},
   "source": [
    "### 35. How to print ASCII table"
   ]
  },
  {
   "cell_type": "code",
   "execution_count": 13,
   "metadata": {},
   "outputs": [
    {
     "name": "stdout",
     "output_type": "stream",
     "text": [
      "  ! \" # $ % & ' ( ) \n",
      "* + , - . / 0 1 2 3 \n",
      "4 5 6 7 8 9 : ; < = \n",
      "> ? @ A B C D E F G \n",
      "H I J K L M N O P Q \n",
      "R S T U V W X Y Z [ \n",
      "\\ ] ^ _ ` a b c d e \n",
      "f g h i j k l m n o \n",
      "p q r s t u v w x y \n",
      "z { | } ~  \n"
     ]
    }
   ],
   "source": [
    "for i in range(32,128):\n",
    "    print(chr(i),end=\" \")\n",
    "    if((i-1)%10)==0:           # it shows the if suppose if(41-1)%10==0 it goes to  next line #\n",
    "        print()\n",
    "print()"
   ]
  },
  {
   "cell_type": "markdown",
   "metadata": {},
   "source": [
    "### 36. How to create the multiplication table using while,for loop"
   ]
  },
  {
   "cell_type": "code",
   "execution_count": 6,
   "metadata": {},
   "outputs": [
    {
     "name": "stdout",
     "output_type": "stream",
     "text": [
      "  1  2  3  4  5  6  7  8  9\n",
      "  2  4  6  8 10 12 14 16 18\n",
      "  3  6  9 12 15 18 21 24 27\n",
      "  4  8 12 16 20 24 28 32 36\n",
      "  5 10 15 20 25 30 35 40 45\n",
      "  6 12 18 24 30 36 42 48 54\n",
      "  7 14 21 28 35 42 49 56 63\n",
      "  8 16 24 32 40 48 56 64 72\n",
      "  9 18 27 36 45 54 63 72 81\n",
      "\n"
     ]
    }
   ],
   "source": [
    "x=1\n",
    "while x<10:\n",
    "    y=1\n",
    "    while y<10:\n",
    "        print(\"%3d\"%(x*y),end=\"\")\n",
    "        y=y+1\n",
    "    print()\n",
    "    x=x+1\n",
    "print()\n"
   ]
  },
  {
   "cell_type": "markdown",
   "metadata": {},
   "source": [
    "##### Using for loop"
   ]
  },
  {
   "cell_type": "code",
   "execution_count": 8,
   "metadata": {},
   "outputs": [
    {
     "name": "stdout",
     "output_type": "stream",
     "text": [
      "  1   2   3   4   5   6   7   8   9 \n",
      "  2   4   6   8  10  12  14  16  18 \n",
      "  3   6   9  12  15  18  21  24  27 \n",
      "  4   8  12  16  20  24  28  32  36 \n",
      "  5  10  15  20  25  30  35  40  45 \n",
      "  6  12  18  24  30  36  42  48  54 \n",
      "  7  14  21  28  35  42  49  56  63 \n",
      "  8  16  24  32  40  48  56  64  72 \n",
      "  9  18  27  36  45  54  63  72  81 \n",
      "\n"
     ]
    }
   ],
   "source": [
    "for i in range(1,10):\n",
    "    for j in range(1,10):\n",
    "        print(\"%3d\"%(i*j),end=\" \")\n",
    "    print()\n",
    "print()\n",
    "        "
   ]
  },
  {
   "cell_type": "markdown",
   "metadata": {},
   "source": [
    "### 37. How  to convert from base 2 to 9  "
   ]
  },
  {
   "cell_type": "code",
   "execution_count": 11,
   "metadata": {},
   "outputs": [
    {
     "name": "stdout",
     "output_type": "stream",
     "text": [
      "enter nbr:14\n",
      "enter base:2\n",
      "1110 \n"
     ]
    }
   ],
   "source": [
    "n=int(input('enter nbr:'))\n",
    "b=int(input('enter base:'))\n",
    "if not(2<=b<=9):\n",
    "    quit()\n",
    "    \n",
    "num2=\" \"\n",
    "while(n>0):\n",
    "    r=n%b\n",
    "    num2=num2+str(r)\n",
    "    n=n//b\n",
    "num2=num2[::-1]\n",
    "print(num2)"
   ]
  },
  {
   "cell_type": "markdown",
   "metadata": {},
   "source": [
    "##### Note: If you need to know the process of this program go and check in day4 procedure.txt"
   ]
  },
  {
   "cell_type": "markdown",
   "metadata": {},
   "source": [
    "### 38. How to built a   simple calculator"
   ]
  },
  {
   "cell_type": "code",
   "execution_count": 1,
   "metadata": {},
   "outputs": [
    {
     "name": "stdout",
     "output_type": "stream",
     "text": [
      "enter (+,-,*,/)/\n",
      "x:4\n",
      "y:2\n",
      "2 "
     ]
    }
   ],
   "source": [
    "while True:\n",
    "    a=input(\"enter (+,-,*,/)\")\n",
    "    if a == 0:\n",
    "        quit()\n",
    "    if a in ('+','-','/','*'):\n",
    "        x=int(input(\"x:\"))\n",
    "        y=int(input(\"y:\"))\n",
    "        \n",
    "        if a=='+':\n",
    "            s=x+y\n",
    "            print(s,end=\" \")\n",
    "            break\n",
    "            \n",
    "        elif a=='-':\n",
    "            s=x-y\n",
    "            print(s,end=\" \")\n",
    "            break\n",
    "        elif a=='*':\n",
    "            s=x*y\n",
    "            print(s,end=\" \")\n",
    "            break\n",
    "            \n",
    "        elif a=='/':\n",
    "            if y!=0:\n",
    "                print(x//y,end=\" \")\n",
    "                break\n",
    "            else:\n",
    "                print(\"No values\")\n",
    "            \n",
    "    "
   ]
  },
  {
   "cell_type": "markdown",
   "metadata": {},
   "source": [
    "### 39. How to count number of digits in given number"
   ]
  },
  {
   "cell_type": "code",
   "execution_count": 1,
   "metadata": {},
   "outputs": [
    {
     "name": "stdout",
     "output_type": "stream",
     "text": [
      "enter number:1204\n",
      "4 "
     ]
    }
   ],
   "source": [
    "n=int(input(\"enter number:\"))\n",
    "count=0\n",
    "if n==0:\n",
    "    count=1\n",
    "    n=n//10\n",
    "while(n>0):\n",
    "    r=n%10\n",
    "    if(r>=0):\n",
    "        count=count+1\n",
    "    n=n//10\n",
    "print(count,end=\" \")"
   ]
  },
  {
   "cell_type": "markdown",
   "metadata": {},
   "source": [
    "##### Note: If you need to know the process of this program go and check in day4 procedure.txt\n"
   ]
  },
  {
   "cell_type": "markdown",
   "metadata": {},
   "source": [
    "### 40.How to get the even and odd number of digits"
   ]
  },
  {
   "cell_type": "code",
   "execution_count": 2,
   "metadata": {},
   "outputs": [
    {
     "name": "stdout",
     "output_type": "stream",
     "text": [
      "enter number:12458\n",
      "Ev:3,Od:2\n"
     ]
    }
   ],
   "source": [
    "n=int(input(\"enter number:\"))\n",
    "ev=0\n",
    "od=0\n",
    "while(n>0):\n",
    "    if(n%2==0):\n",
    "        ev=ev+1\n",
    "    else:\n",
    "        od=od+1\n",
    "    n=n//10\n",
    "print(\"Ev:%d,Od:%d\"%(ev,od))"
   ]
  },
  {
   "cell_type": "markdown",
   "metadata": {},
   "source": [
    "##### Note: If you need to know the process of this program go and check in day4 procedure.txt"
   ]
  },
  {
   "cell_type": "code",
   "execution_count": null,
   "metadata": {},
   "outputs": [],
   "source": []
  }
 ],
 "metadata": {
  "kernelspec": {
   "display_name": "Python 3",
   "language": "python",
   "name": "python3"
  },
  "language_info": {
   "codemirror_mode": {
    "name": "ipython",
    "version": 3
   },
   "file_extension": ".py",
   "mimetype": "text/x-python",
   "name": "python",
   "nbconvert_exporter": "python",
   "pygments_lexer": "ipython3",
   "version": "3.7.4"
  }
 },
 "nbformat": 4,
 "nbformat_minor": 2
}
