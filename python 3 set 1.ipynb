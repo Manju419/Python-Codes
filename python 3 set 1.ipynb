{
 "cells": [
  {
   "cell_type": "markdown",
   "metadata": {},
   "source": [
    "### 0,0,2,1,4,2,6,3,8,4,10,5...."
   ]
  },
  {
   "cell_type": "code",
   "execution_count": 2,
   "metadata": {},
   "outputs": [
    {
     "name": "stdout",
     "output_type": "stream",
     "text": [
      "7\n",
      "6\n"
     ]
    }
   ],
   "source": [
    "n=int(input())\n",
    "def calsum(n):\n",
    "    if(n%2==0):\n",
    "        n=n//2\n",
    "        n=2*(n-1)\n",
    "        print(n//2)\n",
    "    else:\n",
    "        n=(n//2)+1\n",
    "        n=2*(n-1)\n",
    "        print(n)\n",
    "calsum(n)"
   ]
  },
  {
   "cell_type": "code",
   "execution_count": 5,
   "metadata": {},
   "outputs": [
    {
     "name": "stdout",
     "output_type": "stream",
     "text": [
      "10\n",
      "0 0 2 1 4 2 8 4 16 8 "
     ]
    }
   ],
   "source": [
    "n=int(input())\n",
    "a=0\n",
    "b=0\n",
    "c=2\n",
    "d=1\n",
    "print(a,b,c,d,end=\" \")\n",
    "for i in range(5,n+1):\n",
    "    if(i%2==1):\n",
    "        c=c*2\n",
    "        print(c,end=\" \")\n",
    "    else:\n",
    "        d=c//2\n",
    "        print(d,end=\" \")"
   ]
  },
  {
   "cell_type": "markdown",
   "metadata": {},
   "source": [
    "### 1,2,1,3,2,5,3,7....fib and prime"
   ]
  },
  {
   "cell_type": "code",
   "execution_count": 16,
   "metadata": {},
   "outputs": [
    {
     "name": "stdout",
     "output_type": "stream",
     "text": [
      "10\n",
      "11 "
     ]
    }
   ],
   "source": [
    "def fib(n):\n",
    "    a=1\n",
    "    b=1\n",
    "    count=0\n",
    "    if n<=0:\n",
    "        print(\"enter positive number\")   \n",
    "    elif n==1:\n",
    "        print(a)\n",
    "    else:\n",
    "        while count<n:\n",
    "            res=a+b\n",
    "            a=b\n",
    "            b=res\n",
    "            count+=1\n",
    "    print(a,end=\" \")\n",
    "        \n",
    "def prime(n):\n",
    "    count=0\n",
    "    for i in range(2,99999):\n",
    "        flag=0\n",
    "        for j in range(2,i):\n",
    "            if i%j==0:\n",
    "                flag=1\n",
    "                break\n",
    "        if flag==0:\n",
    "            count+=1\n",
    "            if count==n:\n",
    "                print(i,end=\" \")\n",
    "                break\n",
    "            \n",
    "n=int(input())      \n",
    "if n%2==1:\n",
    "    fib(n//2+1)\n",
    "else:\n",
    "    prime(n//2)"
   ]
  },
  {
   "cell_type": "code",
   "execution_count": 18,
   "metadata": {},
   "outputs": [
    {
     "name": "stdout",
     "output_type": "stream",
     "text": [
      "10\n",
      "11\n"
     ]
    }
   ],
   "source": [
    "def fibbo(n):\n",
    "    n1, n2 = 0, 1\n",
    "    count = 0\n",
    "    if n <= 0:\n",
    "       print(\"Please enter a positive integer\")\n",
    "    elif n == 1:\n",
    "       print(n1)\n",
    "    else:\n",
    "       while count < n:\n",
    "           nth = n1 + n2\n",
    "           n1 = n2\n",
    "           n2 = nth\n",
    "           count += 1\n",
    "           print(n1,end=\" \")\n",
    "\n",
    "def prime(n):\n",
    "    count = 0\n",
    "    for i in range(2, 99999):\n",
    "        flag=0\n",
    "        for j in range(2,i):\n",
    "            if (i % j == 0):\n",
    "                flag=1\n",
    "                break\n",
    "        if flag == 0:\n",
    "            count+=1\n",
    "            if count == n:\n",
    "                print(i)\n",
    "                break\n",
    " \n",
    "# main\n",
    "n = int(input())\n",
    "if n%2 == 1:\n",
    "    fibbo(n//2+1)\n",
    "else:\n",
    "    prime(n//2)"
   ]
  },
  {
   "cell_type": "markdown",
   "metadata": {},
   "source": [
    "### Frequency of count"
   ]
  },
  {
   "cell_type": "code",
   "execution_count": 10,
   "metadata": {},
   "outputs": [
    {
     "name": "stdout",
     "output_type": "stream",
     "text": [
      "1 1 4 5 5 5 6 7 8 8 \n",
      "9\n",
      "-1 "
     ]
    }
   ],
   "source": [
    "from random import randint\n",
    "y=[]\n",
    "for i in range(10):\n",
    "    y.append(randint(1,10))\n",
    "    y.sort()\n",
    "for i in y:\n",
    "    print(i,end=\" \")\n",
    "print()\n",
    "x=int(input())\n",
    "count=0\n",
    "    \n",
    "for i in y:\n",
    "    if x==i:\n",
    "        count=count+1\n",
    "    else:\n",
    "        count=-1\n",
    "        \n",
    "print(count,end=\" \")\n"
   ]
  },
  {
   "cell_type": "markdown",
   "metadata": {},
   "source": [
    "### LCS Problem"
   ]
  },
  {
   "cell_type": "code",
   "execution_count": 37,
   "metadata": {},
   "outputs": [
    {
     "name": "stdout",
     "output_type": "stream",
     "text": [
      "Length is 4\n"
     ]
    }
   ],
   "source": [
    "def lcs(X, Y, m, n):\n",
    "    if m==0 or n==0:\n",
    "        return 0\n",
    "    elif X[m-1]==Y[n-1]:\n",
    "        return lcs(X,Y,m-1,n-1)+1\n",
    "    else:\n",
    "        return max(lcs(X,Y,m,n-1),lcs(X,Y,m-1,n))\n",
    "X = \"AGGTAB\"\n",
    "Y = \"GXTXAYB\"\n",
    "print(\"Length is\",lcs(X,Y,len(X),len(Y)))"
   ]
  },
  {
   "cell_type": "code",
   "execution_count": 35,
   "metadata": {},
   "outputs": [
    {
     "name": "stdout",
     "output_type": "stream",
     "text": [
      "Length of LCS is  4\n"
     ]
    }
   ],
   "source": [
    "# A Naive recursive Python implementation of LCS problem\n",
    "def lcs(X, Y, m, n):\n",
    "    if m == 0 or n == 0:\n",
    "        return 0\n",
    "    elif X[m-1] == Y[n-1]:\n",
    "        return 1 + lcs(X, Y, m-1, n-1)\n",
    "    else:\n",
    "        return max(lcs(X, Y, m, n-1), lcs(X, Y, m-1, n))\n",
    "\n",
    "# Driver program to test the above function\n",
    "X = \"AGGTAB\"\n",
    "Y = \"GXTXAYB\"\n",
    "print(\"Length of LCS is \", lcs(X , Y, len(X), len(Y)))"
   ]
  },
  {
   "cell_type": "markdown",
   "metadata": {},
   "source": [
    "### Substrings of strings"
   ]
  },
  {
   "cell_type": "code",
   "execution_count": 43,
   "metadata": {},
   "outputs": [
    {
     "name": "stdout",
     "output_type": "stream",
     "text": [
      "abc\n",
      "a\n",
      "ab\n",
      "abc\n",
      "b\n",
      "bc\n",
      "c\n"
     ]
    }
   ],
   "source": [
    "str=input()\n",
    "n=len(str)\n",
    "for i in range(0,n):\n",
    "    for j in range(i+1,n+1):\n",
    "        print(str[i:j])"
   ]
  },
  {
   "cell_type": "markdown",
   "metadata": {},
   "source": [
    "### Pythogerous triplet"
   ]
  },
  {
   "cell_type": "code",
   "execution_count": 1,
   "metadata": {},
   "outputs": [
    {
     "name": "stdout",
     "output_type": "stream",
     "text": [
      "3 4 5\n",
      "8 6 10\n"
     ]
    }
   ],
   "source": [
    "def pythagoreanTriplets(limits) :\n",
    "    c, m = 0, 2\n",
    "    while c < limits :\n",
    "        for n in range(1, m) :\n",
    "            a = m * m - n * n\n",
    "            b = 2 * m * n\n",
    "            c = m * m + n * n\n",
    "            if c > limits :\n",
    "                break\n",
    "            print(a, b, c)\n",
    "        m = m + 1\n",
    "\n",
    "# Driver Code\n",
    "if __name__ == '__main__' :\n",
    "    limit = 10\n",
    "pythagoreanTriplets(limit)"
   ]
  },
  {
   "cell_type": "markdown",
   "metadata": {},
   "source": [
    "### Counting frequencies of array elements"
   ]
  },
  {
   "cell_type": "code",
   "execution_count": 16,
   "metadata": {},
   "outputs": [
    {
     "name": "stdout",
     "output_type": "stream",
     "text": [
      "3\n",
      "10\n",
      "20\n",
      "20\n",
      "10 20 20 "
     ]
    },
    {
     "ename": "TypeError",
     "evalue": "'int' object is not subscriptable",
     "output_type": "error",
     "traceback": [
      "\u001b[1;31m---------------------------------------------------------------------------\u001b[0m",
      "\u001b[1;31mTypeError\u001b[0m                                 Traceback (most recent call last)",
      "\u001b[1;32m<ipython-input-16-56f4cb6c2a60>\u001b[0m in \u001b[0;36m<module>\u001b[1;34m\u001b[0m\n\u001b[0;32m     21\u001b[0m             \u001b[1;32mfor\u001b[0m \u001b[0mi\u001b[0m \u001b[1;32min\u001b[0m \u001b[0mrange\u001b[0m\u001b[1;33m(\u001b[0m\u001b[1;36m0\u001b[0m\u001b[1;33m,\u001b[0m\u001b[0mn\u001b[0m\u001b[1;33m)\u001b[0m\u001b[1;33m:\u001b[0m\u001b[1;33m\u001b[0m\u001b[1;33m\u001b[0m\u001b[0m\n\u001b[0;32m     22\u001b[0m                 \u001b[1;32mif\u001b[0m \u001b[0mfreq\u001b[0m\u001b[1;33m!=\u001b[0m\u001b[1;36m0\u001b[0m\u001b[1;33m:\u001b[0m\u001b[1;33m\u001b[0m\u001b[1;33m\u001b[0m\u001b[0m\n\u001b[1;32m---> 23\u001b[1;33m                     \u001b[0mprint\u001b[0m\u001b[1;33m(\u001b[0m\u001b[0marr\u001b[0m\u001b[1;33m[\u001b[0m\u001b[0mi\u001b[0m\u001b[1;33m]\u001b[0m\u001b[1;33m,\u001b[0m \u001b[1;34m\"occurs \"\u001b[0m\u001b[1;33m,\u001b[0m\u001b[0mint\u001b[0m\u001b[1;33m(\u001b[0m\u001b[0mfreq\u001b[0m\u001b[1;33m[\u001b[0m\u001b[0mi\u001b[0m\u001b[1;33m]\u001b[0m\u001b[1;33m)\u001b[0m\u001b[1;33m,\u001b[0m \u001b[1;34m\"times\"\u001b[0m\u001b[1;33m)\u001b[0m\u001b[1;33m\u001b[0m\u001b[1;33m\u001b[0m\u001b[0m\n\u001b[0m\u001b[0;32m     24\u001b[0m \u001b[1;33m\u001b[0m\u001b[0m\n\u001b[0;32m     25\u001b[0m \u001b[1;33m\u001b[0m\u001b[0m\n",
      "\u001b[1;31mTypeError\u001b[0m: 'int' object is not subscriptable"
     ]
    }
   ],
   "source": [
    "n=int(input())\n",
    "arr=[]\n",
    "freq=[-1]*n\n",
    "for i in range(n):\n",
    "    temp=int(input())\n",
    "    arr.append(temp)\n",
    "    \n",
    "for i in arr:\n",
    "    print(i,end=\" \")\n",
    "    \n",
    "for i in range(n):\n",
    "    count=1\n",
    "    for j in range(i+1,n):\n",
    "        if arr[i]==arr[j]:\n",
    "            count+=1\n",
    "            freq[j]=0\n",
    "            \n",
    "            if freq[i]!=0:\n",
    "                freq=count\n",
    "                \n",
    "            for i in range(0,n):\n",
    "                if freq!=0:\n",
    "                    print(arr[i], \"occurs \",int(freq[i]), \"times\")\n",
    "\n",
    "                    "
   ]
  },
  {
   "cell_type": "markdown",
   "metadata": {},
   "source": [
    "### Reverse a string"
   ]
  },
  {
   "cell_type": "code",
   "execution_count": 2,
   "metadata": {},
   "outputs": [
    {
     "name": "stdout",
     "output_type": "stream",
     "text": [
      "The original string  is : PrepInsta\n",
      "The reversed string(using loops) is : atsnIperP\n"
     ]
    }
   ],
   "source": [
    "def reverse(s): \n",
    "  str = \"\" \n",
    "  for i in s: \n",
    "    str = i + str\n",
    "  return str\n",
    "  \n",
    "s = \"PrepInsta\"\n",
    "  \n",
    "print (\"The original string  is : \",end=\"\") \n",
    "print (s) \n",
    "  \n",
    "print (\"The reversed string(using loops) is : \",end=\"\") \n",
    "print (reverse(s)) "
   ]
  },
  {
   "cell_type": "code",
   "execution_count": 5,
   "metadata": {},
   "outputs": [
    {
     "name": "stdout",
     "output_type": "stream",
     "text": [
      "enter stringababa\n",
      "palindrome\n"
     ]
    }
   ],
   "source": [
    "str1=input(\"enter string\")\n",
    "lenstr=len(str1)\n",
    "for i in range(lenstr//2):\n",
    "    if str1[i]!=str1[-1-i]:\n",
    "        print(\"not palindrome\")\n",
    "        break\n",
    "    else:\n",
    "        print(\"palindrome\")\n",
    "        break"
   ]
  },
  {
   "cell_type": "markdown",
   "metadata": {},
   "source": [
    "### Gcd of three numbers"
   ]
  },
  {
   "cell_type": "code",
   "execution_count": 15,
   "metadata": {},
   "outputs": [
    {
     "name": "stdout",
     "output_type": "stream",
     "text": [
      "4\n",
      "2\n",
      "6\n",
      "Gcd of three numbers: 2\n"
     ]
    }
   ],
   "source": [
    "\n",
    "a=int(input())\n",
    "b=int(input())\n",
    "c=int(input())\n",
    "def gcd(a,b):\n",
    "    if b!=0:\n",
    "        return gcd(b,a%b)\n",
    "    else:\n",
    "        return a\n",
    "    \n",
    "gcd(a,b)\n",
    "x=gcd(a,gcd(b,c))\n",
    "print(\"Gcd of three numbers:\",x)"
   ]
  },
  {
   "cell_type": "markdown",
   "metadata": {},
   "source": [
    "### Second largest element in the array"
   ]
  },
  {
   "cell_type": "code",
   "execution_count": 21,
   "metadata": {},
   "outputs": [
    {
     "name": "stdout",
     "output_type": "stream",
     "text": [
      "2\n",
      "1\n",
      "5\n",
      "6\n",
      "9\n",
      "9 6 5 2 1 \n",
      "6 "
     ]
    }
   ],
   "source": [
    "n=5\n",
    "y=[]\n",
    "for i in range(n):\n",
    "    x=int(input())\n",
    "    y.append(x)\n",
    "    y.sort(reverse=True)\n",
    "for i in y:\n",
    "    print(i,end=\" \")\n",
    "print()\n",
    "    \n",
    "print(y[1],end=\" \")"
   ]
  },
  {
   "cell_type": "markdown",
   "metadata": {},
   "source": [
    "### Sum of the prime of given range"
   ]
  },
  {
   "cell_type": "code",
   "execution_count": 26,
   "metadata": {},
   "outputs": [
    {
     "name": "stdout",
     "output_type": "stream",
     "text": [
      "enter start:4\n",
      "enter end:13\n",
      "36 "
     ]
    }
   ],
   "source": [
    "start=int(input(\"enter start:\"))\n",
    "end=int(input(\"enter end:\"))\n",
    "sum1=0\n",
    "for i in range(start,end+1):\n",
    "    if i==1:\n",
    "        continue\n",
    "    for j in range(2,(i//2)+1):\n",
    "        if i%j==0:\n",
    "            break\n",
    "    else:\n",
    "        sum1=sum1+i\n",
    "print(sum1,end=\" \")"
   ]
  },
  {
   "cell_type": "code",
   "execution_count": 38,
   "metadata": {},
   "outputs": [
    {
     "name": "stdout",
     "output_type": "stream",
     "text": [
      "3 4 5\n",
      "binary Addition is: 1100\n"
     ]
    }
   ],
   "source": [
    "a,b,c=map(int, input().split(\" \"))\n",
    "sum=a+b+c\n",
    "x=bin(sum).replace(\"0b\",\"\")\n",
    "print(\"binary Addition is:\",x)"
   ]
  },
  {
   "cell_type": "markdown",
   "metadata": {},
   "source": [
    "### Write a program to multiply a number by 8 without using the * operator\n",
    "\n"
   ]
  },
  {
   "cell_type": "code",
   "execution_count": 46,
   "metadata": {},
   "outputs": [
    {
     "name": "stdout",
     "output_type": "stream",
     "text": [
      "7\n",
      "105\n"
     ]
    }
   ],
   "source": [
    "def without(n):\n",
    "    prod=(n<<4)\n",
    "    prod=prod-n\n",
    "    return prod\n",
    "n=int(input())\n",
    "print(without(n))"
   ]
  },
  {
   "cell_type": "markdown",
   "metadata": {},
   "source": [
    "### Provide a fast way to multiply a number by 31"
   ]
  },
  {
   "cell_type": "code",
   "execution_count": 62,
   "metadata": {},
   "outputs": [
    {
     "name": "stdout",
     "output_type": "stream",
     "text": [
      "\n"
     ]
    },
    {
     "ename": "ValueError",
     "evalue": "invalid literal for int() with base 10: ''",
     "output_type": "error",
     "traceback": [
      "\u001b[1;31m---------------------------------------------------------------------------\u001b[0m",
      "\u001b[1;31mValueError\u001b[0m                                Traceback (most recent call last)",
      "\u001b[1;32m<ipython-input-62-8bd65503cb42>\u001b[0m in \u001b[0;36m<module>\u001b[1;34m\u001b[0m\n\u001b[1;32m----> 1\u001b[1;33m \u001b[0mt\u001b[0m\u001b[1;33m=\u001b[0m\u001b[0mint\u001b[0m\u001b[1;33m(\u001b[0m\u001b[0minput\u001b[0m\u001b[1;33m(\u001b[0m\u001b[1;33m)\u001b[0m\u001b[1;33m)\u001b[0m\u001b[1;33m\u001b[0m\u001b[1;33m\u001b[0m\u001b[0m\n\u001b[0m\u001b[0;32m      2\u001b[0m \u001b[0mn\u001b[0m\u001b[1;33m=\u001b[0m\u001b[0mt\u001b[0m\u001b[1;33m\u001b[0m\u001b[1;33m\u001b[0m\u001b[0m\n\u001b[0;32m      3\u001b[0m \u001b[0mn\u001b[0m\u001b[1;33m=\u001b[0m\u001b[0mn\u001b[0m\u001b[1;33m<<\u001b[0m\u001b[1;36m5\u001b[0m\u001b[1;33m\u001b[0m\u001b[1;33m\u001b[0m\u001b[0m\n\u001b[0;32m      4\u001b[0m \u001b[0mn\u001b[0m\u001b[1;33m=\u001b[0m\u001b[0mn\u001b[0m\u001b[1;33m-\u001b[0m\u001b[0mt\u001b[0m\u001b[1;33m\u001b[0m\u001b[1;33m\u001b[0m\u001b[0m\n\u001b[0;32m      5\u001b[0m \u001b[0mprint\u001b[0m\u001b[1;33m(\u001b[0m\u001b[0mn\u001b[0m\u001b[1;33m,\u001b[0m\u001b[0mend\u001b[0m\u001b[1;33m=\u001b[0m\u001b[1;34m\" \"\u001b[0m\u001b[1;33m)\u001b[0m\u001b[1;33m\u001b[0m\u001b[1;33m\u001b[0m\u001b[0m\n",
      "\u001b[1;31mValueError\u001b[0m: invalid literal for int() with base 10: ''"
     ]
    }
   ],
   "source": [
    "t=int(input())\n",
    "n=t\n",
    "n=n<<5\n",
    "n=n-t\n",
    "print(n,end=\" \")"
   ]
  },
  {
   "cell_type": "code",
   "execution_count": 11,
   "metadata": {},
   "outputs": [
    {
     "name": "stdout",
     "output_type": "stream",
     "text": [
      "5\n",
      "0 0 3 3 3 \n",
      "\n",
      "3 3 3 0 0 "
     ]
    }
   ],
   "source": [
    "from random import randint\n",
    "arr=[]\n",
    "n=int(input())\n",
    "for i in range(n):\n",
    "    arr.append(randint(0,3))\n",
    "for i in arr:\n",
    "    print(i,end=\" \")\n",
    "print()\n",
    "for i in arr:\n",
    "        if i==0:\n",
    "            arr.remove(i)\n",
    "            arr.append(i)\n",
    "print()\n",
    "for i in arr:\n",
    "    print(i,end=\" \")"
   ]
  },
  {
   "cell_type": "markdown",
   "metadata": {},
   "source": [
    "### Count Uppercase, Lowercase, special character and numeric values"
   ]
  },
  {
   "cell_type": "code",
   "execution_count": 2,
   "metadata": {},
   "outputs": [
    {
     "name": "stdout",
     "output_type": "stream",
     "text": [
      "*GeEkS4GeEkS*\n",
      "Upprcase : 6\n",
      "Lowercase : 4\n",
      "Digitscase : 1\n",
      "Specialcase : 2\n"
     ]
    }
   ],
   "source": [
    "def count(str1):\n",
    "    upper,lower,special,digit=0,0,0,0\n",
    "    for i in range(len(str1)):\n",
    "        if str1[i].isupper():\n",
    "            upper+=1\n",
    "        elif str1[i].islower():\n",
    "            lower+=1\n",
    "        elif str1[i].isdigit():\n",
    "            digit+=1\n",
    "        else:\n",
    "            special+=1\n",
    "            \n",
    "    print(\"Upprcase :\",upper)\n",
    "    print(\"Lowercase :\",lower)\n",
    "    print(\"Digitscase :\",digit)\n",
    "    print(\"Specialcase :\",special)\n",
    "str1=input()\n",
    "count(str1)"
   ]
  },
  {
   "cell_type": "markdown",
   "metadata": {},
   "source": [
    "### Write a Program to remove vowels from a string?"
   ]
  },
  {
   "cell_type": "code",
   "execution_count": 5,
   "metadata": {},
   "outputs": [
    {
     "name": "stdout",
     "output_type": "stream",
     "text": [
      "what is your name ?\n",
      "wht s yr nm ?\n"
     ]
    }
   ],
   "source": [
    "def removevowel(str1):\n",
    "    vowel={'a','e','i','o','u'}\n",
    "    for i in str1.lower():\n",
    "        if i in vowel:\n",
    "            str1=str1.replace(i,\"\")\n",
    "            \n",
    "    print(str1)\n",
    "str1=input()\n",
    "removevowel(str1)"
   ]
  },
  {
   "cell_type": "code",
   "execution_count": 10,
   "metadata": {},
   "outputs": [
    {
     "name": "stdout",
     "output_type": "stream",
     "text": [
      "3\n",
      "3\n",
      "\n",
      "\n",
      "\n",
      "\n",
      "\n",
      "\n",
      "\n",
      "\n",
      "\n",
      "[[0, 0, 0], [0, 0, 0], [0, 0, 0]]\n",
      "\n"
     ]
    }
   ],
   "source": [
    "M=[]\n",
    "n=int(input())\n",
    "m=int(input())\n",
    "for j in range(n):\n",
    "   l=[]\n",
    "   for k in range(m):\n",
    "       l.append(0)\n",
    "   M.append(l)\n",
    "print(M)"
   ]
  },
  {
   "cell_type": "markdown",
   "metadata": {},
   "source": [
    "### Kangaroos at x1 with v1 meters away to it"
   ]
  },
  {
   "cell_type": "code",
   "execution_count": 18,
   "metadata": {},
   "outputs": [
    {
     "name": "stdout",
     "output_type": "stream",
     "text": [
      "2 9 6 12\n",
      "No\n"
     ]
    }
   ],
   "source": [
    "x1,v1,x2,v2=map(int,input().split())\n",
    "x=[x1,v1]\n",
    "y=[x2,v2]\n",
    "back=min(x,y)\n",
    "fwd=max(x,y)\n",
    "dist=fwd[0]-back[0]\n",
    "\n",
    "while back[0]<fwd[0]:\n",
    "    back[0]+=back[1]\n",
    "    fwd[0]+=fwd[1]\n",
    "    if fwd[0]-back[0]>=dist:\n",
    "        break\n",
    "if(fwd[0]==back[0]):\n",
    "    print(\"yes\")\n",
    "else:\n",
    "    print(\"No\")\n"
   ]
  },
  {
   "cell_type": "code",
   "execution_count": 7,
   "metadata": {},
   "outputs": [
    {
     "name": "stdout",
     "output_type": "stream",
     "text": [
      "2 9 6 12\n",
      "[2, 9]\n",
      "[6, 12]\n",
      "2\n",
      "6\n"
     ]
    }
   ],
   "source": [
    "x1,v1,x2,v2=map(int,input().split())\n",
    "x=[x1,v1]\n",
    "y=[x2,v2]\n",
    "back=min(x,y)\n",
    "fwd=max(x,y)\n",
    "print(back)\n",
    "print(fwd)\n",
    "print(back[0])\n",
    "print(fwd[0])"
   ]
  },
  {
   "cell_type": "code",
   "execution_count": 16,
   "metadata": {},
   "outputs": [
    {
     "name": "stdout",
     "output_type": "stream",
     "text": [
      "1 5 2 6\n",
      "[1, 5]\n"
     ]
    }
   ],
   "source": [
    "x1,v1,x2,v2=map(int,input().split())\n",
    "x=[x1,v1]\n",
    "y=[x2,v2]\n",
    "print(min(x,y))"
   ]
  },
  {
   "cell_type": "code",
   "execution_count": 24,
   "metadata": {},
   "outputs": [
    {
     "name": "stdout",
     "output_type": "stream",
     "text": [
      "   1    2    5 \n",
      "   8   18    1 \n",
      "   6    4   16 \n",
      "\n"
     ]
    }
   ],
   "source": [
    "from random import randint\n",
    "row=3\n",
    "my=[]\n",
    "for i in range(row):\n",
    "    my1=[]\n",
    "    for j in range(row):\n",
    "        my1.append(randint(1,20))\n",
    "        print(\"%4d\"%my1[j],end=\" \")\n",
    "    my.append(my1)\n",
    "    print()\n",
    "print()"
   ]
  },
  {
   "cell_type": "code",
   "execution_count": 28,
   "metadata": {},
   "outputs": [
    {
     "name": "stdout",
     "output_type": "stream",
     "text": [
      "3\n",
      "[1, 4, 3]\n",
      "[1, 4, 4]\n",
      "[3, 2, 1]\n",
      "\n"
     ]
    },
    {
     "data": {
      "text/plain": [
       "4"
      ]
     },
     "execution_count": 28,
     "metadata": {},
     "output_type": "execute_result"
    }
   ],
   "source": [
    "from random import randint\n",
    "n=int(input())\n",
    "arr=[]\n",
    "for i in range(n):\n",
    "    my1=[]\n",
    "    for j in range(n):\n",
    "        my1.append(randint(1,5))\n",
    "    arr.append(my1)\n",
    "for i in arr:\n",
    "    print (i)\n",
    "print()\n",
    "def diagonal(arr,n):\n",
    "    d1=0\n",
    "    d2=0\n",
    "    for i in range(0,n):\n",
    "        d1=d1+arr[i][i]\n",
    "        d2=d2+arr[i][n-i-1]\n",
    "    return abs(d2-d1)\n",
    "diagonal(arr,n)\n"
   ]
  },
  {
   "cell_type": "code",
   "execution_count": 29,
   "metadata": {},
   "outputs": [
    {
     "name": "stdout",
     "output_type": "stream",
     "text": [
      "3\n"
     ]
    }
   ],
   "source": [
    "A = [[12, 7, 3], \n",
    "    [4, 5, 6], \n",
    "    [7, 8, 9]] \n",
    "  \n",
    "print(len(A))"
   ]
  },
  {
   "cell_type": "code",
   "execution_count": 32,
   "metadata": {},
   "outputs": [
    {
     "name": "stdout",
     "output_type": "stream",
     "text": [
      "3\n",
      "[6, 7, 3, 0]\n"
     ]
    }
   ],
   "source": [
    "b= [[5, 8, 1, 2], \n",
    "    [6, 7, 3, 0], \n",
    "    [4, 5, 9, 1]] \n",
    "\n",
    "print(len(b))\n",
    "print(b[1])"
   ]
  },
  {
   "cell_type": "markdown",
   "metadata": {},
   "source": [
    "### Multiplication of matrix"
   ]
  },
  {
   "cell_type": "code",
   "execution_count": 49,
   "metadata": {},
   "outputs": [
    {
     "name": "stdout",
     "output_type": "stream",
     "text": [
      "2\n",
      "2\n",
      "arr1:\n",
      "[4, 1]\n",
      "[5, 1]\n",
      "arr2:\n",
      "[9, 2]\n",
      "[4, 1]\n",
      "[40, 9]\n",
      "[49, 11]\n"
     ]
    }
   ],
   "source": [
    "from random import randint\n",
    "row=int(input())\n",
    "col=int(input())\n",
    "arr1=[]\n",
    "for i in range(row):\n",
    "    my1=[]\n",
    "    for j in range(col):\n",
    "        my1.append(randint(1,5))\n",
    "    arr1.append(my1)\n",
    "\n",
    "print (\"arr1:\")\n",
    "for i in arr1:\n",
    "    print (i)\n",
    "\n",
    "\n",
    "arr2=[]\n",
    "for i in range(row):\n",
    "    my1=[]\n",
    "    for j in range(col):\n",
    "        my1.append(randint(1,10))\n",
    "    arr2.append(my1)\n",
    "\n",
    "print (\"arr2:\")\n",
    "for i in arr2:\n",
    "    print (i)\n",
    "\n",
    "res= [[0 for j in range(col)] for i in range(row)]\n",
    "for i in range(len(arr1)):\n",
    "    for j in range(len(arr2[0])):\n",
    "        for k in range(len(arr2)):\n",
    "            res[i][j]+=arr1[i][k]*arr2[k][j]\n",
    "\n",
    "for i in res:\n",
    "    print (i)\n",
    "            \n"
   ]
  },
  {
   "cell_type": "markdown",
   "metadata": {},
   "source": [
    "###### note: If we use the rol=2 and col=3 getting error check"
   ]
  },
  {
   "cell_type": "markdown",
   "metadata": {},
   "source": [
    "### Transpose of the matrix"
   ]
  },
  {
   "cell_type": "code",
   "execution_count": 57,
   "metadata": {},
   "outputs": [
    {
     "name": "stdout",
     "output_type": "stream",
     "text": [
      "3\n",
      "2\n",
      "arr1:\n",
      "[5, 5]\n",
      "[5, 4]\n",
      "[4, 1]\n",
      "\n",
      "\n",
      "[5, 5, 4]\n",
      "[5, 4, 1]\n"
     ]
    }
   ],
   "source": [
    "from random import randint\n",
    "row=int(input())\n",
    "col=int(input())\n",
    "arr1=[]\n",
    "for i in range(row):\n",
    "    my1=[]\n",
    "    for j in range(col):\n",
    "        my1.append(randint(1,5))\n",
    "    arr1.append(my1)\n",
    "\n",
    "print (\"arr1:\")\n",
    "for i in arr1:\n",
    "    print (i)\n",
    "\n",
    "rez = [[arr1[j][i] for j in range(len(arr1))] for i in range(len(arr1[0]))] \n",
    "print(\"\\n\")\n",
    "for i in rez:\n",
    "    print (i)"
   ]
  },
  {
   "cell_type": "code",
   "execution_count": 59,
   "metadata": {},
   "outputs": [
    {
     "name": "stdout",
     "output_type": "stream",
     "text": [
      "5 3\n",
      "12 4 5 1\n",
      "2 4 5 8\n",
      "99\n"
     ]
    }
   ],
   "source": [
    "import sys\n",
    "\n",
    "n,m=map(int,input().split())\n",
    "a= map(int,input().split())\n",
    "b= map(int,input().split())\n",
    "cnt  = 0\n",
    "for i in range(1, 101 ):\n",
    "    works = True\n",
    "    for j in a:\n",
    "        if i % j != 0:\n",
    "            works = False\n",
    "    for j in b:\n",
    "        if j % i != 0:\n",
    "            works  = False\n",
    "    if works :\n",
    "        cnt += 1\n",
    "print (cnt)"
   ]
  },
  {
   "cell_type": "markdown",
   "metadata": {},
   "source": [
    "### Bird migration with smallest number"
   ]
  },
  {
   "cell_type": "code",
   "execution_count": 62,
   "metadata": {},
   "outputs": [
    {
     "name": "stdout",
     "output_type": "stream",
     "text": [
      "5\n",
      "1 2 4 2\n"
     ]
    },
    {
     "ename": "ValueError",
     "evalue": "3 is not in list",
     "output_type": "error",
     "traceback": [
      "\u001b[1;31m---------------------------------------------------------------------------\u001b[0m",
      "\u001b[1;31mValueError\u001b[0m                                Traceback (most recent call last)",
      "\u001b[1;32m<ipython-input-62-616c9998c07a>\u001b[0m in \u001b[0;36m<module>\u001b[1;34m\u001b[0m\n\u001b[0;32m      4\u001b[0m \u001b[1;32mfor\u001b[0m \u001b[0mi\u001b[0m \u001b[1;32min\u001b[0m \u001b[0mrange\u001b[0m\u001b[1;33m(\u001b[0m\u001b[1;36m1\u001b[0m\u001b[1;33m,\u001b[0m\u001b[0mn\u001b[0m\u001b[1;33m+\u001b[0m\u001b[1;36m1\u001b[0m\u001b[1;33m)\u001b[0m\u001b[1;33m:\u001b[0m\u001b[1;33m\u001b[0m\u001b[1;33m\u001b[0m\u001b[0m\n\u001b[0;32m      5\u001b[0m     \u001b[0mout\u001b[0m\u001b[1;33m.\u001b[0m\u001b[0mappend\u001b[0m\u001b[1;33m(\u001b[0m\u001b[0marr\u001b[0m\u001b[1;33m.\u001b[0m\u001b[0mcount\u001b[0m\u001b[1;33m(\u001b[0m\u001b[0mi\u001b[0m\u001b[1;33m)\u001b[0m\u001b[1;33m)\u001b[0m\u001b[1;33m\u001b[0m\u001b[1;33m\u001b[0m\u001b[0m\n\u001b[1;32m----> 6\u001b[1;33m \u001b[0mprint\u001b[0m\u001b[1;33m(\u001b[0m\u001b[0mout\u001b[0m\u001b[1;33m.\u001b[0m\u001b[0mindex\u001b[0m\u001b[1;33m(\u001b[0m\u001b[0mmax\u001b[0m\u001b[1;33m(\u001b[0m\u001b[0mout\u001b[0m\u001b[1;33m)\u001b[0m\u001b[1;33m+\u001b[0m\u001b[1;36m1\u001b[0m\u001b[1;33m)\u001b[0m\u001b[1;33m)\u001b[0m\u001b[1;33m\u001b[0m\u001b[1;33m\u001b[0m\u001b[0m\n\u001b[0m",
      "\u001b[1;31mValueError\u001b[0m: 3 is not in list"
     ]
    }
   ],
   "source": [
    "n=int(input())\n",
    "arr=list(map(int,input().split()))\n",
    "out=[]\n",
    "for i in range(1,n+1):\n",
    "    out.append(arr.count(i))\n",
    "print(out.index(max(out)+1))"
   ]
  },
  {
   "cell_type": "markdown",
   "metadata": {},
   "source": [
    "### Bird slighting "
   ]
  },
  {
   "cell_type": "code",
   "execution_count": 74,
   "metadata": {},
   "outputs": [
    {
     "name": "stdout",
     "output_type": "stream",
     "text": [
      "4\n",
      "4 2 1 9 5\n",
      "1\n"
     ]
    }
   ],
   "source": [
    "n=int(input())\n",
    "arr=list(map(int,input().split()))\n",
    "out=[]\n",
    "for i in range(1,n+1):\n",
    "    out.append(arr.count(i))\n",
    "print(out.index(max(out))+1)"
   ]
  },
  {
   "cell_type": "code",
   "execution_count": 1,
   "metadata": {},
   "outputs": [
    {
     "name": "stdout",
     "output_type": "stream",
     "text": [
      "2\n",
      "1 2 3\n",
      "Cat B\n",
      "1 3 2\n",
      "Mouse C\n"
     ]
    }
   ],
   "source": [
    "for _ in range(int(input())):\n",
    "    x,y,z=map(int,input().split())\n",
    "    if x==y:\n",
    "        print(\"Mouse C\")\n",
    "    elif x==z:print(\"Cat A\")\n",
    "    elif y==z:print(\"Cat B\")\n",
    "    elif (x>z and y<z) or (x<z and y>z):\n",
    "        if abs(x-z)==abs(y-z):\n",
    "            print(\"Mouse C\")\n",
    "        elif min(abs(x-z),abs(y-z))==abs(x-z):\n",
    "            print(\"Cat A\")\n",
    "        else:\n",
    "            print(\"Cat B\")\n",
    "\n",
    "    elif (x<z and y<z and x<y) or (x<z and y<z and x>y):\n",
    "        a=max(x,y)\n",
    "        if a==y:\n",
    "            print(\"Cat B\")\n",
    "        else:\n",
    "            print(\"Cat A\")\n",
    "    elif (x>z and y>z and y>x) or (x>z and y>z and y<x):\n",
    "        b=min(x,y)\n",
    "        if b==x:\n",
    "            print(\"Cat A\")\n",
    "        else:\n",
    "            print(\"Cat B\")"
   ]
  },
  {
   "cell_type": "code",
   "execution_count": null,
   "metadata": {},
   "outputs": [],
   "source": []
  }
 ],
 "metadata": {
  "kernelspec": {
   "display_name": "Python 3",
   "language": "python",
   "name": "python3"
  },
  "language_info": {
   "codemirror_mode": {
    "name": "ipython",
    "version": 3
   },
   "file_extension": ".py",
   "mimetype": "text/x-python",
   "name": "python",
   "nbconvert_exporter": "python",
   "pygments_lexer": "ipython3",
   "version": "3.7.4"
  }
 },
 "nbformat": 4,
 "nbformat_minor": 2
}
