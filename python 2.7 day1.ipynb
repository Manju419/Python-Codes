{
 "cells": [
  {
   "cell_type": "markdown",
   "metadata": {},
   "source": [
    "### count the numbers"
   ]
  },
  {
   "cell_type": "code",
   "execution_count": 1,
   "metadata": {},
   "outputs": [
    {
     "ename": "SyntaxError",
     "evalue": "Missing parentheses in call to 'print'. Did you mean print(count)? (<ipython-input-1-236dce4193e8>, line 11)",
     "output_type": "error",
     "traceback": [
      "\u001b[1;36m  File \u001b[1;32m\"<ipython-input-1-236dce4193e8>\"\u001b[1;36m, line \u001b[1;32m11\u001b[0m\n\u001b[1;33m    print count\u001b[0m\n\u001b[1;37m              ^\u001b[0m\n\u001b[1;31mSyntaxError\u001b[0m\u001b[1;31m:\u001b[0m Missing parentheses in call to 'print'. Did you mean print(count)?\n"
     ]
    }
   ],
   "source": [
    "n=int(raw_input(\"enter number:\"))\n",
    "count=0\n",
    "if n==0:\n",
    "    count=1\n",
    "while(n>0):\n",
    "    r=n%10\n",
    "    if r>=0:\n",
    "        count+=1\n",
    "\n",
    "    n=n/10\n",
    "print count\n"
   ]
  },
  {
   "cell_type": "markdown",
   "metadata": {},
   "source": [
    "### bin to oct\n"
   ]
  },
  {
   "cell_type": "code",
   "execution_count": 2,
   "metadata": {},
   "outputs": [
    {
     "ename": "SyntaxError",
     "evalue": "Missing parentheses in call to 'print'. Did you mean print(oct1)? (<ipython-input-2-b6ccb8022187>, line 20)",
     "output_type": "error",
     "traceback": [
      "\u001b[1;36m  File \u001b[1;32m\"<ipython-input-2-b6ccb8022187>\"\u001b[1;36m, line \u001b[1;32m20\u001b[0m\n\u001b[1;33m    print oct1\u001b[0m\n\u001b[1;37m             ^\u001b[0m\n\u001b[1;31mSyntaxError\u001b[0m\u001b[1;31m:\u001b[0m Missing parentheses in call to 'print'. Did you mean print(oct1)?\n"
     ]
    }
   ],
   "source": [
    "n=int(raw_input(\"enter binary:\"))\n",
    "binary=n\n",
    "def bintodec(binary):\n",
    "    dec=0\n",
    "    base=1\n",
    "    while(binary>0):\n",
    "        r=binary%10\n",
    "        dec+=r*base\n",
    "        binary=binary/10\n",
    "        base=base*2\n",
    "\n",
    "    def dectooct(dec):\n",
    "        oct1=0\n",
    "        base=1\n",
    "        while(dec>0):\n",
    "            r1=dec%8\n",
    "            oct1+=r1*base\n",
    "            base=base*10\n",
    "            dec=dec/8\n",
    "        print oct1\n",
    "    dectooct(dec)\n",
    "bintodec(binary)\n",
    "    \n"
   ]
  },
  {
   "cell_type": "markdown",
   "metadata": {},
   "source": [
    "### 1 2 3 6 9 18"
   ]
  },
  {
   "cell_type": "code",
   "execution_count": 3,
   "metadata": {},
   "outputs": [
    {
     "ename": "SyntaxError",
     "evalue": "Missing parentheses in call to 'print'. Did you mean print(a,b, end=\" \")? (<ipython-input-3-403d440d9eb4>, line 4)",
     "output_type": "error",
     "traceback": [
      "\u001b[1;36m  File \u001b[1;32m\"<ipython-input-3-403d440d9eb4>\"\u001b[1;36m, line \u001b[1;32m4\u001b[0m\n\u001b[1;33m    print a,b,\u001b[0m\n\u001b[1;37m          ^\u001b[0m\n\u001b[1;31mSyntaxError\u001b[0m\u001b[1;31m:\u001b[0m Missing parentheses in call to 'print'. Did you mean print(a,b, end=\" \")?\n"
     ]
    }
   ],
   "source": [
    "n=int(raw_input(\"enter number:\"))\n",
    "a=1\n",
    "b=2\n",
    "print a,b,\n",
    "for i in range(3,n+1):\n",
    "    if i%2==1:\n",
    "        a=a*3\n",
    "        print a,\n",
    "    else:\n",
    "        b=b*3\n",
    "        print b,\n"
   ]
  },
  {
   "cell_type": "markdown",
   "metadata": {},
   "source": [
    "## 3 8 6 11 9 14.."
   ]
  },
  {
   "cell_type": "code",
   "execution_count": 4,
   "metadata": {},
   "outputs": [
    {
     "ename": "SyntaxError",
     "evalue": "Missing parentheses in call to 'print'. Did you mean print(a, end=\" \")? (<ipython-input-4-507f6b26ce5f>, line 4)",
     "output_type": "error",
     "traceback": [
      "\u001b[1;36m  File \u001b[1;32m\"<ipython-input-4-507f6b26ce5f>\"\u001b[1;36m, line \u001b[1;32m4\u001b[0m\n\u001b[1;33m    print a,\u001b[0m\n\u001b[1;37m          ^\u001b[0m\n\u001b[1;31mSyntaxError\u001b[0m\u001b[1;31m:\u001b[0m Missing parentheses in call to 'print'. Did you mean print(a, end=\" \")?\n"
     ]
    }
   ],
   "source": [
    "n=int(raw_input(\"enter n:\"))\n",
    "a=3\n",
    "temp=a\n",
    "print a,\n",
    "for i in range(2,n+1):\n",
    "    if i%2==0:\n",
    "        temp=temp+5\n",
    "        print temp,\n",
    "    else:\n",
    "        temp=temp-2\n",
    "        print temp,\n",
    "        \n"
   ]
  },
  {
   "cell_type": "markdown",
   "metadata": {},
   "source": [
    "### Quadaranti of point\n"
   ]
  },
  {
   "cell_type": "code",
   "execution_count": 1,
   "metadata": {},
   "outputs": [
    {
     "ename": "SyntaxError",
     "evalue": "invalid syntax (<ipython-input-1-4409fa352442>, line 9)",
     "output_type": "error",
     "traceback": [
      "\u001b[1;36m  File \u001b[1;32m\"<ipython-input-1-4409fa352442>\"\u001b[1;36m, line \u001b[1;32m9\u001b[0m\n\u001b[1;33m    print \"X1:%.2f ,X2:%.2f\"%(x1,x2)\u001b[0m\n\u001b[1;37m                           ^\u001b[0m\n\u001b[1;31mSyntaxError\u001b[0m\u001b[1;31m:\u001b[0m invalid syntax\n"
     ]
    }
   ],
   "source": [
    "import math\n",
    "a=int(raw_input(\"enter a:\"))\n",
    "b=int(raw_input(\"enter b:\"))\n",
    "c=int(raw_input(\"enter c:\"))\n",
    "y=(b*b)-4*a*c\n",
    "if y>0:\n",
    "    x1=(-b+math.sqrt(y))/(2*a)\n",
    "    x2=(-b-math.sqrt(y))/(2*a)\n",
    "    print \"X1:%.2f ,X2:%.2f\"%(x1,x2)\n",
    "else:\n",
    "    x1=(-b/(2*a))\n",
    "    x2=(-b/(2*a))\n",
    "    print \"X1:{},X2:{}\".format(x1,x2)\n"
   ]
  },
  {
   "cell_type": "markdown",
   "metadata": {},
   "source": [
    "### Belongs to circle"
   ]
  },
  {
   "cell_type": "code",
   "execution_count": 2,
   "metadata": {},
   "outputs": [
    {
     "ename": "SyntaxError",
     "evalue": "Missing parentheses in call to 'print'. Did you mean print(\"belongs to circle\")? (<ipython-input-2-70e88821e3d5>, line 7)",
     "output_type": "error",
     "traceback": [
      "\u001b[1;36m  File \u001b[1;32m\"<ipython-input-2-70e88821e3d5>\"\u001b[1;36m, line \u001b[1;32m7\u001b[0m\n\u001b[1;33m    print \"belongs to circle\"\u001b[0m\n\u001b[1;37m                            ^\u001b[0m\n\u001b[1;31mSyntaxError\u001b[0m\u001b[1;31m:\u001b[0m Missing parentheses in call to 'print'. Did you mean print(\"belongs to circle\")?\n"
     ]
    }
   ],
   "source": [
    "import math\n",
    "x=float(raw_input(\"enter x:\"))\n",
    "y=float(raw_input(\"enter y:\"))\n",
    "z=float(raw_input(\"enter z:\"))\n",
    "h=math.sqrt(pow(x,2)+pow(y,2))\n",
    "if h<=z:\n",
    "    print \"belongs to circle\"\n",
    "else:\n",
    "    print \"Not belongs to circle\"\n"
   ]
  },
  {
   "cell_type": "markdown",
   "metadata": {},
   "source": [
    "### Ascii table"
   ]
  },
  {
   "cell_type": "code",
   "execution_count": 3,
   "metadata": {},
   "outputs": [
    {
     "ename": "SyntaxError",
     "evalue": "invalid syntax (<ipython-input-3-4cc0830ef77a>, line 2)",
     "output_type": "error",
     "traceback": [
      "\u001b[1;36m  File \u001b[1;32m\"<ipython-input-3-4cc0830ef77a>\"\u001b[1;36m, line \u001b[1;32m2\u001b[0m\n\u001b[1;33m    print chr(i),\u001b[0m\n\u001b[1;37m            ^\u001b[0m\n\u001b[1;31mSyntaxError\u001b[0m\u001b[1;31m:\u001b[0m invalid syntax\n"
     ]
    }
   ],
   "source": [
    "for i in range(32,128):\n",
    "    print chr(i),\n",
    "    if (i-1)%10==0:\n",
    "        print \" \"\n"
   ]
  },
  {
   "cell_type": "markdown",
   "metadata": {},
   "source": [
    "### base 2 to 9"
   ]
  },
  {
   "cell_type": "code",
   "execution_count": 4,
   "metadata": {},
   "outputs": [
    {
     "ename": "SyntaxError",
     "evalue": "Missing parentheses in call to 'print'. Did you mean print(sum1, end=\" \")? (<ipython-input-4-b62b02f44698>, line 12)",
     "output_type": "error",
     "traceback": [
      "\u001b[1;36m  File \u001b[1;32m\"<ipython-input-4-b62b02f44698>\"\u001b[1;36m, line \u001b[1;32m12\u001b[0m\n\u001b[1;33m    print sum1,\u001b[0m\n\u001b[1;37m             ^\u001b[0m\n\u001b[1;31mSyntaxError\u001b[0m\u001b[1;31m:\u001b[0m Missing parentheses in call to 'print'. Did you mean print(sum1, end=\" \")?\n"
     ]
    }
   ],
   "source": [
    "n=int(raw_input(\"enter n:\"))\n",
    "b=int(raw_input(\"enter b:\"))\n",
    "\n",
    "if not 2<=b<=9:\n",
    "    quit()\n",
    "sum1=\" \"\n",
    "while (n>0):\n",
    "    r=n%b\n",
    "    sum1=sum1+str(r)\n",
    "    n=n/b\n",
    "sum1=sum1[::-1]\n",
    "print sum1,\n",
    "    \n"
   ]
  },
  {
   "cell_type": "markdown",
   "metadata": {},
   "source": [
    "### Sum and prod of guven nbr\n"
   ]
  },
  {
   "cell_type": "code",
   "execution_count": 5,
   "metadata": {},
   "outputs": [
    {
     "ename": "SyntaxError",
     "evalue": "Missing parentheses in call to 'print'. Did you mean print(\"sum1:\",sum1)? (<ipython-input-5-96ec58b9fc8e>, line 9)",
     "output_type": "error",
     "traceback": [
      "\u001b[1;36m  File \u001b[1;32m\"<ipython-input-5-96ec58b9fc8e>\"\u001b[1;36m, line \u001b[1;32m9\u001b[0m\n\u001b[1;33m    print \"sum1:\",sum1\u001b[0m\n\u001b[1;37m                ^\u001b[0m\n\u001b[1;31mSyntaxError\u001b[0m\u001b[1;31m:\u001b[0m Missing parentheses in call to 'print'. Did you mean print(\"sum1:\",sum1)?\n"
     ]
    }
   ],
   "source": [
    "n=int(raw_input(\"enter n:\"))\n",
    "prod=1\n",
    "sum1=0\n",
    "while(n>0):\n",
    "    r=n%10\n",
    "    sum1=sum1+r\n",
    "    prod=prod*r\n",
    "    n=n/10\n",
    "print \"sum1:\",sum1\n",
    "print \"Prod:\",prod\n"
   ]
  },
  {
   "cell_type": "markdown",
   "metadata": {},
   "source": [
    "### rOMAN conversion"
   ]
  },
  {
   "cell_type": "code",
   "execution_count": 6,
   "metadata": {},
   "outputs": [
    {
     "ename": "SyntaxError",
     "evalue": "invalid syntax (<ipython-input-6-fcdca53ef4b2>, line 38)",
     "output_type": "error",
     "traceback": [
      "\u001b[1;36m  File \u001b[1;32m\"<ipython-input-6-fcdca53ef4b2>\"\u001b[1;36m, line \u001b[1;32m38\u001b[0m\n\u001b[1;33m    print main(str)\u001b[0m\n\u001b[1;37m             ^\u001b[0m\n\u001b[1;31mSyntaxError\u001b[0m\u001b[1;31m:\u001b[0m invalid syntax\n"
     ]
    }
   ],
   "source": [
    "def value(r):\n",
    "    if r=='I':\n",
    "        return 1\n",
    "    if r=='V':\n",
    "        return 5\n",
    "\n",
    "    if r=='X':\n",
    "        return 10\n",
    "    if r=='L':\n",
    "        return 50\n",
    "    if r=='C':\n",
    "        return 100\n",
    "    if r=='D':\n",
    "        return 500\n",
    "    if r=='M':\n",
    "        return 1000\n",
    "    return -1\n",
    "str=raw_input(\"enter roman:\")\n",
    "def main(str):\n",
    "    res=0\n",
    "    i=0\n",
    "    while(i<len(str)):\n",
    "        s1=value(str[i])\n",
    "\n",
    "        if(i+1<len(str)):\n",
    "            s2=value(str[i+1])\n",
    "\n",
    "            if s1>s2:\n",
    "                res=res+s1\n",
    "                i=i+1\n",
    "            else:\n",
    "                res=res+s2-s1\n",
    "                i=i+2\n",
    "        else:\n",
    "            res=res+s1\n",
    "            i=i+1\n",
    "    return res\n",
    "print main(str)\n"
   ]
  },
  {
   "cell_type": "markdown",
   "metadata": {},
   "source": [
    "### fre of given nbr"
   ]
  },
  {
   "cell_type": "code",
   "execution_count": 7,
   "metadata": {},
   "outputs": [
    {
     "ename": "SyntaxError",
     "evalue": "Missing parentheses in call to 'print'. Did you mean print(count)? (<ipython-input-7-c0e98c2b3a5d>, line 7)",
     "output_type": "error",
     "traceback": [
      "\u001b[1;36m  File \u001b[1;32m\"<ipython-input-7-c0e98c2b3a5d>\"\u001b[1;36m, line \u001b[1;32m7\u001b[0m\n\u001b[1;33m    print count\u001b[0m\n\u001b[1;37m              ^\u001b[0m\n\u001b[1;31mSyntaxError\u001b[0m\u001b[1;31m:\u001b[0m Missing parentheses in call to 'print'. Did you mean print(count)?\n"
     ]
    }
   ],
   "source": [
    "str1=raw_input('enter string:')\n",
    "char=raw_input(\"enter char:\")\n",
    "count=0\n",
    "for i in str1:\n",
    "    if char==i:\n",
    "        count+=1\n",
    "print count\n"
   ]
  },
  {
   "cell_type": "markdown",
   "metadata": {},
   "source": [
    "### Count of even and odd nbr"
   ]
  },
  {
   "cell_type": "code",
   "execution_count": 8,
   "metadata": {},
   "outputs": [
    {
     "ename": "SyntaxError",
     "evalue": "invalid syntax (<ipython-input-8-2d71002eda1e>, line 13)",
     "output_type": "error",
     "traceback": [
      "\u001b[1;36m  File \u001b[1;32m\"<ipython-input-8-2d71002eda1e>\"\u001b[1;36m, line \u001b[1;32m13\u001b[0m\n\u001b[1;33m    print \"Ev:%d,Od:%d\"%(even,odd)\u001b[0m\n\u001b[1;37m                      ^\u001b[0m\n\u001b[1;31mSyntaxError\u001b[0m\u001b[1;31m:\u001b[0m invalid syntax\n"
     ]
    }
   ],
   "source": [
    "n=int(input(\"enter number:\"))\n",
    "even=0\n",
    "odd=0\n",
    "while(n>0):\n",
    "    r=n%10\n",
    "    if (r%2==0):\n",
    "        even=even+1\n",
    "    if(r%2==1):\n",
    "        odd=odd+1\n",
    "    \n",
    "        \n",
    "    n=n//10\n",
    "print \"Ev:%d,Od:%d\"%(even,odd)\n"
   ]
  },
  {
   "cell_type": "markdown",
   "metadata": {},
   "source": [
    "### Binary search\n"
   ]
  },
  {
   "cell_type": "code",
   "execution_count": 9,
   "metadata": {},
   "outputs": [
    {
     "ename": "SyntaxError",
     "evalue": "Missing parentheses in call to 'print'. Did you mean print(i, end=\" \")? (<ipython-input-9-7043b7c352fd>, line 8)",
     "output_type": "error",
     "traceback": [
      "\u001b[1;36m  File \u001b[1;32m\"<ipython-input-9-7043b7c352fd>\"\u001b[1;36m, line \u001b[1;32m8\u001b[0m\n\u001b[1;33m    print i,\u001b[0m\n\u001b[1;37m          ^\u001b[0m\n\u001b[1;31mSyntaxError\u001b[0m\u001b[1;31m:\u001b[0m Missing parentheses in call to 'print'. Did you mean print(i, end=\" \")?\n"
     ]
    }
   ],
   "source": [
    "from random import randint\n",
    "y=[]\n",
    "n=10\n",
    "for i in range(n):\n",
    "    y.append(randint(1,100))\n",
    "    y.sort()\n",
    "for i in y:\n",
    "    print i,\n",
    "print \" \"\n",
    "\n",
    "mini=0\n",
    "maxi=n-1\n",
    "k=int(raw_input(\"enter key:\"))\n",
    "while mini<=maxi:\n",
    "    mid=(mini+maxi)/2\n",
    "    if k<y[mid]:\n",
    "        maxi=mid-1\n",
    "    elif k>y[mid]:\n",
    "        mini=mid+1\n",
    "    else:\n",
    "        print \"Binary search\",mid\n",
    "        break\n",
    "else:\n",
    "    print \"No roots\"\n",
    "    \n"
   ]
  },
  {
   "cell_type": "markdown",
   "metadata": {},
   "source": [
    "### 1,-0.5,0.25..."
   ]
  },
  {
   "cell_type": "code",
   "execution_count": 10,
   "metadata": {},
   "outputs": [
    {
     "ename": "SyntaxError",
     "evalue": "Missing parentheses in call to 'print'. Did you mean print(y, end=\" \")? (<ipython-input-10-65fd28e17d1f>, line 5)",
     "output_type": "error",
     "traceback": [
      "\u001b[1;36m  File \u001b[1;32m\"<ipython-input-10-65fd28e17d1f>\"\u001b[1;36m, line \u001b[1;32m5\u001b[0m\n\u001b[1;33m    print y,\u001b[0m\n\u001b[1;37m          ^\u001b[0m\n\u001b[1;31mSyntaxError\u001b[0m\u001b[1;31m:\u001b[0m Missing parentheses in call to 'print'. Did you mean print(y, end=\" \")?\n"
     ]
    }
   ],
   "source": [
    "n=int(raw_input(\"enter n:\"))\n",
    "z=0\n",
    "y=1\n",
    "sum1=0\n",
    "print y,\n",
    "while z<n:\n",
    "    sum1=sum1+y\n",
    "    y=(y)/(-2)\n",
    "    z=z+1\n",
    "    print y,\n"
   ]
  },
  {
   "cell_type": "markdown",
   "metadata": {},
   "source": [
    "### How to get the maximum value of floating point number"
   ]
  },
  {
   "cell_type": "markdown",
   "metadata": {},
   "source": [
    "n=float(raw_input(\"enter float:\"))\n",
    "y=str(n)\n",
    "len1=len(y)\n",
    "max1=-1\n",
    "for i in range(len1):\n",
    "    if y[i]=='.':\n",
    "        continue\n",
    "    elif max1<int(y[i]):\n",
    "        max1=int(y[i])\n",
    "print max1\n"
   ]
  },
  {
   "cell_type": "markdown",
   "metadata": {},
   "source": [
    "### Prime and complex"
   ]
  },
  {
   "cell_type": "code",
   "execution_count": 12,
   "metadata": {},
   "outputs": [
    {
     "ename": "SyntaxError",
     "evalue": "Missing parentheses in call to 'print'. Did you mean print(\"write higher value\")? (<ipython-input-12-b84d267e6fff>, line 4)",
     "output_type": "error",
     "traceback": [
      "\u001b[1;36m  File \u001b[1;32m\"<ipython-input-12-b84d267e6fff>\"\u001b[1;36m, line \u001b[1;32m4\u001b[0m\n\u001b[1;33m    print \"write higher value\"\u001b[0m\n\u001b[1;37m                             ^\u001b[0m\n\u001b[1;31mSyntaxError\u001b[0m\u001b[1;31m:\u001b[0m Missing parentheses in call to 'print'. Did you mean print(\"write higher value\")?\n"
     ]
    }
   ],
   "source": [
    "import math\n",
    "n=int(raw_input(\"enter n:\"))\n",
    "if n==2:\n",
    "    print \"write higher value\"\n",
    "if n<2:\n",
    "    print \" it is not prime\"\n",
    "    quit()\n",
    "\n",
    "y=2\n",
    "num=math.sqrt(n)\n",
    "while(y<=num):\n",
    "    if n%y==0:\n",
    "        print \"It is complex\"\n",
    "        break\n",
    "    y=y+1\n",
    "else:\n",
    "    print \"It is prime\"\n"
   ]
  },
  {
   "cell_type": "markdown",
   "metadata": {},
   "source": [
    "### Expand the char"
   ]
  },
  {
   "cell_type": "code",
   "execution_count": 13,
   "metadata": {},
   "outputs": [
    {
     "ename": "SyntaxError",
     "evalue": "Missing parentheses in call to 'print'. Did you mean print(str1, end=\" \")? (<ipython-input-13-611d55dcc6b7>, line 4)",
     "output_type": "error",
     "traceback": [
      "\u001b[1;36m  File \u001b[1;32m\"<ipython-input-13-611d55dcc6b7>\"\u001b[1;36m, line \u001b[1;32m4\u001b[0m\n\u001b[1;33m    print str1,\u001b[0m\n\u001b[1;37m             ^\u001b[0m\n\u001b[1;31mSyntaxError\u001b[0m\u001b[1;31m:\u001b[0m Missing parentheses in call to 'print'. Did you mean print(str1, end=\" \")?\n"
     ]
    }
   ],
   "source": [
    "str1=raw_input()\n",
    "str2=raw_input()\n",
    "while (str1<=str2):\n",
    "    print str1,\n",
    "    str1=chr(ord(str1)+1)\n"
   ]
  },
  {
   "cell_type": "markdown",
   "metadata": {},
   "source": [
    "### Select integers from string\n"
   ]
  },
  {
   "cell_type": "code",
   "execution_count": 14,
   "metadata": {},
   "outputs": [
    {
     "ename": "SyntaxError",
     "evalue": "Missing parentheses in call to 'print'. Did you mean print(i, end=\" \")? (<ipython-input-14-007b52534b9f>, line 20)",
     "output_type": "error",
     "traceback": [
      "\u001b[1;36m  File \u001b[1;32m\"<ipython-input-14-007b52534b9f>\"\u001b[1;36m, line \u001b[1;32m20\u001b[0m\n\u001b[1;33m    print i,\u001b[0m\n\u001b[1;37m          ^\u001b[0m\n\u001b[1;31mSyntaxError\u001b[0m\u001b[1;31m:\u001b[0m Missing parentheses in call to 'print'. Did you mean print(i, end=\" \")?\n"
     ]
    }
   ],
   "source": [
    "n=raw_input(\"enter string:\")\n",
    "my=[]\n",
    "x=0\n",
    "len1=len(n)\n",
    "while x<len1:\n",
    "    num=\" \"\n",
    "    symbol=n[x]\n",
    "    while '0'<=symbol<='9':\n",
    "        num=num+symbol\n",
    "        x=x+1\n",
    "\n",
    "        if x<len1:\n",
    "            symbol=n[x]\n",
    "        else:\n",
    "            break\n",
    "    x=x+1\n",
    "    if num!=\" \":\n",
    "        my.append(num)\n",
    "for i in my:\n",
    "    print i,\n"
   ]
  },
  {
   "cell_type": "markdown",
   "metadata": {},
   "source": [
    "###  Sort a/c to length"
   ]
  },
  {
   "cell_type": "code",
   "execution_count": 15,
   "metadata": {},
   "outputs": [
    {
     "ename": "SyntaxError",
     "evalue": "invalid syntax (<ipython-input-15-59ecc24a9b7c>, line 9)",
     "output_type": "error",
     "traceback": [
      "\u001b[1;36m  File \u001b[1;32m\"<ipython-input-15-59ecc24a9b7c>\"\u001b[1;36m, line \u001b[1;32m9\u001b[0m\n\u001b[1;33m    print \" \".join(x)\u001b[0m\n\u001b[1;37m            ^\u001b[0m\n\u001b[1;31mSyntaxError\u001b[0m\u001b[1;31m:\u001b[0m invalid syntax\n"
     ]
    }
   ],
   "source": [
    "str=raw_input(\"enter string:\")\n",
    "x=str.split()\n",
    "len1=len(x)\n",
    "for i in range(len1-1):\n",
    "    for j in range(len1-i-1):\n",
    "        if len(x[j])>len(x[j+1]):\n",
    "               x[j],x[j+1]=x[j+1],x[j]\n",
    "\n",
    "print \" \".join(x)\n"
   ]
  },
  {
   "cell_type": "markdown",
   "metadata": {},
   "source": [
    "### Highest word"
   ]
  },
  {
   "cell_type": "code",
   "execution_count": 16,
   "metadata": {},
   "outputs": [
    {
     "ename": "SyntaxError",
     "evalue": "Missing parentheses in call to 'print'. Did you mean print(first[maxi])? (<ipython-input-16-25ea9ff07d42>, line 8)",
     "output_type": "error",
     "traceback": [
      "\u001b[1;36m  File \u001b[1;32m\"<ipython-input-16-25ea9ff07d42>\"\u001b[1;36m, line \u001b[1;32m8\u001b[0m\n\u001b[1;33m    print first[maxi]\u001b[0m\n\u001b[1;37m              ^\u001b[0m\n\u001b[1;31mSyntaxError\u001b[0m\u001b[1;31m:\u001b[0m Missing parentheses in call to 'print'. Did you mean print(first[maxi])?\n"
     ]
    }
   ],
   "source": [
    "str1=raw_input(\"enter string:\")\n",
    "first=str1.split()\n",
    "len1=len(first)\n",
    "maxi=0\n",
    "for i in range(1,len1):\n",
    "    if maxi<i:\n",
    "        maxi=i\n",
    "print first[maxi]\n"
   ]
  },
  {
   "cell_type": "markdown",
   "metadata": {},
   "source": [
    "###  Percentage of upp and low"
   ]
  },
  {
   "cell_type": "code",
   "execution_count": 17,
   "metadata": {},
   "outputs": [
    {
     "ename": "SyntaxError",
     "evalue": "Missing parentheses in call to 'print'. Did you mean print(x)? (<ipython-input-17-edb9d38e756d>, line 13)",
     "output_type": "error",
     "traceback": [
      "\u001b[1;36m  File \u001b[1;32m\"<ipython-input-17-edb9d38e756d>\"\u001b[1;36m, line \u001b[1;32m13\u001b[0m\n\u001b[1;33m    print x\u001b[0m\n\u001b[1;37m        ^\u001b[0m\n\u001b[1;31mSyntaxError\u001b[0m\u001b[1;31m:\u001b[0m Missing parentheses in call to 'print'. Did you mean print(x)?\n"
     ]
    }
   ],
   "source": [
    "str1=raw_input(\"enter string:\")\n",
    "upper=0\n",
    "lower=0\n",
    "len1=len(str1)\n",
    "for i in str1:\n",
    "    if 'a'<=i<='z':\n",
    "        lower=lower+1\n",
    "    elif 'A'<=i<='Z':\n",
    "        upper=upper+1\n",
    "x=((upper*100)/len1)\n",
    "y=((lower*100/len1)\n",
    "\n",
    "print x\n",
    "print y\n",
    "\n",
    "   \n",
    "   erroe present checj"
   ]
  },
  {
   "cell_type": "markdown",
   "metadata": {},
   "source": [
    "### Palindrome of string"
   ]
  },
  {
   "cell_type": "code",
   "execution_count": 18,
   "metadata": {},
   "outputs": [
    {
     "ename": "SyntaxError",
     "evalue": "Missing parentheses in call to 'print'. Did you mean print(\"It is not palindrome\")? (<ipython-input-18-d5d1d0f92182>, line 5)",
     "output_type": "error",
     "traceback": [
      "\u001b[1;36m  File \u001b[1;32m\"<ipython-input-18-d5d1d0f92182>\"\u001b[1;36m, line \u001b[1;32m5\u001b[0m\n\u001b[1;33m    print \"It is not palindrome\"\u001b[0m\n\u001b[1;37m                               ^\u001b[0m\n\u001b[1;31mSyntaxError\u001b[0m\u001b[1;31m:\u001b[0m Missing parentheses in call to 'print'. Did you mean print(\"It is not palindrome\")?\n"
     ]
    }
   ],
   "source": [
    "str1=raw_input(\"enter string:\")\n",
    "len1=len(str1)\n",
    "for i in range(len1/2):\n",
    "    if str1[i]!=str1[-1-i]:\n",
    "        print \"It is not palindrome\"\n",
    "        break\n",
    "    else:\n",
    "        print \"It is palndrome\"\n",
    "        break\n"
   ]
  },
  {
   "cell_type": "markdown",
   "metadata": {},
   "source": [
    "### Maxi nbr from rand nbrs"
   ]
  },
  {
   "cell_type": "code",
   "execution_count": 19,
   "metadata": {},
   "outputs": [
    {
     "ename": "SyntaxError",
     "evalue": "Missing parentheses in call to 'print'. Did you mean print(i, end=\" \")? (<ipython-input-19-fc86ccb337c4>, line 8)",
     "output_type": "error",
     "traceback": [
      "\u001b[1;36m  File \u001b[1;32m\"<ipython-input-19-fc86ccb337c4>\"\u001b[1;36m, line \u001b[1;32m8\u001b[0m\n\u001b[1;33m    print i,\u001b[0m\n\u001b[1;37m          ^\u001b[0m\n\u001b[1;31mSyntaxError\u001b[0m\u001b[1;31m:\u001b[0m Missing parentheses in call to 'print'. Did you mean print(i, end=\" \")?\n"
     ]
    }
   ],
   "source": [
    "from random import randint\n",
    "n=10\n",
    "y=[]\n",
    "for i in range(n):\n",
    "    y.appen(randint(1,100))\n",
    "    \n",
    "for i in y:\n",
    "    print i,\n",
    "    \n",
    "maxi=0\n",
    "for i in y:\n",
    "    if i>maxi:\n",
    "        maxi=i\n",
    "print maxi,"
   ]
  },
  {
   "cell_type": "markdown",
   "metadata": {},
   "source": [
    "### Even and odd nbrs from rand nbrs"
   ]
  },
  {
   "cell_type": "code",
   "execution_count": 20,
   "metadata": {},
   "outputs": [
    {
     "ename": "SyntaxError",
     "evalue": "Missing parentheses in call to 'print'. Did you mean print(i, end=\" \")? (<ipython-input-20-bb8c0e531340>, line 8)",
     "output_type": "error",
     "traceback": [
      "\u001b[1;36m  File \u001b[1;32m\"<ipython-input-20-bb8c0e531340>\"\u001b[1;36m, line \u001b[1;32m8\u001b[0m\n\u001b[1;33m    print i,\u001b[0m\n\u001b[1;37m          ^\u001b[0m\n\u001b[1;31mSyntaxError\u001b[0m\u001b[1;31m:\u001b[0m Missing parentheses in call to 'print'. Did you mean print(i, end=\" \")?\n"
     ]
    }
   ],
   "source": [
    "from random import randint\n",
    "n=10\n",
    "y=[]\n",
    "for i in range(n):\n",
    "    y.append(randint(1,100))\n",
    "    \n",
    "for i in y:\n",
    "    print i,\n",
    "print \" \"\n",
    "even=0\n",
    "odd=0\n",
    "for i in y:\n",
    "    if y%2==0:\n",
    "        even=even+1\n",
    "    else:\n",
    "        odd=odd+1\n",
    "print \"Even:\",even\n",
    "print \"Odd:\",odd"
   ]
  },
  {
   "cell_type": "markdown",
   "metadata": {},
   "source": [
    "### pos and neg from rand nbrs"
   ]
  },
  {
   "cell_type": "code",
   "execution_count": 21,
   "metadata": {},
   "outputs": [
    {
     "ename": "SyntaxError",
     "evalue": "Missing parentheses in call to 'print'. Did you mean print(i, end=\" \")? (<ipython-input-21-be8c5b49dcc8>, line 8)",
     "output_type": "error",
     "traceback": [
      "\u001b[1;36m  File \u001b[1;32m\"<ipython-input-21-be8c5b49dcc8>\"\u001b[1;36m, line \u001b[1;32m8\u001b[0m\n\u001b[1;33m    print i,\u001b[0m\n\u001b[1;37m          ^\u001b[0m\n\u001b[1;31mSyntaxError\u001b[0m\u001b[1;31m:\u001b[0m Missing parentheses in call to 'print'. Did you mean print(i, end=\" \")?\n"
     ]
    }
   ],
   "source": [
    "import random\n",
    "n=10\n",
    "y=[]\n",
    "for i in range(n):\n",
    "    y.append(int(random.random()*10)-6)\n",
    "    \n",
    "for i in y:\n",
    "    print i,\n",
    "print \" \"\n",
    "    \n",
    "neg=[]\n",
    "pos=[]\n",
    "for i in y:\n",
    "    if i<0:\n",
    "        neg.append(i)\n",
    "        neg.sort()\n",
    "    elif i>=0:\n",
    "        pos.append(i)\n",
    "        pos.sort()\n",
    "        \n",
    "print(\"Negative numbers:\")\n",
    "for j in neg:\n",
    "    print j,\n",
    "print \" \"\n",
    "    \n",
    "print(\"Positive numbers:\")\n",
    "for k in pos:\n",
    "    print k,"
   ]
  },
  {
   "cell_type": "markdown",
   "metadata": {},
   "source": [
    "### -1,0,1"
   ]
  },
  {
   "cell_type": "code",
   "execution_count": 22,
   "metadata": {},
   "outputs": [
    {
     "ename": "SyntaxError",
     "evalue": "Missing parentheses in call to 'print'. Did you mean print(i, end=\" \")? (<ipython-input-22-3657c139b1e2>, line 8)",
     "output_type": "error",
     "traceback": [
      "\u001b[1;36m  File \u001b[1;32m\"<ipython-input-22-3657c139b1e2>\"\u001b[1;36m, line \u001b[1;32m8\u001b[0m\n\u001b[1;33m    print i,\u001b[0m\n\u001b[1;37m          ^\u001b[0m\n\u001b[1;31mSyntaxError\u001b[0m\u001b[1;31m:\u001b[0m Missing parentheses in call to 'print'. Did you mean print(i, end=\" \")?\n"
     ]
    }
   ],
   "source": [
    "import random\n",
    "n=10\n",
    "y=[]\n",
    "for i in range(10):\n",
    "    y.append(int(random.random()*10)-6)\n",
    "    \n",
    "for i in y:\n",
    "    print i,\n",
    "print \" \"\n",
    "    \n",
    "for i in range(len(y)):\n",
    "    if y[i]>0:\n",
    "        y[i]=1\n",
    "    elif y[i]<0:\n",
    "        y[i]=-1\n",
    "    else:\n",
    "        y[i]=0\n",
    "    print y[i],"
   ]
  },
  {
   "cell_type": "markdown",
   "metadata": {},
   "source": [
    "### Remove the symbols "
   ]
  },
  {
   "cell_type": "code",
   "execution_count": 23,
   "metadata": {},
   "outputs": [
    {
     "ename": "SyntaxError",
     "evalue": "Missing parentheses in call to 'print'. Did you mean print(first[x], end=\" \")? (<ipython-input-23-2087e92779dd>, line 15)",
     "output_type": "error",
     "traceback": [
      "\u001b[1;36m  File \u001b[1;32m\"<ipython-input-23-2087e92779dd>\"\u001b[1;36m, line \u001b[1;32m15\u001b[0m\n\u001b[1;33m    print first[x],\u001b[0m\n\u001b[1;37m              ^\u001b[0m\n\u001b[1;31mSyntaxError\u001b[0m\u001b[1;31m:\u001b[0m Missing parentheses in call to 'print'. Did you mean print(first[x], end=\" \")?\n"
     ]
    }
   ],
   "source": [
    "str1=raw_input(\"enter string:\")\n",
    "symbols={'.',',','!','@','#'}\n",
    "first=str1.split()\n",
    "len1=len(str1)\n",
    "x=0\n",
    "for i in first:\n",
    "    if i[-1] in symbols:\n",
    "        first[x]=i[:-1]\n",
    "        i=first[x]\n",
    "    if i[0] in symbols:\n",
    "        first[x]=i[1:]\n",
    "    x=x+1\n",
    "x=0\n",
    "while x<len1:\n",
    "    print first[x],\n",
    "    x=x+1\n"
   ]
  },
  {
   "cell_type": "markdown",
   "metadata": {},
   "source": [
    "### Most occurence element"
   ]
  },
  {
   "cell_type": "code",
   "execution_count": 24,
   "metadata": {},
   "outputs": [
    {
     "ename": "SyntaxError",
     "evalue": "Missing parentheses in call to 'print'. Did you mean print(i, end=\" \")? (<ipython-input-24-93fea3cbe53e>, line 8)",
     "output_type": "error",
     "traceback": [
      "\u001b[1;36m  File \u001b[1;32m\"<ipython-input-24-93fea3cbe53e>\"\u001b[1;36m, line \u001b[1;32m8\u001b[0m\n\u001b[1;33m    print i,\u001b[0m\n\u001b[1;37m          ^\u001b[0m\n\u001b[1;31mSyntaxError\u001b[0m\u001b[1;31m:\u001b[0m Missing parentheses in call to 'print'. Did you mean print(i, end=\" \")?\n"
     ]
    }
   ],
   "source": [
    "from random import randint\n",
    "n=10\n",
    "x=[]\n",
    "for i in range(n):\n",
    "    x.append(randint(1,5))\n",
    "\n",
    "for i in x:\n",
    "    print i,\n",
    "print \" \"\n",
    "\n",
    "frequency=0\n",
    "highest=None\n",
    "myset=set(x)\n",
    "for item in myset:\n",
    "    freq=x.count(item)\n",
    "\n",
    "    if freq>frequency:\n",
    "        frequency=freq\n",
    "        highest=item\n",
    "print highest,\n"
   ]
  },
  {
   "cell_type": "markdown",
   "metadata": {},
   "source": [
    "### Bubble sort"
   ]
  },
  {
   "cell_type": "code",
   "execution_count": null,
   "metadata": {},
   "outputs": [],
   "source": [
    "from random import randint\n",
    "x=5\n",
    "y=[]\n",
    "for i in range(x):\n",
    "    y.append(randint(1,20))\n",
    "for i in y:\n",
    "    print i,\n",
    "print \" \"\n",
    "\n",
    "for k in range(x):\n",
    "    for i in range(x-k-1):\n",
    "        if y[i]>y[i+1]:\n",
    "            y[i],y[i+1]=y[i+1],y[i]\n",
    "for i in y:\n",
    "    print i,"
   ]
  }
 ],
 "metadata": {
  "kernelspec": {
   "display_name": "Python 3",
   "language": "python",
   "name": "python3"
  },
  "language_info": {
   "codemirror_mode": {
    "name": "ipython",
    "version": 3
   },
   "file_extension": ".py",
   "mimetype": "text/x-python",
   "name": "python",
   "nbconvert_exporter": "python",
   "pygments_lexer": "ipython3",
   "version": "3.7.4"
  }
 },
 "nbformat": 4,
 "nbformat_minor": 2
}
