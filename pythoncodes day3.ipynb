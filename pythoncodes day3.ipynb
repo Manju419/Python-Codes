{
 "cells": [
  {
   "cell_type": "markdown",
   "metadata": {},
   "source": [
    "### Day 3 :\n",
    "\n",
    "###**Simple Programs\n",
    "\n",
    "**Note: In this Chapter we discuss the python codes with clear explanations like how the program run with input values and how the statements work.**\n",
    "\n",
    "**Let's go ahead .......**"
   ]
  },
  {
   "cell_type": "markdown",
   "metadata": {},
   "source": [
    "### 22. Lcm of three numbers\n",
    "\n",
    "**Ex: 12=4(3)\n",
    "      15=5(3)\n",
    "      18=6(3)\n",
    "      \n",
    "      **Then Final Lcm of 12,15,18 is 180"
   ]
  },
  {
   "cell_type": "code",
   "execution_count": 1,
   "metadata": {},
   "outputs": [
    {
     "name": "stdout",
     "output_type": "stream",
     "text": [
      "enter a:12\n",
      "enter b:15\n",
      "enter c:18\n",
      "180 "
     ]
    }
   ],
   "source": [
    "a=int(input(\"enter a:\"))\n",
    "b=int(input(\"enter b:\"))\n",
    "c=int(input(\"enter c:\"))\n",
    "if(a>b) and (a>c):\n",
    "    max1=a\n",
    "elif (b>c) and (b>a):\n",
    "    max1=b\n",
    "else:\n",
    "    max1=c\n",
    "    \n",
    "while True:\n",
    "    if((max1%a==0)and(max1%b==0) and (max1%c==0)):\n",
    "        print(max1,end=\" \")\n",
    "        break\n",
    "    max1=max1+1\n",
    "\n",
    "        "
   ]
  },
  {
   "cell_type": "markdown",
   "metadata": {},
   "source": [
    "##### Note: If you need to know the process of this program go and check in day3 procedure.txt\n"
   ]
  },
  {
   "cell_type": "markdown",
   "metadata": {},
   "source": [
    "### 22(a): Lcm of two numbers using recursion"
   ]
  },
  {
   "cell_type": "code",
   "execution_count": 1,
   "metadata": {},
   "outputs": [
    {
     "name": "stdout",
     "output_type": "stream",
     "text": [
      "enter a:4\n",
      "enter b:6\n"
     ]
    },
    {
     "data": {
      "text/plain": [
       "12"
      ]
     },
     "execution_count": 1,
     "metadata": {},
     "output_type": "execute_result"
    }
   ],
   "source": [
    "a=int(input(\"enter a:\"))\n",
    "b=int(input(\"enter b:\"))\n",
    "def gcd(a,b):\n",
    "    if b==0:\n",
    "        return a\n",
    "    return gcd(b,a%b)\n",
    "def lcm(a,b):\n",
    "    lcm=(a*b)/gcd(a,b)\n",
    "    return int(lcm)\n",
    "gcd(a,b)\n",
    "lcm(a,b)"
   ]
  },
  {
   "cell_type": "markdown",
   "metadata": {},
   "source": [
    "## Conversion Codes\n",
    "\n",
    "### 23. Decimal to any conversion upto 36"
   ]
  },
  {
   "cell_type": "code",
   "execution_count": 9,
   "metadata": {},
   "outputs": [
    {
     "name": "stdout",
     "output_type": "stream",
     "text": [
      "enter decimal number:15\n",
      "enter base:8\n"
     ]
    },
    {
     "data": {
      "text/plain": [
       "17"
      ]
     },
     "execution_count": 9,
     "metadata": {},
     "output_type": "execute_result"
    }
   ],
   "source": [
    "n=int(input(\"enter decimal number:\"))\n",
    "b=int(input(\"enter base:\"))\n",
    "def dectobase(n):\n",
    "    base1=\" \"\n",
    "    while(n>0):\n",
    "        dig=n%b\n",
    "        if(dig<10):\n",
    "            base1=base1+str(dig)\n",
    "        else:\n",
    "            base1=base1+chr(ord('A')+dig-10)\n",
    "        \n",
    "        n=n//10\n",
    "    base1=(base1[::-1])\n",
    "    return int(base1)\n",
    "dectobase(n)\n"
   ]
  },
  {
   "cell_type": "markdown",
   "metadata": {},
   "source": [
    "##### Note: If you need to know the process of this program go and check in day3 procedure.txt\n"
   ]
  },
  {
   "cell_type": "markdown",
   "metadata": {},
   "source": [
    "### 24. Binary to Decimal number\n",
    "\n",
    "**In Number system the Binary codes are**\n",
    "  0000=0\n",
    "  \n",
    "  0001=1\n",
    "  \n",
    "  0010=2\n",
    "  \n",
    "  0011=3\n",
    "  \n",
    "  0100=4........1111=15**"
   ]
  },
  {
   "cell_type": "code",
   "execution_count": 13,
   "metadata": {},
   "outputs": [
    {
     "name": "stdout",
     "output_type": "stream",
     "text": [
      "enter binary number:10111\n",
      "23 "
     ]
    }
   ],
   "source": [
    "n=int(input(\"enter binary number:\"))\n",
    "dec=0\n",
    "base=1\n",
    "binary=n\n",
    "while(binary>0):\n",
    "    r=binary%10\n",
    "    dec=dec+r*base\n",
    "    binary=binary//10\n",
    "    base=base*2\n",
    "print(dec,end=\" \")"
   ]
  },
  {
   "cell_type": "markdown",
   "metadata": {},
   "source": [
    "#####  Note: If you need to know the process of this program go and check in day3 procedure.txt¶"
   ]
  },
  {
   "cell_type": "markdown",
   "metadata": {},
   "source": [
    "### 24(a): Binary to Octal number\n",
    "\n",
    "**Inorder to perform the Binary to Octal  **\n",
    "\n",
    "**Step1:Binary to Decimal**\n",
    "\n",
    "**Step2:Decimal to Octal**  "
   ]
  },
  {
   "cell_type": "code",
   "execution_count": 1,
   "metadata": {},
   "outputs": [
    {
     "name": "stdout",
     "output_type": "stream",
     "text": [
      "enter binary number:100101\n",
      "45 "
     ]
    }
   ],
   "source": [
    "n=int(input(\"enter binary number:\"))\n",
    "def dectooct(n):\n",
    "    dec=0\n",
    "    base=1\n",
    "    while(n>0):\n",
    "        r=n%10\n",
    "        dec=dec+r*base\n",
    "        base=base*2\n",
    "        n=n//10\n",
    "\n",
    "    def basetooct(dec):\n",
    "        oct1=0\n",
    "        base=1\n",
    "        while(dec>0):\n",
    "            r1=dec%8\n",
    "            oct1=oct1+r1*base\n",
    "            dec=dec//8\n",
    "            base=base*10\n",
    "        print(oct1,end=\" \")\n",
    "    basetooct(dec)\n",
    "dectooct(n)\n"
   ]
  },
  {
   "cell_type": "markdown",
   "metadata": {},
   "source": [
    "##### Note: If you need to know the process of this program go and check in day3 procedure.txt"
   ]
  },
  {
   "cell_type": "markdown",
   "metadata": {},
   "source": [
    "### Note2: Similiarly Conversion of Binary to Hexadecimal is also same except few statements\n",
    "\n",
    "**r2=dec%16**\n",
    "\n",
    "**dec=dec//16**"
   ]
  },
  {
   "cell_type": "markdown",
   "metadata": {},
   "source": [
    "###  25. Octal to Decimal number"
   ]
  },
  {
   "cell_type": "code",
   "execution_count": 3,
   "metadata": {},
   "outputs": [
    {
     "name": "stdout",
     "output_type": "stream",
     "text": [
      "enter octal number:37\n",
      "45 "
     ]
    }
   ],
   "source": [
    "n=int(input(\"enter octal number:\"))\n",
    "def octtodec(n):\n",
    "    dec=0\n",
    "    base=1\n",
    "    while(n>0):\n",
    "        r=n%8\n",
    "        dec=dec+r*base\n",
    "        n=n//8\n",
    "        base=base*10\n",
    "    print(dec,end=\" \")\n",
    "octtodec(n)\n",
    "    "
   ]
  },
  {
   "cell_type": "markdown",
   "metadata": {},
   "source": [
    "##### Note: If you need to know the process of this program go and check in day3 procedure.txt\n"
   ]
  },
  {
   "cell_type": "markdown",
   "metadata": {},
   "source": [
    "### 26.Count number of digits in a given number"
   ]
  },
  {
   "cell_type": "code",
   "execution_count": 3,
   "metadata": {},
   "outputs": [
    {
     "name": "stdout",
     "output_type": "stream",
     "text": [
      "enter number:100\n",
      "3 "
     ]
    }
   ],
   "source": [
    "n=int(input(\"enter number:\"))\n",
    "count=0\n",
    "if(n==0):\n",
    "    count=1\n",
    "while(n>0):\n",
    "    r=n%10\n",
    "    if(r>=0):\n",
    "        count=count+1\n",
    "    n=n//10    \n",
    "print(count,end=\" \")"
   ]
  },
  {
   "cell_type": "markdown",
   "metadata": {},
   "source": [
    "#####  Note: If you need to know the process of this program go and check in day3 procedure.txt"
   ]
  },
  {
   "cell_type": "markdown",
   "metadata": {},
   "source": [
    "## Series programs\n",
    "\n",
    "### 27. 1 2 3 6 9 18 27.........\n"
   ]
  },
  {
   "cell_type": "code",
   "execution_count": 1,
   "metadata": {},
   "outputs": [
    {
     "name": "stdout",
     "output_type": "stream",
     "text": [
      "4\n",
      "1 2 3 6 "
     ]
    }
   ],
   "source": [
    "n=int(input())\n",
    "a=1\n",
    "b=2\n",
    "print(a,b,end=\" \")\n",
    "for i in range(3,n+1):\n",
    "    if (i%2==1):\n",
    "        a=a*3\n",
    "        print(a,end=\" \")\n",
    "        \n",
    "    else:\n",
    "        b=b*3\n",
    "        print(b,end=\" \")\n",
    "        \n",
    "   \n"
   ]
  },
  {
   "cell_type": "markdown",
   "metadata": {},
   "source": [
    "##### Note: If you need to know the process of this program go and check in day3 procedure.txt\n"
   ]
  },
  {
   "cell_type": "markdown",
   "metadata": {},
   "source": [
    "### 28. 3 8 6 11 9 14 12.......... "
   ]
  },
  {
   "cell_type": "code",
   "execution_count": 12,
   "metadata": {},
   "outputs": [
    {
     "name": "stdout",
     "output_type": "stream",
     "text": [
      "7\n",
      "3 8 6 11 9 14 12 "
     ]
    }
   ],
   "source": [
    "n=int(input())\n",
    "a=3\n",
    "temp=a\n",
    "print(a,end=\" \")\n",
    "for i in range(2,n+1):\n",
    "    if (i%2==0):\n",
    "        temp=temp+5\n",
    "    else:\n",
    "        temp=temp-2\n",
    "    print(temp,end=\" \")"
   ]
  },
  {
   "cell_type": "markdown",
   "metadata": {},
   "source": [
    "##### Note: If you need to know the process of this program go and check in day3 procedure.txt\n"
   ]
  },
  {
   "cell_type": "markdown",
   "metadata": {},
   "source": [
    "###  29. How to check the divisiblility of number"
   ]
  },
  {
   "cell_type": "code",
   "execution_count": 2,
   "metadata": {},
   "outputs": [
    {
     "name": "stdout",
     "output_type": "stream",
     "text": [
      "enter x:8\n",
      "enter y:4\n",
      "8 is divisible by 4\n"
     ]
    }
   ],
   "source": [
    "x=int(input(\"enter x:\"))\n",
    "y=int(input(\"enter y:\"))\n",
    "if(x%y==0):\n",
    "    print(x,\"is divisible by\",y)\n",
    "else:\n",
    "    print(x,\"is not divisible by\",y)"
   ]
  },
  {
   "cell_type": "markdown",
   "metadata": {},
   "source": [
    "### 30. How to create the simple thermometer"
   ]
  },
  {
   "cell_type": "code",
   "execution_count": 2,
   "metadata": {},
   "outputs": [
    {
     "name": "stdout",
     "output_type": "stream",
     "text": [
      "enter 'c' or 'f':1c\n",
      "34F\n"
     ]
    }
   ],
   "source": [
    "x=input(\"enter 'c' or 'f':\")\n",
    "unit=x[-1]\n",
    "x=int(x[0:-1])\n",
    "if unit=='C'or unit=='c':\n",
    "    x=round(x*(9/5)+32)\n",
    "    print(str(x)+'F')\n",
    "elif unit=='F'or unit=='f':\n",
    "    x=round((x-32)*(5/9))\n",
    "    print(str(x)+'C')\n",
    "            \n",
    "        "
   ]
  },
  {
   "cell_type": "markdown",
   "metadata": {},
   "source": [
    "##### Note: If you need to know the process of this program go and check in day3 procedure.txt\n"
   ]
  },
  {
   "cell_type": "code",
   "execution_count": null,
   "metadata": {},
   "outputs": [],
   "source": []
  }
 ],
 "metadata": {
  "kernelspec": {
   "display_name": "Python 3",
   "language": "python",
   "name": "python3"
  },
  "language_info": {
   "codemirror_mode": {
    "name": "ipython",
    "version": 3
   },
   "file_extension": ".py",
   "mimetype": "text/x-python",
   "name": "python",
   "nbconvert_exporter": "python",
   "pygments_lexer": "ipython3",
   "version": "3.7.4"
  }
 },
 "nbformat": 4,
 "nbformat_minor": 2
}
