{
 "cells": [
  {
   "cell_type": "markdown",
   "metadata": {},
   "source": [
    "## 1. Positive or negative number"
   ]
  },
  {
   "cell_type": "code",
   "execution_count": 5,
   "metadata": {},
   "outputs": [
    {
     "name": "stdout",
     "output_type": "stream",
     "text": [
      "enter number:4\n",
      "It is positive number\n"
     ]
    }
   ],
   "source": [
    "x=int(input(\"enter number:\"))\n",
    "if x>=0:\n",
    "    print(\"It is positive number\")\n",
    "elif x<0:\n",
    "    print(\"It is negative number\")"
   ]
  },
  {
   "cell_type": "markdown",
   "metadata": {},
   "source": [
    "## 2. Even or Odd number"
   ]
  },
  {
   "cell_type": "code",
   "execution_count": 7,
   "metadata": {},
   "outputs": [
    {
     "name": "stdout",
     "output_type": "stream",
     "text": [
      "enter number:4\n",
      "IT is even number\n"
     ]
    }
   ],
   "source": [
    "x=int(input(\"enter number:\"))\n",
    "if x%2==0:\n",
    "    print(\"IT is even number\")\n",
    "else:\n",
    "    print(\"IT is odd number\")"
   ]
  },
  {
   "cell_type": "markdown",
   "metadata": {},
   "source": [
    "## 3. sum of N natural numbers"
   ]
  },
  {
   "cell_type": "code",
   "execution_count": 11,
   "metadata": {},
   "outputs": [
    {
     "name": "stdout",
     "output_type": "stream",
     "text": [
      "enter number:5\n",
      "15 "
     ]
    }
   ],
   "source": [
    "x=int(input(\"enter number:\"))\n",
    "sum1=0\n",
    "for i in range(1,x+1):\n",
    "    sum1=sum1+i\n",
    "print(sum1,end=\" \")"
   ]
  },
  {
   "cell_type": "markdown",
   "metadata": {},
   "source": [
    "## 4. Greatest of two numbers\n"
   ]
  },
  {
   "cell_type": "code",
   "execution_count": 15,
   "metadata": {},
   "outputs": [
    {
     "name": "stdout",
     "output_type": "stream",
     "text": [
      "enter number1:1\n",
      "enter number2:7\n",
      "x2 is greater\n"
     ]
    }
   ],
   "source": [
    "x1=int(input(\"enter number1:\"))\n",
    "x2=int(input(\"enter number2:\"))\n",
    "if (x1>x2):\n",
    "    print(\"x1 is greater\")\n",
    "else:\n",
    "    print(\"x2 is greater\")"
   ]
  },
  {
   "cell_type": "code",
   "execution_count": 18,
   "metadata": {},
   "outputs": [
    {
     "name": "stdout",
     "output_type": "stream",
     "text": [
      "enter number1:4\n",
      "enter number2:5\n",
      "enter number3:2\n",
      "b is greater\n"
     ]
    }
   ],
   "source": [
    "a=int(input(\"enter number1:\"))\n",
    "b=int(input(\"enter number2:\"))\n",
    "c=int(input(\"enter number3:\"))\n",
    "if (a>b) and (a>c):\n",
    "    print(\"a is greater\")\n",
    "elif (b>a) and (b>c):\n",
    "    print(\"b is greater\")\n",
    "else:\n",
    "    print(\"c is greater\")"
   ]
  },
  {
   "cell_type": "markdown",
   "metadata": {},
   "source": [
    "## 5. Leap year or not"
   ]
  },
  {
   "cell_type": "code",
   "execution_count": 24,
   "metadata": {},
   "outputs": [
    {
     "name": "stdout",
     "output_type": "stream",
     "text": [
      "enter number:1900\n",
      "It is not leap year\n"
     ]
    }
   ],
   "source": [
    "x=int(input(\"enter number:\"))\n",
    "if x%4==0:\n",
    "    if x%100==0:\n",
    "        if x%400==0:\n",
    "            print(\"It is leap year\")\n",
    "        else:\n",
    "            print(\"It is not leap year\")\n",
    "    else:\n",
    "        print(\"It is leap year\")\n",
    "else:\n",
    "    print(\"IT is not leap year\")"
   ]
  },
  {
   "cell_type": "markdown",
   "metadata": {},
   "source": [
    "## 6. Prime or not"
   ]
  },
  {
   "cell_type": "code",
   "execution_count": 34,
   "metadata": {},
   "outputs": [
    {
     "name": "stdout",
     "output_type": "stream",
     "text": [
      "enter number:17\n",
      "It is prime\n"
     ]
    }
   ],
   "source": [
    "x=int(input(\"enter number:\"))\n",
    "count=0\n",
    "for i in range(1,x+1):\n",
    "    if x%i==0:\n",
    "        count+=1\n",
    "if (count==2):\n",
    "    print(\"It is prime\")\n",
    "else:\n",
    "    print(\"It is not prime\")"
   ]
  },
  {
   "cell_type": "markdown",
   "metadata": {},
   "source": [
    "## 7. Prime with in range"
   ]
  },
  {
   "cell_type": "code",
   "execution_count": 45,
   "metadata": {},
   "outputs": [
    {
     "name": "stdout",
     "output_type": "stream",
     "text": [
      "enter start:2\n",
      "enter end:10\n",
      "2 3 5 7 "
     ]
    }
   ],
   "source": [
    "start=int(input(\"enter start:\"))\n",
    "end=int(input(\"enter end:\"))\n",
    "for i in range(start,end+1):\n",
    "    for j in range(2,(i//2)+1):\n",
    "        if i%j==0:\n",
    "            break\n",
    "    else:\n",
    "        print(i,end=\" \")"
   ]
  },
  {
   "cell_type": "markdown",
   "metadata": {},
   "source": [
    "## 1+2+3+4+5=15"
   ]
  },
  {
   "cell_type": "code",
   "execution_count": 51,
   "metadata": {},
   "outputs": [
    {
     "name": "stdout",
     "output_type": "stream",
     "text": [
      "enter number:5\n",
      "1 + 2 + 3 + 4 + 5=15 "
     ]
    }
   ],
   "source": [
    "n=int(input(\"enter number:\"))\n",
    "sum1=0\n",
    "for i in range(1,n):\n",
    "    print(i,'+',end=\" \")\n",
    "    sum1=sum1+i\n",
    "for i in range(n,n+1):\n",
    "    print(i,end= \"=\")\n",
    "    sum1=sum1+n\n",
    "print(sum1,end=\" \")"
   ]
  },
  {
   "cell_type": "markdown",
   "metadata": {},
   "source": [
    "## 8. Print prime numbers as order (3,5),(5,7)"
   ]
  },
  {
   "cell_type": "code",
   "execution_count": 54,
   "metadata": {},
   "outputs": [
    {
     "name": "stdout",
     "output_type": "stream",
     "text": [
      "enter number:20\n",
      "(3,5)\n",
      "(5,7)\n",
      "(11,13)\n",
      "(17,19)\n"
     ]
    }
   ],
   "source": [
    "n=int(input(\"enter number:\"))\n",
    "for i in range(3,n+1):\n",
    "    for j in range(2,(i//2)+1):\n",
    "        if i%j==0:\n",
    "            break\n",
    "    else:\n",
    "        k=i+2\n",
    "        if k>n:\n",
    "            break\n",
    "        \n",
    "        for a in range(2,(k//2)+1):\n",
    "            if k%a==0:\n",
    "                break\n",
    "        else:\n",
    "            print(\"({x},{y})\".format(x=i,y=k))"
   ]
  },
  {
   "cell_type": "markdown",
   "metadata": {},
   "source": [
    "### Sum of given numbers"
   ]
  },
  {
   "cell_type": "code",
   "execution_count": null,
   "metadata": {},
   "outputs": [],
   "source": [
    "n=int(input(\"enter number:\"))\n"
   ]
  }
 ],
 "metadata": {
  "kernelspec": {
   "display_name": "Python 3",
   "language": "python",
   "name": "python3"
  },
  "language_info": {
   "codemirror_mode": {
    "name": "ipython",
    "version": 3
   },
   "file_extension": ".py",
   "mimetype": "text/x-python",
   "name": "python",
   "nbconvert_exporter": "python",
   "pygments_lexer": "ipython3",
   "version": "3.7.4"
  }
 },
 "nbformat": 4,
 "nbformat_minor": 2
}
