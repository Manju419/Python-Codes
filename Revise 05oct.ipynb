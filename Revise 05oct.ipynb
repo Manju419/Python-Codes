{
 "cells": [
  {
   "cell_type": "markdown",
   "metadata": {},
   "source": [
    "### Positive or negative number"
   ]
  },
  {
   "cell_type": "code",
   "execution_count": 4,
   "metadata": {},
   "outputs": [
    {
     "name": "stdout",
     "output_type": "stream",
     "text": [
      "enter nbr:-2\n",
      "It is negative\n"
     ]
    }
   ],
   "source": [
    "n=int(input(\"enter nbr:\"))\n",
    "if(n>0):\n",
    "    print(\"It is positive\")\n",
    "elif n<0:\n",
    "    print(\"It is negative\")\n",
    "else:\n",
    "    print(\"It is zero\")"
   ]
  },
  {
   "cell_type": "markdown",
   "metadata": {},
   "source": [
    "###  Even or Odd numbers"
   ]
  },
  {
   "cell_type": "code",
   "execution_count": 6,
   "metadata": {},
   "outputs": [
    {
     "name": "stdout",
     "output_type": "stream",
     "text": [
      "enter number:4\n",
      "It is even number\n"
     ]
    }
   ],
   "source": [
    "n=int(input(\"enter number:\"))\n",
    "if(n%2==0):\n",
    "    print(\"It is even number\")\n",
    "else:\n",
    "    print(\"It is odd number\")"
   ]
  },
  {
   "cell_type": "markdown",
   "metadata": {},
   "source": [
    "###  Sum of N numbers"
   ]
  },
  {
   "cell_type": "code",
   "execution_count": 7,
   "metadata": {},
   "outputs": [
    {
     "name": "stdout",
     "output_type": "stream",
     "text": [
      "enter number:5\n",
      "15 "
     ]
    }
   ],
   "source": [
    "n=int(input(\"enter number:\"))\n",
    "sum1=0\n",
    "for i in range(1,n+1):\n",
    "    sum1=sum1+i\n",
    "print(sum1,end=\" \")"
   ]
  },
  {
   "cell_type": "markdown",
   "metadata": {},
   "source": [
    "### 1+2+3+4+5=15 "
   ]
  },
  {
   "cell_type": "code",
   "execution_count": 8,
   "metadata": {},
   "outputs": [
    {
     "name": "stdout",
     "output_type": "stream",
     "text": [
      "enter number:5\n",
      "1 + 2 + 3 + 4 + 5 = 15 "
     ]
    }
   ],
   "source": [
    "n=int(input(\"enter number:\"))\n",
    "sum1=0\n",
    "for i in range(1,n):\n",
    "    print(i,'+',end=\" \")\n",
    "    sum1=sum1+i\n",
    "for i in range(n,n+1):\n",
    "    print(n,'=',end=\" \")\n",
    "    sum1=sum1+n\n",
    "print(sum1,end=\" \")"
   ]
  },
  {
   "cell_type": "markdown",
   "metadata": {},
   "source": [
    "###  Greatest of two numbers"
   ]
  },
  {
   "cell_type": "code",
   "execution_count": 14,
   "metadata": {},
   "outputs": [
    {
     "name": "stdout",
     "output_type": "stream",
     "text": [
      "enter a:8\n",
      "enter b:4\n",
      "a is greater\n"
     ]
    }
   ],
   "source": [
    "a=int(input(\"enter a:\"))\n",
    "b=int(input(\"enter b:\"))\n",
    "if(a>b):\n",
    "    print(\"a is greater\")\n",
    "else:\n",
    "    print(\"b is greater\")"
   ]
  },
  {
   "cell_type": "markdown",
   "metadata": {},
   "source": [
    "### Greatest of three numbers"
   ]
  },
  {
   "cell_type": "code",
   "execution_count": 17,
   "metadata": {},
   "outputs": [
    {
     "name": "stdout",
     "output_type": "stream",
     "text": [
      "enter a:8\n",
      "enter b:4\n",
      "enter c:2\n",
      "a is greater\n"
     ]
    }
   ],
   "source": [
    "a=int(input(\"enter a:\"))\n",
    "b=int(input(\"enter b:\"))\n",
    "c=int(input(\"enter c:\"))\n",
    "if(a>b)and(a>c):\n",
    "    print(\"a is greater\")\n",
    "elif (b>a)and(b>c):\n",
    "    print(\"b is greater\")\n",
    "else:\n",
    "    print(\"c is greater\")"
   ]
  },
  {
   "cell_type": "markdown",
   "metadata": {},
   "source": [
    "### Leap year or not"
   ]
  },
  {
   "cell_type": "code",
   "execution_count": 21,
   "metadata": {},
   "outputs": [
    {
     "name": "stdout",
     "output_type": "stream",
     "text": [
      "enter year:1998\n",
      "It is not leap year\n"
     ]
    }
   ],
   "source": [
    "year=int(input(\"enter year:\"))\n",
    "if year%4==0:\n",
    "    if year%100==0:\n",
    "        if year%400==0:\n",
    "            print(\"It is leap year\")\n",
    "        else:\n",
    "            print(\"It is not leap year\")\n",
    "    else:\n",
    "        print(\"It is leap year\")\n",
    "else:\n",
    "    print(\"It is not leap year\")"
   ]
  },
  {
   "cell_type": "markdown",
   "metadata": {},
   "source": [
    "###  Prime number or not"
   ]
  },
  {
   "cell_type": "code",
   "execution_count": 29,
   "metadata": {},
   "outputs": [
    {
     "name": "stdout",
     "output_type": "stream",
     "text": [
      "enter number:11\n",
      "it is prime\n"
     ]
    }
   ],
   "source": [
    "n=int(input(\"enter number:\"))\n",
    "count=0\n",
    "for i in range(1,n+1):\n",
    "    if n%i==0:\n",
    "        count=count+1\n",
    "        \n",
    "if(count==2):\n",
    "    print(\"it is prime\")\n",
    "else:\n",
    "    print(\"It is not prime\")\n",
    "    "
   ]
  },
  {
   "cell_type": "markdown",
   "metadata": {},
   "source": [
    "### Prime with in range"
   ]
  },
  {
   "cell_type": "code",
   "execution_count": 30,
   "metadata": {},
   "outputs": [
    {
     "name": "stdout",
     "output_type": "stream",
     "text": [
      "enter start:2\n",
      "enter end:20\n",
      "2 3 5 7 11 13 17 19 "
     ]
    }
   ],
   "source": [
    "start=int(input(\"enter start:\"))\n",
    "end=int(input(\"enter end:\"))\n",
    "for i in range(start,end+1):\n",
    "    for j in range(2,(i//2)+1):\n",
    "        if i%j==0:\n",
    "            break\n",
    "    else:\n",
    "        print(i,end=\" \")"
   ]
  },
  {
   "cell_type": "markdown",
   "metadata": {},
   "source": [
    "(3,5)\n",
    "\n",
    "(5,7)\n",
    "\n",
    "(11,13)\n",
    "\n",
    "(17,19)"
   ]
  },
  {
   "cell_type": "code",
   "execution_count": 36,
   "metadata": {},
   "outputs": [
    {
     "name": "stdout",
     "output_type": "stream",
     "text": [
      "enter number:20\n",
      "(3,5)\n",
      "(5,7)\n",
      "(11,13)\n",
      "(17,19)\n"
     ]
    }
   ],
   "source": [
    "n=int(input(\"enter number:\"))\n",
    "for i in range(3,n+1):\n",
    "    for j in  range(2,(i//2)+1):\n",
    "        if i%j==0:\n",
    "            break\n",
    "    else:\n",
    "        k=i+2\n",
    "        if(k>n):\n",
    "            break\n",
    "            \n",
    "        for a in range(2,(k//2)+1):\n",
    "            if k%a==0:\n",
    "                break\n",
    "        else:\n",
    "            print(\"({},{})\".format(i,k))"
   ]
  },
  {
   "cell_type": "markdown",
   "metadata": {},
   "source": [
    "### Sum of given number"
   ]
  },
  {
   "cell_type": "code",
   "execution_count": 38,
   "metadata": {},
   "outputs": [
    {
     "name": "stdout",
     "output_type": "stream",
     "text": [
      "enter number:1234\n",
      "10 "
     ]
    }
   ],
   "source": [
    "n=int(input(\"enter number:\"))\n",
    "sum1=0\n",
    "while(n>0):\n",
    "    r=n%10\n",
    "    sum1=sum1+r\n",
    "    n=n//10\n",
    "print(sum1,end=\" \")"
   ]
  },
  {
   "cell_type": "markdown",
   "metadata": {},
   "source": [
    "### Reverse a number"
   ]
  },
  {
   "cell_type": "code",
   "execution_count": 39,
   "metadata": {},
   "outputs": [
    {
     "name": "stdout",
     "output_type": "stream",
     "text": [
      "enter number:1234\n",
      "4321 "
     ]
    }
   ],
   "source": [
    "n=int(input(\"enter number:\"))\n",
    "sum1=0\n",
    "while(n>0):\n",
    "    r=n%10\n",
    "    sum1=sum1*10+r\n",
    "    n=n//10\n",
    "print(sum1,end=\" \")"
   ]
  },
  {
   "cell_type": "markdown",
   "metadata": {},
   "source": [
    "###  Palindrome or not"
   ]
  },
  {
   "cell_type": "code",
   "execution_count": 44,
   "metadata": {},
   "outputs": [
    {
     "name": "stdout",
     "output_type": "stream",
     "text": [
      "enter number:1224\n",
      "It is not palindrome\n"
     ]
    }
   ],
   "source": [
    "n=int(input(\"enter number:\"))\n",
    "sum1=0\n",
    "q=n\n",
    "while(q>0):\n",
    "    r=q%10\n",
    "    sum1=sum1*10+r\n",
    "    q=q//10\n",
    "    \n",
    "if(sum1==n):\n",
    "    print(\"It is palindrome\")\n",
    "else:\n",
    "    print(\"It is not palindrome\")"
   ]
  },
  {
   "cell_type": "markdown",
   "metadata": {},
   "source": [
    "### Strong number or not"
   ]
  },
  {
   "cell_type": "code",
   "execution_count": 3,
   "metadata": {},
   "outputs": [
    {
     "name": "stdout",
     "output_type": "stream",
     "text": [
      "enter number:145\n",
      "It is strong number\n"
     ]
    }
   ],
   "source": [
    "n=int(input(\"enter number:\"))\n",
    "sum1=0\n",
    "q=n\n",
    "while(q>0):\n",
    "    r=q%10\n",
    "    fact=1\n",
    "    for i in range(1,r+1):\n",
    "        fact=fact*i\n",
    "    sum1=sum1+fact\n",
    "    q=q//10\n",
    "if(sum1==n):\n",
    "    print(\"It is strong number\")\n",
    "else:\n",
    "    print(\"It is not strong number\")"
   ]
  },
  {
   "cell_type": "markdown",
   "metadata": {},
   "source": [
    "### Armstrong number or not"
   ]
  },
  {
   "cell_type": "code",
   "execution_count": 7,
   "metadata": {},
   "outputs": [
    {
     "name": "stdout",
     "output_type": "stream",
     "text": [
      "enter number:372\n",
      "It is not armstrong number\n"
     ]
    }
   ],
   "source": [
    "n=int(input(\"enter number:\"))\n",
    "sum1=0\n",
    "q=n\n",
    "while(q>0):\n",
    "    r=q%10\n",
    "    sum1=sum1+r*r*r\n",
    "    q=q//10\n",
    "if(sum1==n):\n",
    "    print(\"It is armstrong number\")\n",
    "else:\n",
    "    print(\"It is not armstrong number\")"
   ]
  },
  {
   "cell_type": "code",
   "execution_count": 24,
   "metadata": {},
   "outputs": [
    {
     "name": "stdout",
     "output_type": "stream",
     "text": [
      "enter start:1\n",
      "enter end:380\n",
      "1 153 370 371 "
     ]
    }
   ],
   "source": [
    "start=int(input(\"enter start:\"))\n",
    "end=int(input(\"enter end:\"))\n",
    "for i in range(start,end+1):\n",
    "    sum1=0\n",
    "    q=i\n",
    "    while(q>0):\n",
    "        r=q%10\n",
    "        sum1=sum1+r*r*r\n",
    "        q=q//10\n",
    "        \n",
    "    if(sum1==i):\n",
    "        print(sum1,end=\" \")"
   ]
  },
  {
   "cell_type": "markdown",
   "metadata": {},
   "source": [
    "###  Fibonacci series\n"
   ]
  },
  {
   "cell_type": "code",
   "execution_count": 1,
   "metadata": {},
   "outputs": [
    {
     "name": "stdout",
     "output_type": "stream",
     "text": [
      "enter n:10\n",
      "0 1 1 2 3 5 8 13 21 34 "
     ]
    }
   ],
   "source": [
    "n=int(input(\"enter n:\"))\n",
    "a=0\n",
    "b=1\n",
    "print(a,b,end=\" \")\n",
    "for i in range(3,n+1):\n",
    "    res=a+b\n",
    "    a=b\n",
    "    b=res\n",
    "    print(res,end=\" \")"
   ]
  },
  {
   "cell_type": "markdown",
   "metadata": {},
   "source": [
    "### Fibonacci sum is 143"
   ]
  },
  {
   "cell_type": "code",
   "execution_count": 26,
   "metadata": {},
   "outputs": [
    {
     "name": "stdout",
     "output_type": "stream",
     "text": [
      "enter number:10\n"
     ]
    },
    {
     "data": {
      "text/plain": [
       "143"
      ]
     },
     "execution_count": 26,
     "metadata": {},
     "output_type": "execute_result"
    }
   ],
   "source": [
    "n=int(input(\"enter number:\"))\n",
    "def calsum(n):\n",
    "    fib=[0]*(n+1)\n",
    "    fib[0]=0\n",
    "    fib[1]=1\n",
    "    sm=fib[0]+fib[1]\n",
    "    for i in range(2,n+1):\n",
    "        fib[i]=fib[i-2]+fib[i-1]\n",
    "        sm=sm+fib[i]\n",
    "    return sm\n",
    "calsum(n)"
   ]
  },
  {
   "cell_type": "markdown",
   "metadata": {},
   "source": [
    "### Factorial of given number"
   ]
  },
  {
   "cell_type": "code",
   "execution_count": 27,
   "metadata": {},
   "outputs": [
    {
     "name": "stdout",
     "output_type": "stream",
     "text": [
      "enter n:5\n"
     ]
    },
    {
     "data": {
      "text/plain": [
       "120"
      ]
     },
     "execution_count": 27,
     "metadata": {},
     "output_type": "execute_result"
    }
   ],
   "source": [
    "n=int(input(\"enter n:\"))\n",
    "def fact(n):\n",
    "    if n==1:\n",
    "        return 1\n",
    "    else:\n",
    "        return n*fact(n-1)\n",
    "fact(n)"
   ]
  },
  {
   "cell_type": "markdown",
   "metadata": {},
   "source": [
    "### Power of given number"
   ]
  },
  {
   "cell_type": "code",
   "execution_count": 29,
   "metadata": {},
   "outputs": [
    {
     "name": "stdout",
     "output_type": "stream",
     "text": [
      "enter number:5\n",
      "enter base:2\n",
      "32 "
     ]
    }
   ],
   "source": [
    "n=int(input(\"enter number:\"))\n",
    "base=int(input(\"enter base:\"))\n",
    "temp=1\n",
    "for i in range(1,n+1):\n",
    "    temp=temp*base\n",
    "print(temp,end=\" \")"
   ]
  },
  {
   "cell_type": "markdown",
   "metadata": {},
   "source": [
    "### Perfect number or not"
   ]
  },
  {
   "cell_type": "code",
   "execution_count": 36,
   "metadata": {},
   "outputs": [
    {
     "name": "stdout",
     "output_type": "stream",
     "text": [
      "enter number:6\n",
      "Perfect number\n"
     ]
    }
   ],
   "source": [
    "n=int(input(\"enter number:\"))\n",
    "sum1=0\n",
    "q=n\n",
    "for i in range(1,q):\n",
    "    if q%i==0:\n",
    "        sum1=sum1+i\n",
    "        \n",
    "if(sum1==n):\n",
    "    print(\"Perfect number\")\n",
    "else:\n",
    "    print(\"It is not perfect number\")"
   ]
  },
  {
   "cell_type": "markdown",
   "metadata": {},
   "source": [
    "### Gcd of two numbers using recursion"
   ]
  },
  {
   "cell_type": "code",
   "execution_count": 37,
   "metadata": {},
   "outputs": [
    {
     "name": "stdout",
     "output_type": "stream",
     "text": [
      "enter n1:4\n",
      "enter n2:6\n"
     ]
    },
    {
     "data": {
      "text/plain": [
       "2"
      ]
     },
     "execution_count": 37,
     "metadata": {},
     "output_type": "execute_result"
    }
   ],
   "source": [
    "n1=int(input(\"enter n1:\"))\n",
    "n2=int(input(\"enter n2:\"))\n",
    "def gcd(n1,n2):\n",
    "    if n2!=0:\n",
    "        return gcd(n2,n1%n2)\n",
    "    else:\n",
    "        return n1\n",
    "gcd(n1,n2)"
   ]
  },
  {
   "cell_type": "markdown",
   "metadata": {},
   "source": [
    "### Gcd of two numbers"
   ]
  },
  {
   "cell_type": "code",
   "execution_count": 38,
   "metadata": {},
   "outputs": [
    {
     "name": "stdout",
     "output_type": "stream",
     "text": [
      "enter n1:4\n",
      "enter n2:6\n",
      "2 "
     ]
    }
   ],
   "source": [
    "n1=int(input(\"enter n1:\"))\n",
    "n2=int(input(\"enter n2:\"))\n",
    "while(n1>0)and(n2>0):\n",
    "    if(n1>n2):\n",
    "        n1=n1-n2\n",
    "    else:\n",
    "        n2=n2-n1\n",
    "print(n1,end=\" \")"
   ]
  },
  {
   "cell_type": "markdown",
   "metadata": {},
   "source": [
    "### Automorphic number"
   ]
  },
  {
   "cell_type": "code",
   "execution_count": 5,
   "metadata": {},
   "outputs": [
    {
     "name": "stdout",
     "output_type": "stream",
     "text": [
      "enter number:625\n",
      "Automorphic number\n"
     ]
    }
   ],
   "source": [
    "n=int(input('enter number:'))\n",
    "def calsum(n):\n",
    "    sum1=0\n",
    "    sq=n*n\n",
    "    while(n>0):\n",
    "        if(n%10!=sq%10):\n",
    "            return 0\n",
    "        \n",
    "        n=n//10\n",
    "        sq=sq//10\n",
    "    return 1\n",
    "if(calsum(n)):\n",
    "    print('Automorphic number')\n",
    "else:\n",
    "    print(\"It is not automorphic\")"
   ]
  },
  {
   "cell_type": "markdown",
   "metadata": {},
   "source": [
    "### Harshad number or not"
   ]
  },
  {
   "cell_type": "code",
   "execution_count": 13,
   "metadata": {},
   "outputs": [
    {
     "name": "stdout",
     "output_type": "stream",
     "text": [
      "enter number:153\n",
      "0\n"
     ]
    }
   ],
   "source": [
    "n=int(input(\"enter number:\"))\n",
    "sum1=0\n",
    "q=n\n",
    "while(q>0):\n",
    "    r=q%10\n",
    "    sum1=sum1+r\n",
    "    q=q//10\n",
    "print((n%sum1))"
   ]
  },
  {
   "cell_type": "markdown",
   "metadata": {},
   "source": [
    "### Abundant number"
   ]
  },
  {
   "cell_type": "code",
   "execution_count": 15,
   "metadata": {},
   "outputs": [
    {
     "name": "stdout",
     "output_type": "stream",
     "text": [
      "enter number:16\n",
      "It is not abundant\n"
     ]
    }
   ],
   "source": [
    "n=int(input(\"enter number:\"))\n",
    "sum1=0\n",
    "for i in range(1,n):\n",
    "    if n%i==0:\n",
    "        sum1=sum1+i\n",
    "        \n",
    "if(sum1>n):\n",
    "    print(\"abundant\")\n",
    "else:\n",
    "    print(\"It is not abundant\")"
   ]
  },
  {
   "cell_type": "markdown",
   "metadata": {},
   "source": [
    "### Amicable"
   ]
  },
  {
   "cell_type": "code",
   "execution_count": 18,
   "metadata": {},
   "outputs": [
    {
     "name": "stdout",
     "output_type": "stream",
     "text": [
      "enter n1:220\n",
      "enter n2:284\n",
      "AMicable\n"
     ]
    }
   ],
   "source": [
    "n1=int(input(\"enter n1:\"))\n",
    "n2=int(input(\"enter n2:\"))\n",
    "sum1=0\n",
    "sum2=0\n",
    "for i in range(1,n1):\n",
    "    if n1%i==0:\n",
    "        sum1=sum1+i\n",
    "        \n",
    "for i in range(1,n2):\n",
    "    if n2%i==0:\n",
    "        sum2=sum2+i\n",
    "    \n",
    "if(sum1==n2)and(sum2==n1):\n",
    "    print(\"AMicable\")\n",
    "else:\n",
    "    print(\"It is not amicable\")"
   ]
  },
  {
   "cell_type": "markdown",
   "metadata": {},
   "source": [
    "### Lcm of three number using recursion"
   ]
  },
  {
   "cell_type": "code",
   "execution_count": 1,
   "metadata": {},
   "outputs": [
    {
     "name": "stdout",
     "output_type": "stream",
     "text": [
      "enter a:15\n",
      "enter b:12\n",
      "enter c:18\n",
      "180 "
     ]
    }
   ],
   "source": [
    "a=int(input(\"enter a:\"))\n",
    "b=int(input(\"enter b:\"))\n",
    "c=int(input(\"enter c:\"))\n",
    "if (a>b)and(a>c):\n",
    "    max1=a\n",
    "elif (b>a)and(b>c):\n",
    "    max1=b\n",
    "else:\n",
    "    max1=c\n",
    "    \n",
    "while True:\n",
    "    if(max1%a==0)and(max1%b==0)and(max1%c==0):\n",
    "        print(max1,end=\" \")\n",
    "        break\n",
    "    max1=max1+1"
   ]
  },
  {
   "cell_type": "markdown",
   "metadata": {},
   "source": [
    "### Lcm of two numbers using recursion"
   ]
  },
  {
   "cell_type": "code",
   "execution_count": 7,
   "metadata": {},
   "outputs": [
    {
     "name": "stdout",
     "output_type": "stream",
     "text": [
      "enter a:4\n",
      "enter b:6\n"
     ]
    },
    {
     "data": {
      "text/plain": [
       "12"
      ]
     },
     "execution_count": 7,
     "metadata": {},
     "output_type": "execute_result"
    }
   ],
   "source": [
    "a=int(input(\"enter a:\"))\n",
    "b=int(input(\"enter b:\"))\n",
    "def gcd(a,b):\n",
    "    if b!=0:\n",
    "        return gcd(b,a%b)\n",
    "    else:\n",
    "        return a\n",
    "    \n",
    "def lcm(a,b):\n",
    "    return int((a*b)/gcd(a,b))\n",
    "\n",
    "gcd(a,b)\n",
    "    \n",
    "lcm(a,b)"
   ]
  },
  {
   "cell_type": "markdown",
   "metadata": {},
   "source": [
    "### Binary to decimal"
   ]
  },
  {
   "cell_type": "code",
   "execution_count": 15,
   "metadata": {},
   "outputs": [
    {
     "name": "stdout",
     "output_type": "stream",
     "text": [
      "enter binary:1111\n",
      "15 "
     ]
    }
   ],
   "source": [
    "n=int(input(\"enter binary:\"))\n",
    "sum1=0\n",
    "base=1\n",
    "binary=n\n",
    "while(binary>0):\n",
    "    r=binary%10\n",
    "    sum1=sum1+r*base\n",
    "    base=base*2\n",
    "    binary=binary//10\n",
    "    \n",
    "print(sum1,end=\" \")"
   ]
  },
  {
   "cell_type": "markdown",
   "metadata": {},
   "source": [
    "### Binary to octal\n",
    "\n",
    "binary to decimal\n",
    "\n",
    "decimal to octal"
   ]
  },
  {
   "cell_type": "code",
   "execution_count": 27,
   "metadata": {},
   "outputs": [
    {
     "name": "stdout",
     "output_type": "stream",
     "text": [
      "enter binary:100101\n",
      "45 "
     ]
    }
   ],
   "source": [
    "n=int(input(\"enter binary:\"))\n",
    "def bitode(n):\n",
    "    base=1\n",
    "    dec1=0\n",
    "    while(n>0):\n",
    "        r=n%10\n",
    "        dec1=dec1+r*base\n",
    "        n=n//10\n",
    "        base=base*2\n",
    "   \n",
    "    def detooc(dec1):      \n",
    "        oct1=0\n",
    "        base=1\n",
    "        while(dec1>0):\n",
    "            r1=dec1%8\n",
    "            oct1=oct1+r1*base\n",
    "            base=base*10\n",
    "            dec1=dec1//8\n",
    "        print(oct1,end=\" \")\n",
    "    detooc(dec1)    \n",
    "bitode(n)\n",
    "\n",
    "    "
   ]
  },
  {
   "cell_type": "markdown",
   "metadata": {},
   "source": [
    "### Octal to decimal"
   ]
  },
  {
   "cell_type": "code",
   "execution_count": 29,
   "metadata": {},
   "outputs": [
    {
     "name": "stdout",
     "output_type": "stream",
     "text": [
      "enter number:45\n",
      "37 "
     ]
    }
   ],
   "source": [
    "n=int(input(\"enter number:\"))\n",
    "def octtodec(n):\n",
    "    oct1=0\n",
    "    base=1\n",
    "    while(n>0):\n",
    "        r=n%10\n",
    "        oct1=oct1+r*base\n",
    "        n=n//10\n",
    "        base=base*8\n",
    "    print(oct1,end=\" \")\n",
    "octtodec(n)"
   ]
  },
  {
   "cell_type": "markdown",
   "metadata": {},
   "source": [
    "### Count the number of digits in the number"
   ]
  },
  {
   "cell_type": "code",
   "execution_count": 1,
   "metadata": {},
   "outputs": [
    {
     "name": "stdout",
     "output_type": "stream",
     "text": [
      "ente number:12\n",
      "2 "
     ]
    }
   ],
   "source": [
    "n=int(input(\"ente number:\"))\n",
    "count=0\n",
    "if n==0:\n",
    "    count=1\n",
    "while(n>0):\n",
    "    r=n%10\n",
    "    if(r>=0):\n",
    "        count=count+1\n",
    "    n=n//10\n",
    "print(count,end=\" \")    \n",
    "    \n",
    "    \n",
    "            "
   ]
  },
  {
   "cell_type": "markdown",
   "metadata": {},
   "source": [
    "### 1 2 3 6 9 18....\n"
   ]
  },
  {
   "cell_type": "code",
   "execution_count": 2,
   "metadata": {},
   "outputs": [
    {
     "name": "stdout",
     "output_type": "stream",
     "text": [
      "enter n:6\n",
      "1 2 3 6 9 18 "
     ]
    }
   ],
   "source": [
    "n=int(input(\"enter n:\"))\n",
    "a=1\n",
    "b=2\n",
    "print(a,b,end=\" \")\n",
    "for i in range(3,n+1):\n",
    "    if i%2==1:\n",
    "        a=a*3\n",
    "        print(a,end=\" \")\n",
    "    else:\n",
    "        b=b*3\n",
    "        print(b,end=\" \")"
   ]
  },
  {
   "cell_type": "markdown",
   "metadata": {},
   "source": [
    "### 3 8 6 11 9 14 12.........."
   ]
  },
  {
   "cell_type": "code",
   "execution_count": 4,
   "metadata": {},
   "outputs": [
    {
     "name": "stdout",
     "output_type": "stream",
     "text": [
      "enter n:7\n",
      "3 8 6 11 9 14 12 "
     ]
    }
   ],
   "source": [
    "n=int(input(\"enter n:\"))\n",
    "a=3\n",
    "temp=a\n",
    "print(a,end=\" \")\n",
    "for i in range(2,n+1):\n",
    "    if i%2==0:\n",
    "        temp=temp+5\n",
    "        print(temp,end=\" \")\n",
    "    else:\n",
    "        temp=temp-2\n",
    "        print(temp,end=\" \")"
   ]
  },
  {
   "cell_type": "markdown",
   "metadata": {},
   "source": [
    "### How to check the divisiblity of number"
   ]
  },
  {
   "cell_type": "code",
   "execution_count": 8,
   "metadata": {},
   "outputs": [
    {
     "name": "stdout",
     "output_type": "stream",
     "text": [
      "enter number:4\n",
      "enter x:2\n",
      "it is divisible by x\n"
     ]
    }
   ],
   "source": [
    "n=int(input(\"enter number:\"))\n",
    "x=int(input(\"enter x:\"))\n",
    "if(n%x==0):\n",
    "    print(\"it is divisible by x\")\n",
    "else:\n",
    "    print(\"It is not divisible by x\")"
   ]
  },
  {
   "cell_type": "markdown",
   "metadata": {},
   "source": [
    "### How to create the simple thermometer"
   ]
  },
  {
   "cell_type": "code",
   "execution_count": 1,
   "metadata": {},
   "outputs": [
    {
     "name": "stdout",
     "output_type": "stream",
     "text": [
      "enter c or f1c\n",
      "34F\n"
     ]
    }
   ],
   "source": [
    "x=input(\"enter c or f\")\n",
    "unit=x[-1]\n",
    "x=int(x[0:-1])\n",
    "if unit=='c'or 'C':\n",
    "    c=round((9/5)*x+32)\n",
    "    print(str(c)+'F')\n",
    "elif unit=='f'or unit==\"F\":\n",
    "    c=round((x-32)*(5/9))\n",
    "    print(str(c)+'C')\n",
    "    "
   ]
  },
  {
   "cell_type": "markdown",
   "metadata": {},
   "source": [
    "### How to calculate the mass,density,volume"
   ]
  },
  {
   "cell_type": "code",
   "execution_count": 12,
   "metadata": {},
   "outputs": [
    {
     "name": "stdout",
     "output_type": "stream",
     "text": [
      "enter mdv:v\n",
      "enter mass:20\n",
      "enter density:4\n",
      "5.0 "
     ]
    }
   ],
   "source": [
    "mdv=input(\"enter mdv:\")\n",
    "if mdv=='m':\n",
    "    d=int(input(\"enter density:\"))\n",
    "    v=int(input(\"enter volume:\"))\n",
    "    m=d*v\n",
    "    print(m,end=\" \")\n",
    "elif mdv=='d':\n",
    "    m=int(input(\"enter mass:\"))\n",
    "    v=int(input(\"enter volume:\"))\n",
    "    d=(m/v)\n",
    "    print(d,end=\" \")\n",
    "elif mdv=='v':\n",
    "    m=int(input(\"enter mass:\"))\n",
    "    d=int(input(\"enter density:\"))\n",
    "    v=(m/d)\n",
    "    print(v,end=\" \")"
   ]
  },
  {
   "cell_type": "markdown",
   "metadata": {},
   "source": [
    "### How to determine the quadrant of the point"
   ]
  },
  {
   "cell_type": "code",
   "execution_count": 17,
   "metadata": {},
   "outputs": [
    {
     "name": "stdout",
     "output_type": "stream",
     "text": [
      "enter a:4\n",
      "enter b:4\n",
      "enter c:-5\n",
      "x1:0.72,x2:-1.72\n"
     ]
    }
   ],
   "source": [
    "import math\n",
    "a=int(input(\"enter a:\"))\n",
    "b=int(input('enter b:'))\n",
    "c=int(input(\"enter c:\"))\n",
    "y=b*b-4*a*c\n",
    "if(y>0):\n",
    "    x1=(-b+math.sqrt(y))/(2*a)\n",
    "    x2=(-b-math.sqrt(y))/(2*a)\n",
    "    print(\"x1:%.2f,x2:%.2f\"%(x1,x2))\n",
    "    \n",
    "else:\n",
    "    x1=-b/(2*a)\n",
    "    x2=-b/(2*a)\n",
    "    print(x1,x2,end=\" \")\n",
    "    "
   ]
  },
  {
   "cell_type": "markdown",
   "metadata": {},
   "source": [
    "### How to determine the triangle exist or not"
   ]
  },
  {
   "cell_type": "code",
   "execution_count": 19,
   "metadata": {},
   "outputs": [
    {
     "name": "stdout",
     "output_type": "stream",
     "text": [
      "enter a:3\n",
      "enter b:4\n",
      "enter c:5\n",
      "It is triangle\n"
     ]
    }
   ],
   "source": [
    "a=int(input(\"enter a:\"))\n",
    "b=int(input(\"enter b:\"))\n",
    "c=int(input(\"enter c:\"))\n",
    "if(a+b>c)and(b+c>a)and(a+c>b):\n",
    "    print(\"It is triangle\")\n",
    "else:\n",
    "    print(\"It is not triangle\")"
   ]
  },
  {
   "cell_type": "markdown",
   "metadata": {},
   "source": [
    "### How to check the if the point belongs to circle"
   ]
  },
  {
   "cell_type": "code",
   "execution_count": 20,
   "metadata": {},
   "outputs": [
    {
     "name": "stdout",
     "output_type": "stream",
     "text": [
      "enter side1:3\n",
      "enter side2:4\n",
      "enter hypothenesis:5\n",
      "It is belongs to circle\n"
     ]
    }
   ],
   "source": [
    "import math\n",
    "x=float(input(\"enter side1:\"))\n",
    "y=float(input(\"enter side2:\"))\n",
    "r=float(input(\"enter hypothenesis:\"))\n",
    "h=math.sqrt(pow(x,2)+pow(y,2))\n",
    "if(h<=r):\n",
    "    print(\"It is belongs to circle\")\n",
    "else:\n",
    "    print(\"It is not belongs to circle\")"
   ]
  },
  {
   "cell_type": "markdown",
   "metadata": {},
   "source": [
    "### How to print the ASCII TABLE"
   ]
  },
  {
   "cell_type": "code",
   "execution_count": 25,
   "metadata": {},
   "outputs": [
    {
     "name": "stdout",
     "output_type": "stream",
     "text": [
      "  ! \" # $ % & ' ( ) \n",
      "* + , - . / 0 1 2 3 \n",
      "4 5 6 7 8 9 : ; < = \n",
      "> ? @ A B C D E F G \n",
      "H I J K L M N O P Q \n",
      "R S T U V W X Y Z [ \n",
      "\\ ] ^ _ ` a b c d e \n",
      "f g h i j k l m n o \n",
      "p q r s t u v w x y \n",
      "z { | } ~  \n"
     ]
    }
   ],
   "source": [
    "for i in range(32,128):\n",
    "    print(chr(i),end=\" \")\n",
    "    if(i-1)%10==0:\n",
    "        print()\n",
    "print()"
   ]
  },
  {
   "cell_type": "markdown",
   "metadata": {},
   "source": [
    "### How to create the multiplication table using while,for loop"
   ]
  },
  {
   "cell_type": "code",
   "execution_count": 34,
   "metadata": {},
   "outputs": [
    {
     "name": "stdout",
     "output_type": "stream",
     "text": [
      "  1  2  3  4  5  6  7  8  9\n",
      "  2  4  6  8 10 12 14 16 18\n",
      "  3  6  9 12 15 18 21 24 27\n",
      "  4  8 12 16 20 24 28 32 36\n",
      "  5 10 15 20 25 30 35 40 45\n",
      "  6 12 18 24 30 36 42 48 54\n",
      "  7 14 21 28 35 42 49 56 63\n",
      "  8 16 24 32 40 48 56 64 72\n",
      "  9 18 27 36 45 54 63 72 81\n",
      "\n"
     ]
    }
   ],
   "source": [
    "x=1\n",
    "while x<10:\n",
    "    y=1\n",
    "    while y<10:\n",
    "        print(\"%3d\"%(x*y),end=\"\")\n",
    "        y=y+1\n",
    "    print()\n",
    "    x=x+1\n",
    "print()\n",
    "     "
   ]
  },
  {
   "cell_type": "markdown",
   "metadata": {},
   "source": [
    "### Using for loop¶"
   ]
  },
  {
   "cell_type": "code",
   "execution_count": 38,
   "metadata": {},
   "outputs": [
    {
     "name": "stdout",
     "output_type": "stream",
     "text": [
      "enter n:10\n",
      "  1  2  3  4  5  6  7  8  9 10\n",
      "  2  4  6  8 10 12 14 16 18 20\n",
      "  3  6  9 12 15 18 21 24 27 30\n",
      "  4  8 12 16 20 24 28 32 36 40\n",
      "  5 10 15 20 25 30 35 40 45 50\n",
      "  6 12 18 24 30 36 42 48 54 60\n",
      "  7 14 21 28 35 42 49 56 63 70\n",
      "  8 16 24 32 40 48 56 64 72 80\n",
      "  9 18 27 36 45 54 63 72 81 90\n",
      " 10 20 30 40 50 60 70 80 90100\n",
      "\n"
     ]
    }
   ],
   "source": [
    "n=int(input(\"enter n:\"))\n",
    "for i in range(1,n+1):\n",
    "    for j in range(1,n+1):\n",
    "        print(\"%3d\"%(i*j),end=\"\")\n",
    "    \n",
    "    print()\n",
    "print()"
   ]
  },
  {
   "cell_type": "markdown",
   "metadata": {},
   "source": [
    "### How to convert from base 2 to 9"
   ]
  },
  {
   "cell_type": "code",
   "execution_count": 44,
   "metadata": {},
   "outputs": [
    {
     "name": "stdout",
     "output_type": "stream",
     "text": [
      "enter number:12\n",
      "enter base:8\n",
      "14  "
     ]
    }
   ],
   "source": [
    "n=int(input(\"enter number:\"))\n",
    "b=int(input(\"enter base:\"))\n",
    "if not(2<=b<=9):\n",
    "    quit()\n",
    "    \n",
    "sum1=\" \"    \n",
    "while(n>0):\n",
    "    r=n%b\n",
    "    sum1=sum1+str(r)\n",
    "    n=n//b\n",
    "sum1=sum1[::-1]    \n",
    "print(sum1,end=\" \")"
   ]
  },
  {
   "cell_type": "markdown",
   "metadata": {},
   "source": [
    "### How to count number of digits in given number"
   ]
  },
  {
   "cell_type": "code",
   "execution_count": 5,
   "metadata": {},
   "outputs": [
    {
     "name": "stdout",
     "output_type": "stream",
     "text": [
      "enter number:1234\n",
      "4 "
     ]
    }
   ],
   "source": [
    "n=int(input(\"enter number:\"))\n",
    "count=0\n",
    "if n==0:\n",
    "    count=1\n",
    "    n=n//10\n",
    "    \n",
    "while(n>0):\n",
    "    r=n%10\n",
    "    if (r>=0):\n",
    "        count=count+1\n",
    "    \n",
    "    n=n//10   \n",
    "print(count,end=\" \")\n",
    "        \n",
    "    "
   ]
  },
  {
   "cell_type": "markdown",
   "metadata": {},
   "source": [
    "### How to get the even and odd number of digits"
   ]
  },
  {
   "cell_type": "code",
   "execution_count": 6,
   "metadata": {},
   "outputs": [
    {
     "name": "stdout",
     "output_type": "stream",
     "text": [
      "enter number:12345\n",
      "Ev:2,Od:3\n"
     ]
    }
   ],
   "source": [
    "n=int(input(\"enter number:\"))\n",
    "even=0\n",
    "odd=0\n",
    "while(n>0):\n",
    "    r=n%10\n",
    "    if (r%2==0):\n",
    "        even=even+1\n",
    "    if(r%2==1):\n",
    "        odd=odd+1\n",
    "    \n",
    "        \n",
    "    n=n//10\n",
    "print(\"Ev:%d,Od:%d\"%(even,odd))"
   ]
  },
  {
   "cell_type": "markdown",
   "metadata": {},
   "source": [
    "### Roman numbers to decimal numbers"
   ]
  },
  {
   "cell_type": "code",
   "execution_count": 16,
   "metadata": {},
   "outputs": [
    {
     "name": "stdout",
     "output_type": "stream",
     "text": [
      "M\n",
      "Conversion is :\n",
      "1000\n"
     ]
    }
   ],
   "source": [
    "def value(r):\n",
    "    if r=='I':\n",
    "        return 1\n",
    "    if r=='V':\n",
    "        return 5\n",
    "    if r=='X':\n",
    "        return 10\n",
    "    if r=='L':\n",
    "        return 50\n",
    "    if r=='C':\n",
    "        return 100\n",
    "    if r=='D':\n",
    "        return 500\n",
    "    if r=='M':\n",
    "        return 1000\n",
    "    return -1\n",
    "str=input()\n",
    "def romantodec(str):\n",
    "    res=0\n",
    "    i=0\n",
    "    while(i<len(str)):\n",
    "        s1=value(str[i])\n",
    "        \n",
    "        if (i+1<len(str)):\n",
    "            s2=value(str[i+1])\n",
    "            \n",
    "            if (s1>s2):\n",
    "                res=res+s1\n",
    "                i=i+1\n",
    "            else:\n",
    "                res=res+s2-s1\n",
    "                i=i+2\n",
    "        else:\n",
    "            res=res+s1\n",
    "            i=i+1\n",
    "    return res\n",
    "print(\"Conversion is :\")\n",
    "print(romantodec(str))"
   ]
  },
  {
   "cell_type": "markdown",
   "metadata": {},
   "source": [
    "### Frequency of given number"
   ]
  },
  {
   "cell_type": "code",
   "execution_count": 17,
   "metadata": {},
   "outputs": [
    {
     "name": "stdout",
     "output_type": "stream",
     "text": [
      "enter word:you are awesome\n",
      "a\n",
      "2 "
     ]
    }
   ],
   "source": [
    "str1=input('enter word:')\n",
    "char=input()\n",
    "count=0\n",
    "for i in str1:\n",
    "    if char==i:\n",
    "        count=count+1\n",
    "print(count,end=\" \")"
   ]
  },
  {
   "cell_type": "markdown",
   "metadata": {},
   "source": [
    "### How to get the sum and product of given number"
   ]
  },
  {
   "cell_type": "code",
   "execution_count": 1,
   "metadata": {},
   "outputs": [
    {
     "name": "stdout",
     "output_type": "stream",
     "text": [
      "enter number:12345\n",
      "15 120 "
     ]
    }
   ],
   "source": [
    "n=int(input(\"enter number:\"))\n",
    "sum1=0\n",
    "product=1\n",
    "while(n>0):\n",
    "    r=n%10\n",
    "    sum1=sum1+r\n",
    "    product=product*r\n",
    "    n=n//10\n",
    "print(sum1,end=\" \")\n",
    "print(product,end=\" \")"
   ]
  },
  {
   "cell_type": "markdown",
   "metadata": {},
   "source": [
    "### How to make the binary search of the given array"
   ]
  },
  {
   "cell_type": "code",
   "execution_count": 20,
   "metadata": {},
   "outputs": [
    {
     "name": "stdout",
     "output_type": "stream",
     "text": [
      "2 4 32 54 58 67 71 75 84 90 \n",
      "key the value:54\n",
      "Value is  3\n"
     ]
    }
   ],
   "source": [
    "from random import randint\n",
    "n=10\n",
    "y=[]\n",
    "for i in range(n):\n",
    "    y.append(randint(1,100))\n",
    "    y.sort()\n",
    "\n",
    "for i in y:\n",
    "    print(i,end=\" \")\n",
    "print()\n",
    "    \n",
    "mini=0\n",
    "maxi=n-1\n",
    "k=int(input(\"key the value:\"))\n",
    "while(mini<=maxi):\n",
    "    mid=(mini+maxi)//2\n",
    "    if k<y[mid]:\n",
    "        maxi=mid-1\n",
    "    elif k>y[mid]:\n",
    "        mini=mid+1\n",
    "        \n",
    "    else:\n",
    "        print(\"Value is \",mid)\n",
    "        break\n",
    "else:\n",
    "    print(\"No roots\")"
   ]
  },
  {
   "cell_type": "markdown",
   "metadata": {},
   "source": [
    "### 1,-0.5,0.25,-0.125..."
   ]
  },
  {
   "cell_type": "code",
   "execution_count": 26,
   "metadata": {},
   "outputs": [
    {
     "name": "stdout",
     "output_type": "stream",
     "text": [
      "enter n:4\n",
      "1 -0.5 0.25 -0.125 0.0625 "
     ]
    }
   ],
   "source": [
    "n=int(input(\"enter n:\"))\n",
    "z=0\n",
    "y=1\n",
    "sum1=0\n",
    "print(y,end=\" \")\n",
    "while(z<n):\n",
    "    sum1=sum1+y\n",
    "    y=(y)/(-2)\n",
    "    z=z+1\n",
    "    print(y,end=\" \")"
   ]
  },
  {
   "cell_type": "markdown",
   "metadata": {},
   "source": [
    "### Factorial of given number using while loop"
   ]
  },
  {
   "cell_type": "code",
   "execution_count": 28,
   "metadata": {},
   "outputs": [
    {
     "name": "stdout",
     "output_type": "stream",
     "text": [
      "enter n:5\n",
      "120 "
     ]
    }
   ],
   "source": [
    "n=int(input(\"enter n:\"))\n",
    "temp=1\n",
    "z=1\n",
    "while(z<=n):\n",
    "    temp=temp*z\n",
    "    z=z+1\n",
    "print(temp,end=\" \")"
   ]
  },
  {
   "cell_type": "markdown",
   "metadata": {},
   "source": [
    "### For loop"
   ]
  },
  {
   "cell_type": "code",
   "execution_count": 29,
   "metadata": {},
   "outputs": [
    {
     "name": "stdout",
     "output_type": "stream",
     "text": [
      "enter number:5\n",
      "120 "
     ]
    }
   ],
   "source": [
    "n=int(input(\"enter number:\"))\n",
    "temp=1\n",
    "for i in range(1,n+1):\n",
    "    temp=temp*i\n",
    "print(temp,end=\" \")"
   ]
  },
  {
   "cell_type": "markdown",
   "metadata": {},
   "source": [
    "###  How to get the maximum value of floating point number¶"
   ]
  },
  {
   "cell_type": "code",
   "execution_count": 34,
   "metadata": {},
   "outputs": [
    {
     "name": "stdout",
     "output_type": "stream",
     "text": [
      "enter float value:205.247\n",
      "7 "
     ]
    }
   ],
   "source": [
    "n=float(input(\"enter float value:\"))\n",
    "y=str(n)\n",
    "lenstr=len(y)\n",
    "maxi=-1\n",
    "for i in range(lenstr):\n",
    "    if y[i]=='.':\n",
    "        continue\n",
    "    elif maxi<int(y[i]):\n",
    "        maxi=int(y[i])\n",
    "print(maxi,end=\" \")"
   ]
  },
  {
   "cell_type": "markdown",
   "metadata": {},
   "source": [
    "### How to get the prime and complex numbers"
   ]
  },
  {
   "cell_type": "code",
   "execution_count": 38,
   "metadata": {},
   "outputs": [
    {
     "name": "stdout",
     "output_type": "stream",
     "text": [
      "enter number:97\n",
      "It is prime number\n"
     ]
    }
   ],
   "source": [
    "import math\n",
    "n=int(input(\"enter number:\"))\n",
    "if n==2:\n",
    "    print(\"It is prime\")\n",
    "if n<2:\n",
    "    print(\"It is not prime\")\n",
    "    quit()\n",
    "    \n",
    "y=2\n",
    "num=math.sqrt(n)\n",
    "while(y<=num):\n",
    "    if n%y==0:\n",
    "        print(\"It is complex\")\n",
    "        break\n",
    "    y=y+1\n",
    "else:\n",
    "    print(\"It is prime number\")\n",
    "        "
   ]
  },
  {
   "cell_type": "markdown",
   "metadata": {},
   "source": [
    "## How to expand the strings of alphabets\n"
   ]
  },
  {
   "cell_type": "code",
   "execution_count": 3,
   "metadata": {},
   "outputs": [
    {
     "name": "stdout",
     "output_type": "stream",
     "text": [
      "enter start:a\n",
      "enter end:e\n",
      "a b c d e \n"
     ]
    }
   ],
   "source": [
    "str1=input(\"enter start:\")\n",
    "str2=input(\"enter end:\")\n",
    "while(str1<=str2):\n",
    "    print(str1,end=\" \")\n",
    "    str1=chr(ord(str1)+1)\n",
    "print()"
   ]
  },
  {
   "cell_type": "markdown",
   "metadata": {},
   "source": [
    "### How to select the integers from strings"
   ]
  },
  {
   "cell_type": "code",
   "execution_count": 2,
   "metadata": {},
   "outputs": [
    {
     "name": "stdout",
     "output_type": "stream",
     "text": [
      "enter string:he is 2 to4\n",
      " 2  4 "
     ]
    }
   ],
   "source": [
    "str1=input(\"enter string:\")\n",
    "lenstr=len(str1)\n",
    "my=[]\n",
    "x=0\n",
    "while x<lenstr:\n",
    "    num=\" \"\n",
    "    symbol=str1[x]\n",
    "    while '0'<=symbol<='9':\n",
    "        num=num+symbol\n",
    "        x=x+1\n",
    "        \n",
    "        if x<lenstr:\n",
    "            symbol=str1[x]\n",
    "        else:\n",
    "            break\n",
    "    x=x+1\n",
    "    if num!=\" \":\n",
    "        my.append(num)\n",
    "for i in my:\n",
    "    print(i,end=\" \")"
   ]
  },
  {
   "cell_type": "markdown",
   "metadata": {},
   "source": [
    "### How to sort words according to their length"
   ]
  },
  {
   "cell_type": "code",
   "execution_count": 5,
   "metadata": {},
   "outputs": [
    {
     "name": "stdout",
     "output_type": "stream",
     "text": [
      "enter str:Hello world is fine\n",
      "is fine Hello world\n"
     ]
    }
   ],
   "source": [
    "str1=input(\"enter str:\")\n",
    "first=str1.split()\n",
    "lenstr=len(first)\n",
    "for i in range(lenstr-1):\n",
    "    for j in range(lenstr-1-i):\n",
    "        if (len(first[j])>len(first[j+1])):\n",
    "            first[j],first[j+1]=first[j+1],first[j]\n",
    "            \n",
    "print(\" \".join(first))\n"
   ]
  },
  {
   "cell_type": "markdown",
   "metadata": {},
   "source": [
    "### How to find the longest word in string"
   ]
  },
  {
   "cell_type": "code",
   "execution_count": 7,
   "metadata": {},
   "outputs": [
    {
     "name": "stdout",
     "output_type": "stream",
     "text": [
      "enter str:How aer your manjunath\n",
      "manjunath "
     ]
    }
   ],
   "source": [
    "str1=input(\"enter str:\")\n",
    "first=str1.split()\n",
    "lenstr=len(first)\n",
    "maxi=0\n",
    "for i in range(1,lenstr):\n",
    "    if i>maxi:\n",
    "        maxi=i\n",
    "print(first[maxi],end=\" \")"
   ]
  },
  {
   "cell_type": "markdown",
   "metadata": {},
   "source": [
    "### How to get the percentage of uppercase and lowercase"
   ]
  },
  {
   "cell_type": "code",
   "execution_count": 11,
   "metadata": {},
   "outputs": [
    {
     "name": "stdout",
     "output_type": "stream",
     "text": [
      "enter str:Hello World TODAY\n",
      "Lowercase:47.06\n",
      "Uppercase:41.18\n"
     ]
    }
   ],
   "source": [
    "str1=input(\"enter str:\")\n",
    "lower=0\n",
    "upper=0\n",
    "lenstr=len(str1)\n",
    "for i in str1:\n",
    "    if 'a'<=i<='z':\n",
    "        lower=lower+1\n",
    "    elif 'A'<=i<='Z':\n",
    "        upper=upper+1\n",
    "        \n",
    "        \n",
    "print(\"Lowercase:%.2f\"%((lower/lenstr)*100))\n",
    "print(\"Uppercase:%.2f\"%((upper/lenstr)*100))"
   ]
  },
  {
   "cell_type": "markdown",
   "metadata": {},
   "source": [
    "### How to check if the given string is palindrome or not¶"
   ]
  },
  {
   "cell_type": "code",
   "execution_count": 3,
   "metadata": {},
   "outputs": [
    {
     "name": "stdout",
     "output_type": "stream",
     "text": [
      "enter str:abcd\n",
      "It is not palindrome\n"
     ]
    }
   ],
   "source": [
    "str1=input(\"enter str:\")\n",
    "lenstr=len(str1)\n",
    "for i in range(lenstr//2):\n",
    "    if str1[i]!=str1[-1-i]:\n",
    "        print(\"It is not palindrome\")\n",
    "        break\n",
    "    else:\n",
    "        print(\"it is palindrome\")\n",
    "        break"
   ]
  },
  {
   "cell_type": "markdown",
   "metadata": {},
   "source": [
    "### How to generate the random numbers using array"
   ]
  },
  {
   "cell_type": "code",
   "execution_count": 16,
   "metadata": {},
   "outputs": [
    {
     "name": "stdout",
     "output_type": "stream",
     "text": [
      "71 16 69 88 32 51 19 95 39 90 "
     ]
    }
   ],
   "source": [
    "from random import randint\n",
    "n=10\n",
    "y=[]\n",
    "for i in range(10):\n",
    "    y.append(randint(1,100))\n",
    " \n",
    "for i in y:\n",
    "    print(i,end=\" \")"
   ]
  },
  {
   "cell_type": "markdown",
   "metadata": {},
   "source": [
    "### How to get the maximum element in an array\n"
   ]
  },
  {
   "cell_type": "code",
   "execution_count": 19,
   "metadata": {},
   "outputs": [
    {
     "name": "stdout",
     "output_type": "stream",
     "text": [
      "69 96 57 89 19 55 82 24 87 20 \n",
      "96\n"
     ]
    }
   ],
   "source": [
    "from random import randint\n",
    "n=10\n",
    "y=[]\n",
    "for i in range(10):\n",
    "    y.append(randint(1,100))\n",
    " \n",
    "for i in y:\n",
    "    print(i,end=\" \")\n",
    "print()\n",
    "\n",
    "maxi=0\n",
    "for i in y:\n",
    "    if i>maxi:\n",
    "        maxi=i\n",
    "print(maxi)"
   ]
  },
  {
   "cell_type": "markdown",
   "metadata": {},
   "source": [
    "### How to get the minimum element in an array"
   ]
  },
  {
   "cell_type": "code",
   "execution_count": 21,
   "metadata": {},
   "outputs": [
    {
     "name": "stdout",
     "output_type": "stream",
     "text": [
      "85 86 23 34 1 94 26 61 79 74 \n",
      "1\n"
     ]
    }
   ],
   "source": [
    "from random import randint\n",
    "n=10\n",
    "y=[]\n",
    "for i in range(10):\n",
    "    y.append(randint(1,100))\n",
    " \n",
    "for i in y:\n",
    "    print(i,end=\" \")\n",
    "print()\n",
    "print(min(y))"
   ]
  },
  {
   "cell_type": "markdown",
   "metadata": {},
   "source": [
    "### How to get the even and odd numbers from random numbers¶"
   ]
  },
  {
   "cell_type": "code",
   "execution_count": 22,
   "metadata": {},
   "outputs": [
    {
     "name": "stdout",
     "output_type": "stream",
     "text": [
      "75 73 47 84 72 81 68 71 52 65 \n",
      "Even nbrs: 4\n",
      "Odd nbrs 6\n"
     ]
    }
   ],
   "source": [
    "from random import randint\n",
    "n=10\n",
    "y=[]\n",
    "for i in range(10):\n",
    "    y.append(randint(1,100))\n",
    " \n",
    "for i in y:\n",
    "    print(i,end=\" \")\n",
    "print()\n",
    "even=0\n",
    "odd=0\n",
    "for i in y:\n",
    "    if i%2==0:\n",
    "        even=even+1\n",
    "    else:\n",
    "        odd=odd+1\n",
    "print(\"Even nbrs:\",even)\n",
    "print(\"Odd nbrs\",odd)"
   ]
  },
  {
   "cell_type": "markdown",
   "metadata": {},
   "source": [
    "### How to get the positive numbers out of negative numbers\n"
   ]
  },
  {
   "cell_type": "code",
   "execution_count": 32,
   "metadata": {},
   "outputs": [
    {
     "name": "stdout",
     "output_type": "stream",
     "text": [
      "-5 -3 -4 -6 0 -6 3 3 3 -4 \n",
      "Negative numbers:\n",
      "-6 -6 -5 -4 -4 -3 \n",
      "Positive numbers:\n",
      "0 3 3 3 "
     ]
    }
   ],
   "source": [
    "import random\n",
    "n=10\n",
    "y=[]\n",
    "for i in range(n):\n",
    "    y.append(int(random.random()*10)-6)\n",
    "    \n",
    "for i in y:\n",
    "    print(i,end=\" \")\n",
    "print()\n",
    "    \n",
    "neg=[]\n",
    "pos=[]\n",
    "for i in y:\n",
    "    if i<0:\n",
    "        neg.append(i)\n",
    "        neg.sort()\n",
    "    elif i>=0:\n",
    "        pos.append(i)\n",
    "        pos.sort()\n",
    "        \n",
    "print(\"Negative numbers:\")\n",
    "for j in neg:\n",
    "    print(j,end=\" \")\n",
    "print()\n",
    "    \n",
    "print(\"Positive numbers:\")\n",
    "for k in pos:\n",
    "    print(k,end=\" \")"
   ]
  },
  {
   "cell_type": "markdown",
   "metadata": {},
   "source": [
    "### How to get numbers greater than avg of an array"
   ]
  },
  {
   "cell_type": "code",
   "execution_count": 18,
   "metadata": {},
   "outputs": [
    {
     "name": "stdout",
     "output_type": "stream",
     "text": [
      " 0.38  0.54  0.94  0.93  0.54  0.95  0.92  0.97  0.13  0.79 \n",
      "Avg is : 0.71\n",
      "\n",
      " 0.94  0.93  0.95  0.92  0.97  0.79 "
     ]
    }
   ],
   "source": [
    "from random import random\n",
    "n=10\n",
    "avg=0\n",
    "y=[]\n",
    "for i in range(n):\n",
    "    y.append(random())\n",
    "    print(\"%5.2f\"%y[i],end=\" \")\n",
    "    avg=avg+y[i]\n",
    "print()\n",
    "avg1=avg/n\n",
    "print(\"Avg is :%5.2f\" %avg1)\n",
    "print()    \n",
    "for i in y:\n",
    "    if i>avg1:\n",
    "        print(\"%5.2f\"%i,end=\" \")\n",
    "    "
   ]
  },
  {
   "cell_type": "code",
   "execution_count": 26,
   "metadata": {},
   "outputs": [
    {
     "name": "stdout",
     "output_type": "stream",
     "text": [
      "-1 -3 -4 3 0 2 -3 -6 -3 -1 \n",
      "-1 -1 -1 1 0 1 -1 -1 -1 -1 "
     ]
    }
   ],
   "source": [
    "import random\n",
    "n=10\n",
    "y=[]\n",
    "for i in range(10):\n",
    "    y.append(int(random.random()*10)-6)\n",
    "    \n",
    "for i in y:\n",
    "    print(i,end=\" \")\n",
    "print()\n",
    "    \n",
    "for i in range(len(y)):\n",
    "    if y[i]>0:\n",
    "        y[i]=1\n",
    "    elif y[i]<0:\n",
    "        y[i]=-1\n",
    "    else:\n",
    "        y[i]=0\n",
    "    print(y[i],end=\" \")"
   ]
  },
  {
   "cell_type": "markdown",
   "metadata": {},
   "source": [
    "### How to remove the symbols from the text"
   ]
  },
  {
   "cell_type": "code",
   "execution_count": 29,
   "metadata": {},
   "outputs": [
    {
     "name": "stdout",
     "output_type": "stream",
     "text": [
      "enter str1:Hurrah! hor are.\n",
      "Hurrah hor are "
     ]
    }
   ],
   "source": [
    "str1=input(\"enter str1:\")\n",
    "symbols={',','.','!','?','@'}\n",
    "first=str1.split()\n",
    "len1=len(first)\n",
    "x=0\n",
    "for i in first:\n",
    "    if i[-1] in symbols:\n",
    "        first[x]=i[:-1]\n",
    "        i=first[x]\n",
    "        \n",
    "    if i[0] in symbols:\n",
    "        first[x]=i[1:]\n",
    "    x=x+1\n",
    "x=0\n",
    "while x<len1:\n",
    "    print(first[x],end=\" \")\n",
    "    x=x+1"
   ]
  },
  {
   "cell_type": "markdown",
   "metadata": {},
   "source": [
    "### Longest order of sequence"
   ]
  },
  {
   "cell_type": "code",
   "execution_count": 39,
   "metadata": {},
   "outputs": [
    {
     "name": "stdout",
     "output_type": "stream",
     "text": [
      "[10, 44, 5, 2, 23] \n",
      "maxilenght 3\n",
      "sequence [44, 5, 2]\n"
     ]
    }
   ],
   "source": [
    "from random import randint\n",
    "n=5\n",
    "y=[]\n",
    "for i in range(n):\n",
    "    y.append(randint(1,50))\n",
    "print(y,end=\" \")    \n",
    "print()\n",
    "maxi=1\n",
    "mylength=1\n",
    "mycode=0\n",
    "for i in range(1,n):\n",
    "    if y[i]<y[i-1]:\n",
    "        mylength+=1\n",
    "    else:\n",
    "        if mylength>maxi:\n",
    "            maxi=mylength\n",
    "            mycode=i\n",
    "            \n",
    "        mylength=1\n",
    "print(\"maxilenght\",maxi)\n",
    "print(\"sequence\",y[mycode-maxi:mycode])"
   ]
  },
  {
   "cell_type": "markdown",
   "metadata": {},
   "source": [
    "### How to get the most occurence element"
   ]
  },
  {
   "cell_type": "code",
   "execution_count": 4,
   "metadata": {},
   "outputs": [
    {
     "name": "stdout",
     "output_type": "stream",
     "text": [
      "4 5 4 4 1 2 3 2 5 4 \n",
      "4\n",
      "4\n"
     ]
    }
   ],
   "source": [
    "from random import random\n",
    "n=10\n",
    "x=[]\n",
    "for i in range(n):\n",
    "    x.append(int(random()*5)+1)\n",
    "    \n",
    "for i in x:\n",
    "    print(i,end=\" \")\n",
    "print()\n",
    "myset=set(x)\n",
    "frequency=0\n",
    "highest=None\n",
    "for item in myset:\n",
    "    freq=x.count(item)\n",
    "\n",
    "    if freq>frequency:\n",
    "        frequency=freq\n",
    "        highest=item\n",
    "        \n",
    "print(highest)\n",
    "print(frequency)"
   ]
  },
  {
   "cell_type": "markdown",
   "metadata": {},
   "source": [
    "### How to sort the bubble sort"
   ]
  },
  {
   "cell_type": "code",
   "execution_count": 46,
   "metadata": {},
   "outputs": [
    {
     "name": "stdout",
     "output_type": "stream",
     "text": [
      "11 18 10 6 16 \n",
      "6 10 11 16 18 "
     ]
    }
   ],
   "source": [
    "from random import randint\n",
    "x=5\n",
    "y=[]\n",
    "for i in range(x):\n",
    "    y.append(randint(1,20))\n",
    "for i in y:\n",
    "    print(i,end=\" \")\n",
    "print()\n",
    "\n",
    "for k in range(x):\n",
    "    for i in range(x-k-1):\n",
    "        if y[i]>y[i+1]:\n",
    "            y[i],y[i+1]=y[i+1],y[i]\n",
    "for i in y:\n",
    "    print(i,end=\" \")"
   ]
  },
  {
   "cell_type": "code",
   "execution_count": 13,
   "metadata": {},
   "outputs": [
    {
     "name": "stdout",
     "output_type": "stream",
     "text": [
      "3\n",
      "bas\n",
      "abs\n",
      "onlie\n",
      "abs\n",
      "bas\n",
      "onlie\n"
     ]
    }
   ],
   "source": [
    "n=int(input())\n",
    "y=[]\n",
    "for i in range(0,n):\n",
    "    str1=input()\n",
    "    y.append(str1)\n",
    "    y.sort()\n",
    "for i in y:\n",
    "    print(i)\n"
   ]
  },
  {
   "cell_type": "code",
   "execution_count": null,
   "metadata": {},
   "outputs": [],
   "source": []
  }
 ],
 "metadata": {
  "kernelspec": {
   "display_name": "Python 3",
   "language": "python",
   "name": "python3"
  },
  "language_info": {
   "codemirror_mode": {
    "name": "ipython",
    "version": 3
   },
   "file_extension": ".py",
   "mimetype": "text/x-python",
   "name": "python",
   "nbconvert_exporter": "python",
   "pygments_lexer": "ipython3",
   "version": "3.7.4"
  }
 },
 "nbformat": 4,
 "nbformat_minor": 2
}
