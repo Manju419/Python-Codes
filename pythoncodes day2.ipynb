{
 "cells": [
  {
   "cell_type": "markdown",
   "metadata": {},
   "source": [
    "### Day 2 :\n",
    "#Simple Programs\n",
    "\n",
    "**Note: In this Chapter we discuss the python codes with clear explanations like how the program run with input values and how the statements work.**\n",
    "\n",
    "**Let's go ahead .......**\n",
    "### 11. Strong number or not"
   ]
  },
  {
   "cell_type": "code",
   "execution_count": 9,
   "metadata": {},
   "outputs": [
    {
     "name": "stdout",
     "output_type": "stream",
     "text": [
      "enter number:145\n",
      "Strong number it is \n"
     ]
    }
   ],
   "source": [
    "n=int(input(\"enter number:\"))\n",
    "sum1=0\n",
    "q=n\n",
    "while(q>0):                             #line 3\n",
    "    r=q%10\n",
    "    fact=1\n",
    "    for i in range(1,r+1):              #line 6\n",
    "        fact=fact*i  \n",
    "    sum1=sum1+fact\n",
    "    q=q//10\n",
    "if(sum1==n):                            #line 10\n",
    "    print(\"Strong number it is \")       #line11\n",
    "else:\n",
    "    print(\"It is not Strong number\")    #line13"
   ]
  },
  {
   "cell_type": "markdown",
   "metadata": {},
   "source": [
    "###### Note: If you need to know the process of this program go and check in day2 procedure.txt "
   ]
  },
  {
   "cell_type": "markdown",
   "metadata": {},
   "source": [
    "### 12.Armstrong number or not"
   ]
  },
  {
   "cell_type": "code",
   "execution_count": 12,
   "metadata": {},
   "outputs": [
    {
     "name": "stdout",
     "output_type": "stream",
     "text": [
      "enter number:370\n",
      " It is Armstrong number\n"
     ]
    }
   ],
   "source": [
    "n=int(input(\"enter number:\"))\n",
    "sum1=0\n",
    "q=n\n",
    "while(q>0):\n",
    "    r=q%10\n",
    "    sum1=sum1+r*r*r\n",
    "    q=q//10\n",
    "if(sum1==n):                                \n",
    "    print(\" It is Armstrong number\")         #line9\n",
    "else:\n",
    "    print(\" It is not Armstrong number\")     #line11"
   ]
  },
  {
   "cell_type": "markdown",
   "metadata": {},
   "source": [
    "###### Note: If you need to know the process of this program go and check in day2 procedure.txt"
   ]
  },
  {
   "cell_type": "markdown",
   "metadata": {},
   "source": [
    "### 12(A). Armstrong number with in range"
   ]
  },
  {
   "cell_type": "code",
   "execution_count": 3,
   "metadata": {},
   "outputs": [
    {
     "name": "stdout",
     "output_type": "stream",
     "text": [
      "enter starting number:370\n",
      "enter ending number:380\n",
      "370 371 "
     ]
    }
   ],
   "source": [
    "start=int(input(\"enter starting number:\"))\n",
    "end=int(input(\"enter ending number:\"))\n",
    "for i in range(start,end+1):\n",
    "    q=i\n",
    "    sum1=0\n",
    "    while(q>0):\n",
    "        r=q%10\n",
    "        sum1=sum1+r*r*r\n",
    "        q=q//10\n",
    "    if(sum1==i):\n",
    "        print(sum1,end=\" \")"
   ]
  },
  {
   "cell_type": "markdown",
   "metadata": {},
   "source": [
    "##### Note: This program is similiar to Armstrong number or not but here we just initialize  the start and end value to get the multiple armstrong numbers within range \n"
   ]
  },
  {
   "cell_type": "markdown",
   "metadata": {},
   "source": [
    "### 13. Fibonacci series"
   ]
  },
  {
   "cell_type": "code",
   "execution_count": 10,
   "metadata": {},
   "outputs": [
    {
     "name": "stdout",
     "output_type": "stream",
     "text": [
      "enter n value:10\n",
      "1 1 2 3 5 8 13 21 34 55 "
     ]
    }
   ],
   "source": [
    "n=int(input(\"enter n value:\"))\n",
    "a=1\n",
    "b=1\n",
    "print(a,b,end=\" \")\n",
    "for i in range(2,n):\n",
    "    res=a+b\n",
    "    a=b\n",
    "    b=res\n",
    "    print(res,end=\" \")"
   ]
  },
  {
   "cell_type": "markdown",
   "metadata": {},
   "source": [
    "##### Note: If you need to know the process of this program go and check in day2 procedure.txt\n"
   ]
  },
  {
   "cell_type": "markdown",
   "metadata": {},
   "source": [
    "###  13(a). Sum of the fibonacci series\n",
    "\n",
    "**0+1+1+2+3+5+8+13+21+34+55=143**\n",
    "\n",
    "**f0+f1+f2+f3+f4+f5.......**"
   ]
  },
  {
   "cell_type": "code",
   "execution_count": 20,
   "metadata": {},
   "outputs": [
    {
     "name": "stdout",
     "output_type": "stream",
     "text": [
      "enter number:10\n"
     ]
    },
    {
     "data": {
      "text/plain": [
       "143"
      ]
     },
     "execution_count": 20,
     "metadata": {},
     "output_type": "execute_result"
    }
   ],
   "source": [
    "n=int(input(\"enter number:\"))\n",
    "def calsum(n):\n",
    "    fib=[0]*(n+1)\n",
    "    fib[0]=0\n",
    "    fib[1]=1\n",
    "    sm=fib[0]+fib[1]\n",
    "    for i in range(2,n+1):\n",
    "        fib[i]=fib[i-2]+fib[i-1]\n",
    "        sm=sm+fib[i]\n",
    "    return sm\n",
    "calsum(n)"
   ]
  },
  {
   "cell_type": "markdown",
   "metadata": {},
   "source": [
    "### 14.  Factorial of given number using recursion\n",
    "\n",
    "**Ex: x=5! means (5)(4)(3)(2)(1)=120 **"
   ]
  },
  {
   "cell_type": "code",
   "execution_count": 21,
   "metadata": {},
   "outputs": [
    {
     "name": "stdout",
     "output_type": "stream",
     "text": [
      "enter number:5\n"
     ]
    },
    {
     "data": {
      "text/plain": [
       "120"
      ]
     },
     "execution_count": 21,
     "metadata": {},
     "output_type": "execute_result"
    }
   ],
   "source": [
    "n=int(input(\"enter number:\"))\n",
    "def fact(n):\n",
    "    if n==1:\n",
    "        return 1\n",
    "    elif n>1:\n",
    "        return n*fact(n-1)\n",
    "fact(n)"
   ]
  },
  {
   "cell_type": "markdown",
   "metadata": {},
   "source": [
    "######  Note: If you need to know the process of this program go and check in day2 procedure.txt"
   ]
  },
  {
   "cell_type": "markdown",
   "metadata": {},
   "source": [
    "### 15. Power of the given number\n",
    "\n",
    "**Ex:2^5=32**"
   ]
  },
  {
   "cell_type": "code",
   "execution_count": 27,
   "metadata": {},
   "outputs": [
    {
     "name": "stdout",
     "output_type": "stream",
     "text": [
      "enter number:5\n",
      "enter base:2\n",
      "32 "
     ]
    }
   ],
   "source": [
    "nbr=int(input(\"enter number:\"))\n",
    "base=int(input(\"enter base:\"))\n",
    "temp=1\n",
    "for i in range(1,nbr+1):\n",
    "    temp=temp*base\n",
    "print(temp,end=\" \")"
   ]
  },
  {
   "cell_type": "markdown",
   "metadata": {},
   "source": [
    "##### Note: If you need to know the process of this program go and check in day2 procedure.txt"
   ]
  },
  {
   "cell_type": "markdown",
   "metadata": {},
   "source": [
    "###  16. Perfect number or not\n",
    "**Ex: n=6 means 1+2+3=6 where 1,2,3 are divisor of 6 with in range and sum of 1+2+3=6 with respect to input"
   ]
  },
  {
   "cell_type": "code",
   "execution_count": 8,
   "metadata": {},
   "outputs": [
    {
     "name": "stdout",
     "output_type": "stream",
     "text": [
      "enter number:6\n",
      "It is perfect number\n"
     ]
    }
   ],
   "source": [
    "n=int(input(\"enter number:\"))\n",
    "sum1=0\n",
    "q=n\n",
    "for i in range(1,q):\n",
    "    if q%i==0:\n",
    "        sum1=sum1+i\n",
    "if(sum1==n):\n",
    "    print(\"It is perfect number\")\n",
    "else:\n",
    "    print(\"It is not perfect number\")"
   ]
  },
  {
   "cell_type": "markdown",
   "metadata": {},
   "source": [
    "##### Note: If you need to know the process of this program go and check in day2 procedure.txt\n"
   ]
  },
  {
   "cell_type": "markdown",
   "metadata": {},
   "source": [
    "###  17.Gcd of two numbers using recursion"
   ]
  },
  {
   "cell_type": "code",
   "execution_count": 3,
   "metadata": {},
   "outputs": [
    {
     "name": "stdout",
     "output_type": "stream",
     "text": [
      "enter n1:4\n",
      "enter n2:6\n"
     ]
    },
    {
     "data": {
      "text/plain": [
       "2"
      ]
     },
     "execution_count": 3,
     "metadata": {},
     "output_type": "execute_result"
    }
   ],
   "source": [
    "n1=int(input(\"enter n1:\"))\n",
    "n2=int(input(\"enter n2:\"))\n",
    "def gcd(n1,n2):\n",
    "    if n2!=0:\n",
    "        return gcd(n2,n1%n2)\n",
    "    else:\n",
    "        return n1\n",
    "gcd(n1,n2)"
   ]
  },
  {
   "cell_type": "markdown",
   "metadata": {},
   "source": [
    "##### Note: If you need to know the process of this program go and check in day2 procedure.txt\n"
   ]
  },
  {
   "cell_type": "markdown",
   "metadata": {},
   "source": [
    "### 17(a).Gcd of two numbers\n",
    "\n",
    "**Ex:n1=4,n2=6 **\n",
    "\n",
    "**n1=2^2,n2=2(3) **\n",
    "\n",
    "**Common numbers from n1 and n2 is 2"
   ]
  },
  {
   "cell_type": "code",
   "execution_count": 5,
   "metadata": {},
   "outputs": [
    {
     "name": "stdout",
     "output_type": "stream",
     "text": [
      "enter n1:4\n",
      "enter n2:6\n",
      "2 "
     ]
    }
   ],
   "source": [
    "n1=int(input(\"enter n1:\"))\n",
    "n2=int(input(\"enter n2:\"))\n",
    "while(n1>0) and(n2>0):\n",
    "    if(n1>n2):\n",
    "        n1=n1-n2\n",
    "    else:\n",
    "        n2=n2-n1\n",
    "print(n1,end=\" \")"
   ]
  },
  {
   "cell_type": "markdown",
   "metadata": {},
   "source": [
    "#####  Note: If you need to know the process of this program go and check in day2 procedure.txt"
   ]
  },
  {
   "cell_type": "markdown",
   "metadata": {},
   "source": [
    "##  Special type of programs from (18-21)\n",
    "\n",
    "### 18. Automarphic number\n",
    "\n",
    "**An Automorphic number is that number whose square ends with the same digits as the original number**\n",
    "\n",
    "Ex: 5^2=25\n",
    "  \n",
    "    6^2=36\n",
    "      \n",
    "    76^2=5776\n",
    "      \n",
    "    376^2=141376**"
   ]
  },
  {
   "cell_type": "code",
   "execution_count": 17,
   "metadata": {},
   "outputs": [
    {
     "name": "stdout",
     "output_type": "stream",
     "text": [
      "enter number:25\n",
      "It is automorphic\n"
     ]
    }
   ],
   "source": [
    "n=int(input(\"enter number:\"))\n",
    "def calsum(n):\n",
    "    sum1=0\n",
    "    sq=n*n\n",
    "    while(n>0):\n",
    "        if(n%10!=sq%10):\n",
    "            return 0\n",
    "        \n",
    "        n=n//10\n",
    "        sq=sq//10\n",
    "    return 1\n",
    "if(calsum(n)):\n",
    "    print(\"It is automorphic\")\n",
    "else:\n",
    "    print(\"It is not automorphic\")\n",
    "            "
   ]
  },
  {
   "cell_type": "markdown",
   "metadata": {},
   "source": [
    "#####  Note: If you need to know the process of this program go and check in day2 procedure.txt"
   ]
  },
  {
   "cell_type": "markdown",
   "metadata": {},
   "source": [
    "### 19.Harshad number or not\n",
    "**A Harshad number in given number base is an integer that is divisible by the sum of its digits when written in that base.\n",
    "\n",
    "**Ex:(153/1+5+3)=17**"
   ]
  },
  {
   "cell_type": "code",
   "execution_count": 32,
   "metadata": {},
   "outputs": [
    {
     "name": "stdout",
     "output_type": "stream",
     "text": [
      "enter number:153\n",
      "It is Harshad number\n"
     ]
    }
   ],
   "source": [
    "n=int(input(\"enter number:\"))\n",
    "sum1=0\n",
    "q=n\n",
    "while(q>0):\n",
    "    r=q%10\n",
    "    sum1=sum1+r\n",
    "    q=q//10\n",
    "if(n%sum1==0):\n",
    "    print(\"It is Harshad number\")\n",
    "else:\n",
    "    print(\"It is not Harshad number\")"
   ]
  },
  {
   "cell_type": "markdown",
   "metadata": {},
   "source": [
    "#####  Note: If you need to know the process of this program go and check in day2 procedure.txt\n"
   ]
  },
  {
   "cell_type": "markdown",
   "metadata": {},
   "source": [
    "### 20. Abundant number or not\n",
    "**An abundant or Excessive number is a number for which the sum of its proper divisiors is greater than the number itself.\n",
    "\n",
    "**Ex: input= 18,It is having 1,2,3,6,9 are the proper divisors and their sum is 21 which is greater than 18**"
   ]
  },
  {
   "cell_type": "code",
   "execution_count": 4,
   "metadata": {},
   "outputs": [
    {
     "name": "stdout",
     "output_type": "stream",
     "text": [
      "enter number:18\n",
      "It is abundant\n"
     ]
    }
   ],
   "source": [
    "n=int(input(\"enter number:\"))\n",
    "sum1=0\n",
    "for i in range(1,n):\n",
    "    if n%i==0:\n",
    "        sum1=sum1+i\n",
    "        \n",
    "if(sum1>n):\n",
    "    print(\"It is abundant\")\n",
    "else:\n",
    "    print(\"It is not abundant\")"
   ]
  },
  {
   "cell_type": "markdown",
   "metadata": {},
   "source": [
    "##### Note: If you need to know the process of this program go and check in day2 procedure.txt"
   ]
  },
  {
   "cell_type": "markdown",
   "metadata": {},
   "source": [
    "### 21. Amicable or Friendly program\n",
    "**It is a pair of numbers,each of which is the sum of the factors of the other**\n",
    "\n",
    "**Ex: 220 and 284** \n",
    "\n",
    "**220 factors are 1,2,4,5,10,22,44,55,110  and Sum of this fators is 284**\n",
    "\n",
    "**284 factors are 1,2,4,71,142 and Sum of this factors is 220**"
   ]
  },
  {
   "cell_type": "code",
   "execution_count": 2,
   "metadata": {},
   "outputs": [
    {
     "name": "stdout",
     "output_type": "stream",
     "text": [
      "enter number1:220\n",
      "enter number2:284\n",
      "Amicable number\n"
     ]
    }
   ],
   "source": [
    "n1=int(input(\"enter number1:\"))\n",
    "n2=int(input(\"enter number2:\"))\n",
    "sum1=0\n",
    "sum2=0\n",
    "for i in range(1,n1):\n",
    "    if n1%i==0:\n",
    "        sum1=sum1+i\n",
    "        \n",
    "for j in range(1,n2):\n",
    "    if n2%j==0:\n",
    "        sum2=sum2+j\n",
    "if(sum1==n2)and(sum2==n1):\n",
    "    print(\"Amicable number\")\n",
    "else:\n",
    "    print(\"It is not Amicable number\")"
   ]
  },
  {
   "cell_type": "markdown",
   "metadata": {},
   "source": [
    "##### Note: If you need to know the process of this program go and check in day2 procedure.txt"
   ]
  },
  {
   "cell_type": "code",
   "execution_count": null,
   "metadata": {},
   "outputs": [],
   "source": []
  }
 ],
 "metadata": {
  "kernelspec": {
   "display_name": "Python 3",
   "language": "python",
   "name": "python3"
  },
  "language_info": {
   "codemirror_mode": {
    "name": "ipython",
    "version": 3
   },
   "file_extension": ".py",
   "mimetype": "text/x-python",
   "name": "python",
   "nbconvert_exporter": "python",
   "pygments_lexer": "ipython3",
   "version": "3.7.4"
  }
 },
 "nbformat": 4,
 "nbformat_minor": 2
}
