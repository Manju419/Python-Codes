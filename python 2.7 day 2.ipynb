{
 "cells": [
  {
   "cell_type": "code",
   "execution_count": 2,
   "metadata": {},
   "outputs": [
    {
     "data": {
      "text/plain": [
       "(5, 7)"
      ]
     },
     "execution_count": 2,
     "metadata": {},
     "output_type": "execute_result"
    }
   ],
   "source": [
    "(3,5) program...\n",
    "(5,7)"
   ]
  },
  {
   "cell_type": "code",
   "execution_count": 1,
   "metadata": {},
   "outputs": [
    {
     "ename": "SyntaxError",
     "evalue": "invalid syntax (<ipython-input-1-efd5508bbae7>, line 17)",
     "output_type": "error",
     "traceback": [
      "\u001b[1;36m  File \u001b[1;32m\"<ipython-input-1-efd5508bbae7>\"\u001b[1;36m, line \u001b[1;32m17\u001b[0m\n\u001b[1;33m    print \"({},{})\".format(i,k)\u001b[0m\n\u001b[1;37m                  ^\u001b[0m\n\u001b[1;31mSyntaxError\u001b[0m\u001b[1;31m:\u001b[0m invalid syntax\n"
     ]
    }
   ],
   "source": [
    "n=int(raw_input(\"enter number:\"))\n",
    "\n",
    "for i in range(3,n+1):\n",
    "    for j in range(2,(i/2)+1):\n",
    "        if i%j==0:\n",
    "            break\n",
    "\n",
    "\n",
    "    else:\n",
    "        k=i+2\n",
    "        if k>n:\n",
    "            break\n",
    "        for a in range(2,(k/2)+1):\n",
    "            if k%a==0:\n",
    "                break\n",
    "        else:\n",
    "            print \"({},{})\".format(i,k)\n"
   ]
  },
  {
   "cell_type": "markdown",
   "metadata": {},
   "source": [
    "### Equidistant problem"
   ]
  },
  {
   "cell_type": "code",
   "execution_count": 3,
   "metadata": {},
   "outputs": [
    {
     "ename": "NameError",
     "evalue": "name 'raw_input' is not defined",
     "output_type": "error",
     "traceback": [
      "\u001b[1;31m---------------------------------------------------------------------------\u001b[0m",
      "\u001b[1;31mNameError\u001b[0m                                 Traceback (most recent call last)",
      "\u001b[1;32m<ipython-input-3-ad35fcd72ef0>\u001b[0m in \u001b[0;36m<module>\u001b[1;34m\u001b[0m\n\u001b[1;32m----> 1\u001b[1;33m \u001b[0mx1\u001b[0m\u001b[1;33m,\u001b[0m\u001b[0mv1\u001b[0m\u001b[1;33m,\u001b[0m\u001b[0mx2\u001b[0m\u001b[1;33m,\u001b[0m\u001b[0mv2\u001b[0m\u001b[1;33m=\u001b[0m\u001b[0mmap\u001b[0m\u001b[1;33m(\u001b[0m\u001b[0mint\u001b[0m\u001b[1;33m,\u001b[0m\u001b[0mraw_input\u001b[0m\u001b[1;33m(\u001b[0m\u001b[1;33m)\u001b[0m\u001b[1;33m.\u001b[0m\u001b[0msplit\u001b[0m\u001b[1;33m(\u001b[0m\u001b[1;33m)\u001b[0m\u001b[1;33m)\u001b[0m\u001b[1;33m\u001b[0m\u001b[1;33m\u001b[0m\u001b[0m\n\u001b[0m\u001b[0;32m      2\u001b[0m \u001b[0mx\u001b[0m\u001b[1;33m=\u001b[0m\u001b[1;33m[\u001b[0m\u001b[0mx1\u001b[0m\u001b[1;33m,\u001b[0m\u001b[0mv1\u001b[0m\u001b[1;33m]\u001b[0m\u001b[1;33m\u001b[0m\u001b[1;33m\u001b[0m\u001b[0m\n\u001b[0;32m      3\u001b[0m \u001b[0my\u001b[0m\u001b[1;33m=\u001b[0m\u001b[1;33m[\u001b[0m\u001b[0mx2\u001b[0m\u001b[1;33m,\u001b[0m\u001b[0mv2\u001b[0m\u001b[1;33m]\u001b[0m\u001b[1;33m\u001b[0m\u001b[1;33m\u001b[0m\u001b[0m\n\u001b[0;32m      4\u001b[0m \u001b[0mback\u001b[0m\u001b[1;33m=\u001b[0m\u001b[0mmin\u001b[0m\u001b[1;33m(\u001b[0m\u001b[0mx\u001b[0m\u001b[1;33m,\u001b[0m\u001b[0my\u001b[0m\u001b[1;33m)\u001b[0m\u001b[1;33m\u001b[0m\u001b[1;33m\u001b[0m\u001b[0m\n\u001b[0;32m      5\u001b[0m \u001b[0mfwd\u001b[0m\u001b[1;33m=\u001b[0m\u001b[0mmax\u001b[0m\u001b[1;33m(\u001b[0m\u001b[0mx\u001b[0m\u001b[1;33m,\u001b[0m\u001b[0my\u001b[0m\u001b[1;33m)\u001b[0m\u001b[1;33m\u001b[0m\u001b[1;33m\u001b[0m\u001b[0m\n",
      "\u001b[1;31mNameError\u001b[0m: name 'raw_input' is not defined"
     ]
    }
   ],
   "source": [
    "x1,v1,x2,v2=map(int,raw_input().split())\n",
    "x=[x1,v1]\n",
    "y=[x2,v2]\n",
    "back=min(x,y)\n",
    "fwd=max(x,y)\n",
    "dist=fwd[0]-back[0]\n",
    "\n",
    "while back[0]<fwd[0]:\n",
    "    back[0]+=back[1]\n",
    "    fwd[0]+=fwd[1]\n",
    "    if fwd[0]-back[0]>=dist:\n",
    "        break\n",
    "print [\"No\",\"Yes\"] [back[0]==fwd[0]]\n"
   ]
  },
  {
   "cell_type": "markdown",
   "metadata": {},
   "source": [
    "### Factorial using recursion"
   ]
  },
  {
   "cell_type": "code",
   "execution_count": 4,
   "metadata": {},
   "outputs": [
    {
     "ename": "SyntaxError",
     "evalue": "Missing parentheses in call to 'print'. Did you mean print(\"fact:\",res)? (<ipython-input-4-b3d678f57049>, line 8)",
     "output_type": "error",
     "traceback": [
      "\u001b[1;36m  File \u001b[1;32m\"<ipython-input-4-b3d678f57049>\"\u001b[1;36m, line \u001b[1;32m8\u001b[0m\n\u001b[1;33m    print \"fact:\",res\u001b[0m\n\u001b[1;37m                ^\u001b[0m\n\u001b[1;31mSyntaxError\u001b[0m\u001b[1;31m:\u001b[0m Missing parentheses in call to 'print'. Did you mean print(\"fact:\",res)?\n"
     ]
    }
   ],
   "source": [
    "def fact1(n):\n",
    "    if n==1:\n",
    "        return 1\n",
    "    else:\n",
    "        return n*fact1(n-1)\n",
    "n=int(raw_input(\"enter n:\"))\n",
    "res=fact1(n)\n",
    "print \"fact:\",res\n"
   ]
  },
  {
   "cell_type": "markdown",
   "metadata": {},
   "source": [
    "### Amicable "
   ]
  },
  {
   "cell_type": "code",
   "execution_count": 5,
   "metadata": {},
   "outputs": [
    {
     "ename": "SyntaxError",
     "evalue": "Missing parentheses in call to 'print'. Did you mean print(\"Abundant\")? (<ipython-input-5-1c4f6ce660f2>, line 8)",
     "output_type": "error",
     "traceback": [
      "\u001b[1;36m  File \u001b[1;32m\"<ipython-input-5-1c4f6ce660f2>\"\u001b[1;36m, line \u001b[1;32m8\u001b[0m\n\u001b[1;33m    print \"Abundant\"\u001b[0m\n\u001b[1;37m                   ^\u001b[0m\n\u001b[1;31mSyntaxError\u001b[0m\u001b[1;31m:\u001b[0m Missing parentheses in call to 'print'. Did you mean print(\"Abundant\")?\n"
     ]
    }
   ],
   "source": [
    "n=int(raw_input(\"enter n:\"))\n",
    "sum1=0\n",
    "for i in range(1,n):\n",
    "    if n%i==0:\n",
    "        sum1=sum1+i\n",
    "\n",
    "if(sum1>n):\n",
    "    print \"Abundant\"\n",
    "else:\n",
    "    print \"Abundant not\"\n",
    "        \n"
   ]
  },
  {
   "cell_type": "markdown",
   "metadata": {},
   "source": [
    "### Automorphic "
   ]
  },
  {
   "cell_type": "code",
   "execution_count": 6,
   "metadata": {},
   "outputs": [
    {
     "ename": "SyntaxError",
     "evalue": "Missing parentheses in call to 'print'. Did you mean print(\"Automorphic\")? (<ipython-input-6-d64c088559f8>, line 14)",
     "output_type": "error",
     "traceback": [
      "\u001b[1;36m  File \u001b[1;32m\"<ipython-input-6-d64c088559f8>\"\u001b[1;36m, line \u001b[1;32m14\u001b[0m\n\u001b[1;33m    print \"Automorphic\"\u001b[0m\n\u001b[1;37m                      ^\u001b[0m\n\u001b[1;31mSyntaxError\u001b[0m\u001b[1;31m:\u001b[0m Missing parentheses in call to 'print'. Did you mean print(\"Automorphic\")?\n"
     ]
    }
   ],
   "source": [
    "n1=int(raw_input(\"enter n1:\"))\n",
    "n2=int(raw_input(\"enter n2:\"))\n",
    "sum1=0\n",
    "sum2=0\n",
    "for i in range(1,n1):\n",
    "    if n1%i==0:\n",
    "        sum1+=i\n",
    "\n",
    "for i in range(1,n2):\n",
    "    if n2%i==0:\n",
    "        sum2+=i\n",
    "\n",
    "if(sum1==n2)and(sum2==n1):\n",
    "    print \"Automorphic\"\n",
    "else:\n",
    "    print \"Automorphic not:\"\n",
    "        \n"
   ]
  },
  {
   "cell_type": "markdown",
   "metadata": {},
   "source": [
    "### Angry professor"
   ]
  },
  {
   "cell_type": "code",
   "execution_count": 7,
   "metadata": {},
   "outputs": [
    {
     "ename": "SyntaxError",
     "evalue": "Missing parentheses in call to 'print'. Did you mean print(\"Yes\")? (<ipython-input-7-afb6f55e2872>, line 12)",
     "output_type": "error",
     "traceback": [
      "\u001b[1;36m  File \u001b[1;32m\"<ipython-input-7-afb6f55e2872>\"\u001b[1;36m, line \u001b[1;32m12\u001b[0m\n\u001b[1;33m    print \"Yes\"\u001b[0m\n\u001b[1;37m              ^\u001b[0m\n\u001b[1;31mSyntaxError\u001b[0m\u001b[1;31m:\u001b[0m Missing parentheses in call to 'print'. Did you mean print(\"Yes\")?\n"
     ]
    }
   ],
   "source": [
    "t=int(raw_input())\n",
    "for T in range(t):\n",
    "    n,k=map(int,raw_input().split())\n",
    "    a=map(int,raw_input().split())\n",
    "    count=0\n",
    "\n",
    "    for i in range(n):\n",
    "        if a[i]<=0:\n",
    "            count+=1\n",
    "\n",
    "    if count<k:\n",
    "        print \"Yes\"\n",
    "    else:\n",
    "        print \"No\"\n"
   ]
  },
  {
   "cell_type": "markdown",
   "metadata": {},
   "source": [
    "### armstrong with range "
   ]
  },
  {
   "cell_type": "code",
   "execution_count": 8,
   "metadata": {},
   "outputs": [
    {
     "ename": "SyntaxError",
     "evalue": "Missing parentheses in call to 'print'. Did you mean print(sum1, end=\" \")? (<ipython-input-8-fdc1c258f6fd>, line 12)",
     "output_type": "error",
     "traceback": [
      "\u001b[1;36m  File \u001b[1;32m\"<ipython-input-8-fdc1c258f6fd>\"\u001b[1;36m, line \u001b[1;32m12\u001b[0m\n\u001b[1;33m    print sum1,\u001b[0m\n\u001b[1;37m             ^\u001b[0m\n\u001b[1;31mSyntaxError\u001b[0m\u001b[1;31m:\u001b[0m Missing parentheses in call to 'print'. Did you mean print(sum1, end=\" \")?\n"
     ]
    }
   ],
   "source": [
    "start=int(raw_input(\"enter start:\"))\n",
    "end=int(raw_input(\"enter end:\"))\n",
    "for i in range(start,end+1):\n",
    "    q=i\n",
    "    sum1=0\n",
    "    while(q>0):\n",
    "        r=q%10\n",
    "        sum1=sum1+r*r*r\n",
    "        q=q/10\n",
    "\n",
    "    if sum1==i:\n",
    "        print sum1,\n",
    "\n",
    "        \n",
    "        "
   ]
  },
  {
   "cell_type": "markdown",
   "metadata": {},
   "source": [
    "### armstrong nbr"
   ]
  },
  {
   "cell_type": "code",
   "execution_count": 9,
   "metadata": {},
   "outputs": [
    {
     "ename": "SyntaxError",
     "evalue": "Missing parentheses in call to 'print'. Did you mean print(\"armstrong numbers\")? (<ipython-input-9-9e52f969dad1>, line 10)",
     "output_type": "error",
     "traceback": [
      "\u001b[1;36m  File \u001b[1;32m\"<ipython-input-9-9e52f969dad1>\"\u001b[1;36m, line \u001b[1;32m10\u001b[0m\n\u001b[1;33m    print \"armstrong numbers\"\u001b[0m\n\u001b[1;37m                            ^\u001b[0m\n\u001b[1;31mSyntaxError\u001b[0m\u001b[1;31m:\u001b[0m Missing parentheses in call to 'print'. Did you mean print(\"armstrong numbers\")?\n"
     ]
    }
   ],
   "source": [
    "n=int(raw_input(\"enter n:\"))\n",
    "sum1=0\n",
    "q=n\n",
    "while(q>0):\n",
    "    r=q%10\n",
    "    sum1+=r*r*r\n",
    "    q=q/10\n",
    "\n",
    "if sum1==n:\n",
    "    print \"armstrong numbers\"\n",
    "else:\n",
    "    print \"it is not armstrong numbers\"\n"
   ]
  },
  {
   "cell_type": "markdown",
   "metadata": {},
   "source": [
    "### automorphic"
   ]
  },
  {
   "cell_type": "code",
   "execution_count": 10,
   "metadata": {},
   "outputs": [
    {
     "ename": "SyntaxError",
     "evalue": "Missing parentheses in call to 'print'. Did you mean print(\"automorphic\")? (<ipython-input-10-910584a6a0aa>, line 11)",
     "output_type": "error",
     "traceback": [
      "\u001b[1;36m  File \u001b[1;32m\"<ipython-input-10-910584a6a0aa>\"\u001b[1;36m, line \u001b[1;32m11\u001b[0m\n\u001b[1;33m    print \"automorphic\"\u001b[0m\n\u001b[1;37m                      ^\u001b[0m\n\u001b[1;31mSyntaxError\u001b[0m\u001b[1;31m:\u001b[0m Missing parentheses in call to 'print'. Did you mean print(\"automorphic\")?\n"
     ]
    }
   ],
   "source": [
    "n=int(raw_input(\"enter n:\"))\n",
    "def auto(n):\n",
    "    sq=n*n\n",
    "    while(n>0):\n",
    "            if n%10!=sq%10:\n",
    "                return 0\n",
    "            n=n/10\n",
    "            sq=sq/10\n",
    "    return 1\n",
    "if(auto(n)):\n",
    "    print \"automorphic\"\n",
    "else:\n",
    "    print \"Not automorphic\"\n"
   ]
  },
  {
   "cell_type": "markdown",
   "metadata": {},
   "source": [
    "###  Bill division"
   ]
  },
  {
   "cell_type": "code",
   "execution_count": 11,
   "metadata": {},
   "outputs": [
    {
     "ename": "SyntaxError",
     "evalue": "invalid syntax (<ipython-input-11-d8839f947004>, line 6)",
     "output_type": "error",
     "traceback": [
      "\u001b[1;36m  File \u001b[1;32m\"<ipython-input-11-d8839f947004>\"\u001b[1;36m, line \u001b[1;32m6\u001b[0m\n\u001b[1;33m    print b-(s//2)\u001b[0m\n\u001b[1;37m          ^\u001b[0m\n\u001b[1;31mSyntaxError\u001b[0m\u001b[1;31m:\u001b[0m invalid syntax\n"
     ]
    }
   ],
   "source": [
    "n,k=map(int,raw_input().split())\n",
    "a=map(int,raw_input().split())\n",
    "b=int(raw_input())\n",
    "s=sum(a)-a[k]\n",
    "if (s//2)<b:\n",
    "    print b-(s//2)\n",
    "else:\n",
    "    print \"Bon apetite\"\n"
   ]
  },
  {
   "cell_type": "markdown",
   "metadata": {},
   "source": [
    "### bInary to dec"
   ]
  },
  {
   "cell_type": "code",
   "execution_count": 12,
   "metadata": {},
   "outputs": [
    {
     "ename": "SyntaxError",
     "evalue": "Missing parentheses in call to 'print'. Did you mean print(sum1)? (<ipython-input-12-bfcbe4bd024a>, line 10)",
     "output_type": "error",
     "traceback": [
      "\u001b[1;36m  File \u001b[1;32m\"<ipython-input-12-bfcbe4bd024a>\"\u001b[1;36m, line \u001b[1;32m10\u001b[0m\n\u001b[1;33m    print sum1\u001b[0m\n\u001b[1;37m             ^\u001b[0m\n\u001b[1;31mSyntaxError\u001b[0m\u001b[1;31m:\u001b[0m Missing parentheses in call to 'print'. Did you mean print(sum1)?\n"
     ]
    }
   ],
   "source": [
    "n=int(raw_input(\"enter binary:\"))\n",
    "binary=n\n",
    "sum1=0\n",
    "base=1\n",
    "while(binary>0):\n",
    "    r=binary%10\n",
    "    sum1=sum1+r*base\n",
    "    binary=binary/10\n",
    "    base=base*2\n",
    "print sum1\n"
   ]
  },
  {
   "cell_type": "markdown",
   "metadata": {},
   "source": [
    "### Birthday cake"
   ]
  },
  {
   "cell_type": "code",
   "execution_count": 13,
   "metadata": {},
   "outputs": [
    {
     "ename": "SyntaxError",
     "evalue": "Missing parentheses in call to 'print'. Did you mean print(count)? (<ipython-input-13-c663156f92ff>, line 13)",
     "output_type": "error",
     "traceback": [
      "\u001b[1;36m  File \u001b[1;32m\"<ipython-input-13-c663156f92ff>\"\u001b[1;36m, line \u001b[1;32m13\u001b[0m\n\u001b[1;33m    print count\u001b[0m\n\u001b[1;37m              ^\u001b[0m\n\u001b[1;31mSyntaxError\u001b[0m\u001b[1;31m:\u001b[0m Missing parentheses in call to 'print'. Did you mean print(count)?\n"
     ]
    }
   ],
   "source": [
    "n=int(raw_input())\n",
    "arr1=list(map(int,raw_input().split()))\n",
    "count=0\n",
    "max1=arr1[0]\n",
    "for i in range(1,len(arr1)):\n",
    "    if arr1[i]>max1:\n",
    "        max1=arr1[i]\n",
    "\n",
    "for j in range(0,len(arr1)):\n",
    "    if (max1==arr1[j]):\n",
    "        count+=1\n",
    "\n",
    "print count\n"
   ]
  },
  {
   "cell_type": "markdown",
   "metadata": {},
   "source": [
    "### Cat and mouse"
   ]
  },
  {
   "cell_type": "code",
   "execution_count": 14,
   "metadata": {},
   "outputs": [
    {
     "ename": "SyntaxError",
     "evalue": "Missing parentheses in call to 'print'. Did you mean print(\"Cat A\")? (<ipython-input-14-7f3247b93b64>, line 9)",
     "output_type": "error",
     "traceback": [
      "\u001b[1;36m  File \u001b[1;32m\"<ipython-input-14-7f3247b93b64>\"\u001b[1;36m, line \u001b[1;32m9\u001b[0m\n\u001b[1;33m    print \"Cat A\"\u001b[0m\n\u001b[1;37m                ^\u001b[0m\n\u001b[1;31mSyntaxError\u001b[0m\u001b[1;31m:\u001b[0m Missing parentheses in call to 'print'. Did you mean print(\"Cat A\")?\n"
     ]
    }
   ],
   "source": [
    "n=int(raw_input())\n",
    "for i in range(n):\n",
    "    x,y,z=map(int,raw_input().split())\n",
    "\n",
    "    a=abs(x-z)\n",
    "    b=abs(y-z)\n",
    "\n",
    "    if a<b:\n",
    "        print \"Cat A\"\n",
    "    elif b<a:\n",
    "        print \"Cat B\"\n",
    "    else:\n",
    "        print \"Mouse C\"\n"
   ]
  },
  {
   "cell_type": "markdown",
   "metadata": {},
   "source": [
    "### Circle array"
   ]
  },
  {
   "cell_type": "code",
   "execution_count": 15,
   "metadata": {},
   "outputs": [
    {
     "ename": "SyntaxError",
     "evalue": "invalid syntax (<ipython-input-15-664d97f377a0>, line 8)",
     "output_type": "error",
     "traceback": [
      "\u001b[1;36m  File \u001b[1;32m\"<ipython-input-15-664d97f377a0>\"\u001b[1;36m, line \u001b[1;32m8\u001b[0m\n\u001b[1;33m    print arr[int(raw_input())]\u001b[0m\n\u001b[1;37m            ^\u001b[0m\n\u001b[1;31mSyntaxError\u001b[0m\u001b[1;31m:\u001b[0m invalid syntax\n"
     ]
    }
   ],
   "source": [
    "n,k,q=map(int,raw_input().split())\n",
    "arr=map(int,raw_input().split())\n",
    "for i in range(n-k%n):\n",
    "    a=arr.pop(0)\n",
    "    arr.append(a)\n",
    "\n",
    "for i in range(q):\n",
    "    print arr[int(raw_input())]\n"
   ]
  },
  {
   "cell_type": "markdown",
   "metadata": {},
   "source": [
    "### count of char "
   ]
  },
  {
   "cell_type": "code",
   "execution_count": 16,
   "metadata": {},
   "outputs": [
    {
     "ename": "SyntaxError",
     "evalue": "Missing parentheses in call to 'print'. Did you mean print(count)? (<ipython-input-16-c0e98c2b3a5d>, line 7)",
     "output_type": "error",
     "traceback": [
      "\u001b[1;36m  File \u001b[1;32m\"<ipython-input-16-c0e98c2b3a5d>\"\u001b[1;36m, line \u001b[1;32m7\u001b[0m\n\u001b[1;33m    print count\u001b[0m\n\u001b[1;37m              ^\u001b[0m\n\u001b[1;31mSyntaxError\u001b[0m\u001b[1;31m:\u001b[0m Missing parentheses in call to 'print'. Did you mean print(count)?\n"
     ]
    }
   ],
   "source": [
    "str1=raw_input('enter string:')\n",
    "char=raw_input(\"enter char:\")\n",
    "count=0\n",
    "for i in str1:\n",
    "    if char==i:\n",
    "        count+=1\n",
    "print count\n"
   ]
  },
  {
   "cell_type": "markdown",
   "metadata": {},
   "source": [
    "### count the pairs"
   ]
  },
  {
   "cell_type": "code",
   "execution_count": 17,
   "metadata": {},
   "outputs": [
    {
     "ename": "SyntaxError",
     "evalue": "Missing parentheses in call to 'print'. Did you mean print(pair)? (<ipython-input-17-b4e9bc87d818>, line 14)",
     "output_type": "error",
     "traceback": [
      "\u001b[1;36m  File \u001b[1;32m\"<ipython-input-17-b4e9bc87d818>\"\u001b[1;36m, line \u001b[1;32m14\u001b[0m\n\u001b[1;33m    print pair\u001b[0m\n\u001b[1;37m             ^\u001b[0m\n\u001b[1;31mSyntaxError\u001b[0m\u001b[1;31m:\u001b[0m Missing parentheses in call to 'print'. Did you mean print(pair)?\n"
     ]
    }
   ],
   "source": [
    "from random import randint\n",
    "n=int(raw_input())\n",
    "arr1=list(map(int,raw_input().split()))\n",
    "count=0\n",
    "pair=0\n",
    "for i in range(0,len(arr1)):\n",
    "    for j in range(i,len(arr1)):\n",
    "        if arr1[i]==arr1[j]:\n",
    "            count+=1\n",
    "            \n",
    "    if count%2==0:\n",
    "        pair+=1\n",
    "    count=0\n",
    "print pair\n"
   ]
  },
  {
   "cell_type": "markdown",
   "metadata": {},
   "source": [
    "### counting the valleys"
   ]
  },
  {
   "cell_type": "code",
   "execution_count": 18,
   "metadata": {},
   "outputs": [
    {
     "ename": "SyntaxError",
     "evalue": "Missing parentheses in call to 'print'. Did you mean print(valley)? (<ipython-input-18-204b27446913>, line 12)",
     "output_type": "error",
     "traceback": [
      "\u001b[1;36m  File \u001b[1;32m\"<ipython-input-18-204b27446913>\"\u001b[1;36m, line \u001b[1;32m12\u001b[0m\n\u001b[1;33m    print valley\u001b[0m\n\u001b[1;37m               ^\u001b[0m\n\u001b[1;31mSyntaxError\u001b[0m\u001b[1;31m:\u001b[0m Missing parentheses in call to 'print'. Did you mean print(valley)?\n"
     ]
    }
   ],
   "source": [
    "n=int(raw_input())\n",
    "str1=raw_input()\n",
    "sl=0\n",
    "valley=0\n",
    "if len(str1)==n:\n",
    "    for i in range(len(str1)):\n",
    "        if str1[i]=='U':\n",
    "            sl+=1\n",
    "        elif sl==0:\n",
    "            valley+=1\n",
    "        sl-=1\n",
    "print valley\n"
   ]
  },
  {
   "cell_type": "markdown",
   "metadata": {},
   "source": [
    "### Electronics shop"
   ]
  },
  {
   "cell_type": "code",
   "execution_count": 19,
   "metadata": {},
   "outputs": [
    {
     "ename": "SyntaxError",
     "evalue": "invalid syntax (<ipython-input-19-8cf3ffafff1b>, line 13)",
     "output_type": "error",
     "traceback": [
      "\u001b[1;36m  File \u001b[1;32m\"<ipython-input-19-8cf3ffafff1b>\"\u001b[1;36m, line \u001b[1;32m13\u001b[0m\n\u001b[1;33m    print max(out)\u001b[0m\n\u001b[1;37m            ^\u001b[0m\n\u001b[1;31mSyntaxError\u001b[0m\u001b[1;31m:\u001b[0m invalid syntax\n"
     ]
    }
   ],
   "source": [
    "b,k,m=map(int,raw_input().split())\n",
    "keyboard=list(map(int,raw_input().split()))\n",
    "mouse=list(map(int,raw_input().split()))\n",
    "out=[]\n",
    "for x in keyboard:\n",
    "    for y in mouse:\n",
    "        if x+y<=b:\n",
    "            out.append(x+y)\n",
    "\n",
    "if not out:\n",
    "    print -1\n",
    "else:\n",
    "    print max(out)\n"
   ]
  },
  {
   "cell_type": "markdown",
   "metadata": {},
   "source": [
    "### factorial using par"
   ]
  },
  {
   "cell_type": "code",
   "execution_count": 20,
   "metadata": {},
   "outputs": [
    {
     "ename": "SyntaxError",
     "evalue": "Missing parentheses in call to 'print'. Did you mean print(\"fact:\",res)? (<ipython-input-20-b3d678f57049>, line 8)",
     "output_type": "error",
     "traceback": [
      "\u001b[1;36m  File \u001b[1;32m\"<ipython-input-20-b3d678f57049>\"\u001b[1;36m, line \u001b[1;32m8\u001b[0m\n\u001b[1;33m    print \"fact:\",res\u001b[0m\n\u001b[1;37m                ^\u001b[0m\n\u001b[1;31mSyntaxError\u001b[0m\u001b[1;31m:\u001b[0m Missing parentheses in call to 'print'. Did you mean print(\"fact:\",res)?\n"
     ]
    }
   ],
   "source": [
    "def fact1(n):\n",
    "    if n==1:\n",
    "        return 1\n",
    "    else:\n",
    "        return n*fact1(n-1)\n",
    "n=int(raw_input(\"enter n:\"))\n",
    "res=fact1(n)\n",
    "print \"fact:\",res\n"
   ]
  },
  {
   "cell_type": "markdown",
   "metadata": {},
   "source": [
    "### fib 143"
   ]
  },
  {
   "cell_type": "code",
   "execution_count": 21,
   "metadata": {},
   "outputs": [
    {
     "ename": "SyntaxError",
     "evalue": "Missing parentheses in call to 'print'. Did you mean print(sm)? (<ipython-input-21-8d97765196bf>, line 11)",
     "output_type": "error",
     "traceback": [
      "\u001b[1;36m  File \u001b[1;32m\"<ipython-input-21-8d97765196bf>\"\u001b[1;36m, line \u001b[1;32m11\u001b[0m\n\u001b[1;33m    print sm\u001b[0m\n\u001b[1;37m           ^\u001b[0m\n\u001b[1;31mSyntaxError\u001b[0m\u001b[1;31m:\u001b[0m Missing parentheses in call to 'print'. Did you mean print(sm)?\n"
     ]
    }
   ],
   "source": [
    "n=int(raw_input(\"enter n:\"))\n",
    "def calsum(n):\n",
    "    fib=[0]*(n+1)\n",
    "    fib[0]=0\n",
    "    fib[1]=1\n",
    "    sm=fib[0]+fib[1]\n",
    "\n",
    "    for i in range(2,n+1):\n",
    "        fib[i]=fib[i-2]+fib[i-1]\n",
    "        sm=sm+fib[i]\n",
    "    print sm\n",
    "calsum(n)\n"
   ]
  },
  {
   "cell_type": "markdown",
   "metadata": {},
   "source": [
    "### fib"
   ]
  },
  {
   "cell_type": "code",
   "execution_count": 22,
   "metadata": {},
   "outputs": [
    {
     "ename": "SyntaxError",
     "evalue": "Missing parentheses in call to 'print'. Did you mean print(a,b, end=\" \")? (<ipython-input-22-f0016572fc31>, line 4)",
     "output_type": "error",
     "traceback": [
      "\u001b[1;36m  File \u001b[1;32m\"<ipython-input-22-f0016572fc31>\"\u001b[1;36m, line \u001b[1;32m4\u001b[0m\n\u001b[1;33m    print a,b,\u001b[0m\n\u001b[1;37m          ^\u001b[0m\n\u001b[1;31mSyntaxError\u001b[0m\u001b[1;31m:\u001b[0m Missing parentheses in call to 'print'. Did you mean print(a,b, end=\" \")?\n"
     ]
    }
   ],
   "source": [
    "n=int(raw_input(\"enter n:\"))\n",
    "a=1\n",
    "b=1\n",
    "print a,b,\n",
    "for i in range(3,n+1):\n",
    "    res=a+b\n",
    "    a=b\n",
    "    b=res\n",
    "    print res,\n"
   ]
  },
  {
   "cell_type": "markdown",
   "metadata": {},
   "source": [
    "### find the digits"
   ]
  },
  {
   "cell_type": "code",
   "execution_count": 23,
   "metadata": {},
   "outputs": [
    {
     "ename": "SyntaxError",
     "evalue": "Missing parentheses in call to 'print'. Did you mean print(count)? (<ipython-input-23-2cf2148c856b>, line 9)",
     "output_type": "error",
     "traceback": [
      "\u001b[1;36m  File \u001b[1;32m\"<ipython-input-23-2cf2148c856b>\"\u001b[1;36m, line \u001b[1;32m9\u001b[0m\n\u001b[1;33m    print count\u001b[0m\n\u001b[1;37m              ^\u001b[0m\n\u001b[1;31mSyntaxError\u001b[0m\u001b[1;31m:\u001b[0m Missing parentheses in call to 'print'. Did you mean print(count)?\n"
     ]
    }
   ],
   "source": [
    "t=int(raw_input())\n",
    "for i in range(t):\n",
    "    n=int(raw_input())\n",
    "    s=str(n)\n",
    "    count=0\n",
    "    for i in s:\n",
    "        if int(i)!=0 and n%int(i)==0:\n",
    "            count+=1\n",
    "    print count\n"
   ]
  },
  {
   "cell_type": "markdown",
   "metadata": {},
   "source": [
    "### gcd of two rec"
   ]
  },
  {
   "cell_type": "code",
   "execution_count": 24,
   "metadata": {},
   "outputs": [
    {
     "ename": "SyntaxError",
     "evalue": "Missing parentheses in call to 'print'. Did you mean print(\"GCD is: \")? (<ipython-input-24-e87a060adcb2>, line 9)",
     "output_type": "error",
     "traceback": [
      "\u001b[1;36m  File \u001b[1;32m\"<ipython-input-24-e87a060adcb2>\"\u001b[1;36m, line \u001b[1;32m9\u001b[0m\n\u001b[1;33m    print \"GCD is: \"\u001b[0m\n\u001b[1;37m                   ^\u001b[0m\n\u001b[1;31mSyntaxError\u001b[0m\u001b[1;31m:\u001b[0m Missing parentheses in call to 'print'. Did you mean print(\"GCD is: \")?\n"
     ]
    }
   ],
   "source": [
    "def gcd(a,b):\n",
    "    if(b==0):\n",
    "        return a\n",
    "    else:\n",
    "        return gcd(b,a%b)\n",
    "a=int(input(\"Enter first number:\"))\n",
    "b=int(input(\"Enter second number:\"))\n",
    "GCD=gcd(a,b)\n",
    "print \"GCD is: \"\n",
    "print GCD\n"
   ]
  },
  {
   "cell_type": "markdown",
   "metadata": {},
   "source": [
    "### gcd of two"
   ]
  },
  {
   "cell_type": "code",
   "execution_count": 25,
   "metadata": {},
   "outputs": [
    {
     "ename": "SyntaxError",
     "evalue": "Missing parentheses in call to 'print'. Did you mean print(\"GCD is: \")? (<ipython-input-25-e87a060adcb2>, line 9)",
     "output_type": "error",
     "traceback": [
      "\u001b[1;36m  File \u001b[1;32m\"<ipython-input-25-e87a060adcb2>\"\u001b[1;36m, line \u001b[1;32m9\u001b[0m\n\u001b[1;33m    print \"GCD is: \"\u001b[0m\n\u001b[1;37m                   ^\u001b[0m\n\u001b[1;31mSyntaxError\u001b[0m\u001b[1;31m:\u001b[0m Missing parentheses in call to 'print'. Did you mean print(\"GCD is: \")?\n"
     ]
    }
   ],
   "source": [
    "def gcd(a,b):\n",
    "    if(b==0):\n",
    "        return a\n",
    "    else:\n",
    "        return gcd(b,a%b)\n",
    "a=int(input(\"Enter first number:\"))\n",
    "b=int(input(\"Enter second number:\"))\n",
    "GCD=gcd(a,b)\n",
    "print \"GCD is: \"\n",
    "print GCD\n"
   ]
  },
  {
   "cell_type": "markdown",
   "metadata": {},
   "source": [
    " ###  greatest of two"
   ]
  },
  {
   "cell_type": "code",
   "execution_count": 26,
   "metadata": {},
   "outputs": [
    {
     "ename": "SyntaxError",
     "evalue": "Missing parentheses in call to 'print'. Did you mean print(a,\"is greater than\",b)? (<ipython-input-26-5ee3c3f4d51e>, line 4)",
     "output_type": "error",
     "traceback": [
      "\u001b[1;36m  File \u001b[1;32m\"<ipython-input-26-5ee3c3f4d51e>\"\u001b[1;36m, line \u001b[1;32m4\u001b[0m\n\u001b[1;33m    print a,\"is greater than\",b\u001b[0m\n\u001b[1;37m          ^\u001b[0m\n\u001b[1;31mSyntaxError\u001b[0m\u001b[1;31m:\u001b[0m Missing parentheses in call to 'print'. Did you mean print(a,\"is greater than\",b)?\n"
     ]
    }
   ],
   "source": [
    "a=int(raw_input(\"enter a:\"))\n",
    "b=int(raw_input(\"enter b:\"))\n",
    "if a>b:\n",
    "    print a,\"is greater than\",b\n",
    "else:\n",
    "    print b,\"is greater than\",a\n"
   ]
  },
  {
   "cell_type": "markdown",
   "metadata": {},
   "source": [
    "### happy number"
   ]
  },
  {
   "cell_type": "code",
   "execution_count": 27,
   "metadata": {},
   "outputs": [
    {
     "ename": "SyntaxError",
     "evalue": "Missing parentheses in call to 'print'. Did you mean print(\"Happy number\")? (<ipython-input-27-9cf57d9dd8cf>, line 12)",
     "output_type": "error",
     "traceback": [
      "\u001b[1;36m  File \u001b[1;32m\"<ipython-input-27-9cf57d9dd8cf>\"\u001b[1;36m, line \u001b[1;32m12\u001b[0m\n\u001b[1;33m    print \"Happy number\"\u001b[0m\n\u001b[1;37m                       ^\u001b[0m\n\u001b[1;31mSyntaxError\u001b[0m\u001b[1;31m:\u001b[0m Missing parentheses in call to 'print'. Did you mean print(\"Happy number\")?\n"
     ]
    }
   ],
   "source": [
    "n=int(raw_input())\n",
    "sum1=0\n",
    "while(n>9):\n",
    "    while(n>0):\n",
    "        r=n%10\n",
    "        sum1+=pow(r,2)\n",
    "        n=n//10\n",
    "    n=sum1\n",
    "    sum1=0\n",
    "\n",
    "if (n==1):\n",
    "    print \"Happy number\"\n",
    "else:\n",
    "    print \"Not a happy number\"\n"
   ]
  },
  {
   "cell_type": "markdown",
   "metadata": {},
   "source": [
    "### Harshad"
   ]
  },
  {
   "cell_type": "code",
   "execution_count": 28,
   "metadata": {},
   "outputs": [
    {
     "ename": "SyntaxError",
     "evalue": "Missing parentheses in call to 'print'. Did you mean print(\"harshad \")? (<ipython-input-28-2b69ee6ba7ca>, line 10)",
     "output_type": "error",
     "traceback": [
      "\u001b[1;36m  File \u001b[1;32m\"<ipython-input-28-2b69ee6ba7ca>\"\u001b[1;36m, line \u001b[1;32m10\u001b[0m\n\u001b[1;33m    print \"harshad \"\u001b[0m\n\u001b[1;37m                   ^\u001b[0m\n\u001b[1;31mSyntaxError\u001b[0m\u001b[1;31m:\u001b[0m Missing parentheses in call to 'print'. Did you mean print(\"harshad \")?\n"
     ]
    }
   ],
   "source": [
    "n=int(raw_input(\"enter n:\"))\n",
    "sum1=0\n",
    "q=n\n",
    "while(q>0):\n",
    "    r=q%10\n",
    "    sum1=sum1+r\n",
    "    q=q/10\n",
    "\n",
    "if(n%sum1==0):\n",
    "    print \"harshad \"\n",
    "else:\n",
    "    print \"Harshad not\"\n"
   ]
  },
  {
   "cell_type": "markdown",
   "metadata": {},
   "source": [
    "### Lcm of three"
   ]
  },
  {
   "cell_type": "code",
   "execution_count": 29,
   "metadata": {},
   "outputs": [
    {
     "ename": "SyntaxError",
     "evalue": "Missing parentheses in call to 'print'. Did you mean print(max1)? (<ipython-input-29-9ef37118df67>, line 13)",
     "output_type": "error",
     "traceback": [
      "\u001b[1;36m  File \u001b[1;32m\"<ipython-input-29-9ef37118df67>\"\u001b[1;36m, line \u001b[1;32m13\u001b[0m\n\u001b[1;33m    print max1\u001b[0m\n\u001b[1;37m             ^\u001b[0m\n\u001b[1;31mSyntaxError\u001b[0m\u001b[1;31m:\u001b[0m Missing parentheses in call to 'print'. Did you mean print(max1)?\n"
     ]
    }
   ],
   "source": [
    "a=int(raw_input(\"enter a:\"))\n",
    "b=int(raw_input(\"enter b:\"))\n",
    "c=int(raw_input(\"enter c:\"))\n",
    "if a>b and a>c:\n",
    "    max1=a\n",
    "elif b>a and b>c:\n",
    "    max1=b\n",
    "else:\n",
    "    max1=c\n",
    "\n",
    "while(True):\n",
    "    if max1%a==0 and max1%b==0 and max1%c==0:\n",
    "        print max1\n",
    "        break\n",
    "    max1+=1\n"
   ]
  },
  {
   "cell_type": "markdown",
   "metadata": {},
   "source": [
    "### Lcm of two"
   ]
  },
  {
   "cell_type": "code",
   "execution_count": 30,
   "metadata": {},
   "outputs": [
    {
     "ename": "SyntaxError",
     "evalue": "Missing parentheses in call to 'print'. Did you mean print(\"Lcm :\",res)? (<ipython-input-30-47dd0490ecf9>, line 12)",
     "output_type": "error",
     "traceback": [
      "\u001b[1;36m  File \u001b[1;32m\"<ipython-input-30-47dd0490ecf9>\"\u001b[1;36m, line \u001b[1;32m12\u001b[0m\n\u001b[1;33m    print \"Lcm :\",res\u001b[0m\n\u001b[1;37m                ^\u001b[0m\n\u001b[1;31mSyntaxError\u001b[0m\u001b[1;31m:\u001b[0m Missing parentheses in call to 'print'. Did you mean print(\"Lcm :\",res)?\n"
     ]
    }
   ],
   "source": [
    "def gcd(a,b):\n",
    "        if b==0:\n",
    "            return a\n",
    "        else:\n",
    "            return gcd(b,a%b)\n",
    "a=int(raw_input(\"enter a:\"))\n",
    "b=int(raw_input(\"enter b:\"))\n",
    "Gcd=gcd(a,b)\n",
    "def lcm(a,b):\n",
    "    return ((a*b)/Gcd)\n",
    "res=lcm(a,b)\n",
    "print \"Lcm :\",res\n"
   ]
  },
  {
   "cell_type": "markdown",
   "metadata": {},
   "source": [
    "###  leap year"
   ]
  },
  {
   "cell_type": "code",
   "execution_count": 31,
   "metadata": {},
   "outputs": [
    {
     "ename": "SyntaxError",
     "evalue": "invalid syntax (<ipython-input-31-013ed1145b3f>, line 5)",
     "output_type": "error",
     "traceback": [
      "\u001b[1;36m  File \u001b[1;32m\"<ipython-input-31-013ed1145b3f>\"\u001b[1;36m, line \u001b[1;32m5\u001b[0m\n\u001b[1;33m    print \"{} is a leap year\".format(year)\u001b[0m\n\u001b[1;37m                            ^\u001b[0m\n\u001b[1;31mSyntaxError\u001b[0m\u001b[1;31m:\u001b[0m invalid syntax\n"
     ]
    }
   ],
   "source": [
    "year=int(raw_input(\"enter year:\"))\n",
    "if year%4==0:\n",
    "    if year%100==0:\n",
    "        if year%400==0:\n",
    "            print \"{} is a leap year\".format(year)\n",
    "        else:\n",
    "            print \"{} is not a leap year\".format(year)\n",
    "    else:\n",
    "        print \"{} is a leap year\".format(year)\n",
    "else:\n",
    "    print \"{} is not a leap year\".format(year)\n"
   ]
  },
  {
   "cell_type": "markdown",
   "metadata": {},
   "source": [
    "### lonely integer"
   ]
  },
  {
   "cell_type": "code",
   "execution_count": 32,
   "metadata": {},
   "outputs": [
    {
     "ename": "SyntaxError",
     "evalue": "Missing parentheses in call to 'print'. Did you mean print(count)? (<ipython-input-32-38bb6cdf29bc>, line 7)",
     "output_type": "error",
     "traceback": [
      "\u001b[1;36m  File \u001b[1;32m\"<ipython-input-32-38bb6cdf29bc>\"\u001b[1;36m, line \u001b[1;32m7\u001b[0m\n\u001b[1;33m    print count\u001b[0m\n\u001b[1;37m              ^\u001b[0m\n\u001b[1;31mSyntaxError\u001b[0m\u001b[1;31m:\u001b[0m Missing parentheses in call to 'print'. Did you mean print(count)?\n"
     ]
    }
   ],
   "source": [
    "n=int(raw_input())\n",
    "arr=list(map(int,raw_input().split()))\n",
    "count=0\n",
    "a=set(arr)\n",
    "for i in a:\n",
    "    count+=1\n",
    "print count\n"
   ]
  },
  {
   "cell_type": "markdown",
   "metadata": {},
   "source": [
    "### Minimum distance"
   ]
  },
  {
   "cell_type": "code",
   "execution_count": 33,
   "metadata": {},
   "outputs": [
    {
     "ename": "SyntaxError",
     "evalue": "Missing parentheses in call to 'print'. Did you mean print(d)? (<ipython-input-33-982cba19a6af>, line 7)",
     "output_type": "error",
     "traceback": [
      "\u001b[1;36m  File \u001b[1;32m\"<ipython-input-33-982cba19a6af>\"\u001b[1;36m, line \u001b[1;32m7\u001b[0m\n\u001b[1;33m    print d\u001b[0m\n\u001b[1;37m          ^\u001b[0m\n\u001b[1;31mSyntaxError\u001b[0m\u001b[1;31m:\u001b[0m Missing parentheses in call to 'print'. Did you mean print(d)?\n"
     ]
    }
   ],
   "source": [
    "import sys\n",
    "n=int(raw_input())\n",
    "arr=list(map(int,raw_input().split()))\n",
    "for d in range(1,n):\n",
    "    for i in range(n-d):\n",
    "        if arr[i]==arr[i+d]:\n",
    "            print d\n",
    "            sys.exit(0)\n",
    "print -1\n"
   ]
  },
  {
   "cell_type": "markdown",
   "metadata": {},
   "source": [
    "### Multplication of mat"
   ]
  },
  {
   "cell_type": "code",
   "execution_count": 34,
   "metadata": {},
   "outputs": [
    {
     "ename": "SyntaxError",
     "evalue": "Missing parentheses in call to 'print'. Did you mean print(\"arr1:\")? (<ipython-input-34-b9baee9cce5b>, line 10)",
     "output_type": "error",
     "traceback": [
      "\u001b[1;36m  File \u001b[1;32m\"<ipython-input-34-b9baee9cce5b>\"\u001b[1;36m, line \u001b[1;32m10\u001b[0m\n\u001b[1;33m    print \"arr1:\"\u001b[0m\n\u001b[1;37m                ^\u001b[0m\n\u001b[1;31mSyntaxError\u001b[0m\u001b[1;31m:\u001b[0m Missing parentheses in call to 'print'. Did you mean print(\"arr1:\")?\n"
     ]
    }
   ],
   "source": [
    "from random import randint\n",
    "n=int(input())\n",
    "arr1=[]\n",
    "for i in range(n):\n",
    "    my1=[]\n",
    "    for j in range(n):\n",
    "        my1.append(randint(1,5))\n",
    "    arr1.append(my1)\n",
    "\n",
    "print \"arr1:\"\n",
    "for i in arr1:\n",
    "    print i\n",
    "\n",
    "\n",
    "arr2=[]\n",
    "for i in range(n):\n",
    "    my1=[]\n",
    "    for j in range(n):\n",
    "        my1.append(randint(1,10))\n",
    "    arr2.append(my1)\n",
    "\n",
    "print \"arr2:\"\n",
    "for i in arr2:\n",
    "    print i\n",
    "\n",
    "res = [[0 for j in range(n)] for i in range(n)]\n",
    "for i in range(len(arr1)):\n",
    "    for j in range(len(arr2[0])):\n",
    "        for k in range(len(arr2)):\n",
    "            res[i][j]+=arr1[i][k]*arr2[k][j]\n",
    "print \"res:\"\n",
    "for i in res:\n",
    "    print i\n",
    "            \n"
   ]
  },
  {
   "cell_type": "markdown",
   "metadata": {},
   "source": [
    "### Palindrone or not"
   ]
  },
  {
   "cell_type": "code",
   "execution_count": 35,
   "metadata": {},
   "outputs": [
    {
     "ename": "SyntaxError",
     "evalue": "Missing parentheses in call to 'print'. Did you mean print(\"Palindrome \")? (<ipython-input-35-fcac7186b570>, line 9)",
     "output_type": "error",
     "traceback": [
      "\u001b[1;36m  File \u001b[1;32m\"<ipython-input-35-fcac7186b570>\"\u001b[1;36m, line \u001b[1;32m9\u001b[0m\n\u001b[1;33m    print \"Palindrome \"\u001b[0m\n\u001b[1;37m                      ^\u001b[0m\n\u001b[1;31mSyntaxError\u001b[0m\u001b[1;31m:\u001b[0m Missing parentheses in call to 'print'. Did you mean print(\"Palindrome \")?\n"
     ]
    }
   ],
   "source": [
    "n=int(raw_input(\"enter n:\"))\n",
    "sum1=0\n",
    "q=n\n",
    "while(q>0):\n",
    "    r=q%10\n",
    "    sum1=sum1*10+r\n",
    "    q=q/10\n",
    "if (sum1==n):\n",
    "    print \"Palindrome \"\n",
    "else:\n",
    "    print \"It is not palindrome\"\n"
   ]
  },
  {
   "cell_type": "markdown",
   "metadata": {},
   "source": [
    "### Perfect or not"
   ]
  },
  {
   "cell_type": "code",
   "execution_count": 36,
   "metadata": {},
   "outputs": [
    {
     "ename": "SyntaxError",
     "evalue": "Missing parentheses in call to 'print'. Did you mean print(\"Perfect number\")? (<ipython-input-36-3d7cb12c3684>, line 8)",
     "output_type": "error",
     "traceback": [
      "\u001b[1;36m  File \u001b[1;32m\"<ipython-input-36-3d7cb12c3684>\"\u001b[1;36m, line \u001b[1;32m8\u001b[0m\n\u001b[1;33m    print \"Perfect number\"\u001b[0m\n\u001b[1;37m                         ^\u001b[0m\n\u001b[1;31mSyntaxError\u001b[0m\u001b[1;31m:\u001b[0m Missing parentheses in call to 'print'. Did you mean print(\"Perfect number\")?\n"
     ]
    }
   ],
   "source": [
    "n=int(raw_input(\"enter n:\"))\n",
    "sum1=0\n",
    "for i in range(1,n):\n",
    "    if n%i==0:\n",
    "        sum1=sum1+i\n",
    "\n",
    "if sum1==n:\n",
    "    print \"Perfect number\"\n",
    "else:\n",
    "    print \"It is not perfect number\"\n"
   ]
  },
  {
   "cell_type": "markdown",
   "metadata": {},
   "source": [
    "### Prime or not"
   ]
  },
  {
   "cell_type": "code",
   "execution_count": 37,
   "metadata": {},
   "outputs": [
    {
     "ename": "SyntaxError",
     "evalue": "Missing parentheses in call to 'print'. Did you mean print(n,\"is a prime number\")? (<ipython-input-37-d2fcc63dda54>, line 8)",
     "output_type": "error",
     "traceback": [
      "\u001b[1;36m  File \u001b[1;32m\"<ipython-input-37-d2fcc63dda54>\"\u001b[1;36m, line \u001b[1;32m8\u001b[0m\n\u001b[1;33m    print n,\"is a prime number\"\u001b[0m\n\u001b[1;37m          ^\u001b[0m\n\u001b[1;31mSyntaxError\u001b[0m\u001b[1;31m:\u001b[0m Missing parentheses in call to 'print'. Did you mean print(n,\"is a prime number\")?\n"
     ]
    }
   ],
   "source": [
    "n=int(raw_input(\"enter number:\"))\n",
    "count=0\n",
    "for i in range(1,n+1):\n",
    "    if n%i==0:\n",
    "        count+=1\n",
    "\n",
    "if count==2:\n",
    "    print n,\"is a prime number\"\n",
    "else:\n",
    "    print n,\"is not a prime number\"\n"
   ]
  },
  {
   "cell_type": "markdown",
   "metadata": {},
   "source": [
    "###  Prime with range"
   ]
  },
  {
   "cell_type": "code",
   "execution_count": 38,
   "metadata": {},
   "outputs": [
    {
     "ename": "SyntaxError",
     "evalue": "Missing parentheses in call to 'print'. Did you mean print(i, end=\" \")? (<ipython-input-38-71023468fc60>, line 8)",
     "output_type": "error",
     "traceback": [
      "\u001b[1;36m  File \u001b[1;32m\"<ipython-input-38-71023468fc60>\"\u001b[1;36m, line \u001b[1;32m8\u001b[0m\n\u001b[1;33m    print i,\u001b[0m\n\u001b[1;37m          ^\u001b[0m\n\u001b[1;31mSyntaxError\u001b[0m\u001b[1;31m:\u001b[0m Missing parentheses in call to 'print'. Did you mean print(i, end=\" \")?\n"
     ]
    }
   ],
   "source": [
    "start=int(raw_input(\"enter start:\"))\n",
    "end=int(raw_input(\"enter end:\"))\n",
    "for i in range(start,end+1):\n",
    "    for j in range(2,(i/2)+1):\n",
    "        if i%j==0:\n",
    "            break\n",
    "    else:\n",
    "        print i,\n"
   ]
  },
  {
   "cell_type": "markdown",
   "metadata": {},
   "source": [
    "### Reverse a number"
   ]
  },
  {
   "cell_type": "code",
   "execution_count": 39,
   "metadata": {},
   "outputs": [
    {
     "ename": "SyntaxError",
     "evalue": "Missing parentheses in call to 'print'. Did you mean print(sum1)? (<ipython-input-39-268c704f157e>, line 7)",
     "output_type": "error",
     "traceback": [
      "\u001b[1;36m  File \u001b[1;32m\"<ipython-input-39-268c704f157e>\"\u001b[1;36m, line \u001b[1;32m7\u001b[0m\n\u001b[1;33m    print sum1\u001b[0m\n\u001b[1;37m             ^\u001b[0m\n\u001b[1;31mSyntaxError\u001b[0m\u001b[1;31m:\u001b[0m Missing parentheses in call to 'print'. Did you mean print(sum1)?\n"
     ]
    }
   ],
   "source": [
    "n=int(raw_input(\"enter n:\"))\n",
    "sum1=0\n",
    "while(n>0):\n",
    "    r=n%10\n",
    "    sum1=sum1*10+r\n",
    "    n=n//10\n",
    "print sum1\n"
   ]
  },
  {
   "cell_type": "markdown",
   "metadata": {},
   "source": [
    "## Reverse a word"
   ]
  },
  {
   "cell_type": "code",
   "execution_count": 40,
   "metadata": {},
   "outputs": [
    {
     "ename": "SyntaxError",
     "evalue": "invalid syntax (<ipython-input-40-c65bc63af89c>, line 6)",
     "output_type": "error",
     "traceback": [
      "\u001b[1;36m  File \u001b[1;32m\"<ipython-input-40-c65bc63af89c>\"\u001b[1;36m, line \u001b[1;32m6\u001b[0m\n\u001b[1;33m    print str_rev(str1)\u001b[0m\n\u001b[1;37m                ^\u001b[0m\n\u001b[1;31mSyntaxError\u001b[0m\u001b[1;31m:\u001b[0m invalid syntax\n"
     ]
    }
   ],
   "source": [
    "str1=raw_input(\"enter string:\")\n",
    "def str_rev(str1):\n",
    "    str1=str1.split()\n",
    "    str1.reverse()\n",
    "    return \" \".join(str1)\n",
    "print str_rev(str1)\n",
    "\n"
   ]
  },
  {
   "cell_type": "markdown",
   "metadata": {},
   "source": [
    "### Strong nbr with range"
   ]
  },
  {
   "cell_type": "code",
   "execution_count": 41,
   "metadata": {},
   "outputs": [
    {
     "ename": "SyntaxError",
     "evalue": "Missing parentheses in call to 'print'. Did you mean print(sum1, end=\" \")? (<ipython-input-41-3d2efae7c1b0>, line 15)",
     "output_type": "error",
     "traceback": [
      "\u001b[1;36m  File \u001b[1;32m\"<ipython-input-41-3d2efae7c1b0>\"\u001b[1;36m, line \u001b[1;32m15\u001b[0m\n\u001b[1;33m    print sum1,\u001b[0m\n\u001b[1;37m             ^\u001b[0m\n\u001b[1;31mSyntaxError\u001b[0m\u001b[1;31m:\u001b[0m Missing parentheses in call to 'print'. Did you mean print(sum1, end=\" \")?\n"
     ]
    }
   ],
   "source": [
    "start=int(raw_input(\"enter start:\"))\n",
    "end=int(raw_input(\"enter end:\"))\n",
    "for i in range(start,end+1):\n",
    "    q=i\n",
    "    sum1=0\n",
    "    while(q>0):\n",
    "        r=q%10\n",
    "        fact=1\n",
    "        for j in range(1,r+1):\n",
    "            fact=fact*j\n",
    "        sum1=sum1+fact\n",
    "        q=q/10\n",
    "\n",
    "    if sum1==i:\n",
    "        print sum1,\n"
   ]
  },
  {
   "cell_type": "markdown",
   "metadata": {},
   "source": [
    "## Strong nbr"
   ]
  },
  {
   "cell_type": "code",
   "execution_count": 42,
   "metadata": {},
   "outputs": [
    {
     "ename": "SyntaxError",
     "evalue": "Missing parentheses in call to 'print'. Did you mean print(\"It is strong number\")? (<ipython-input-42-1551af873f30>, line 12)",
     "output_type": "error",
     "traceback": [
      "\u001b[1;36m  File \u001b[1;32m\"<ipython-input-42-1551af873f30>\"\u001b[1;36m, line \u001b[1;32m12\u001b[0m\n\u001b[1;33m    print \"It is strong number\"\u001b[0m\n\u001b[1;37m                              ^\u001b[0m\n\u001b[1;31mSyntaxError\u001b[0m\u001b[1;31m:\u001b[0m Missing parentheses in call to 'print'. Did you mean print(\"It is strong number\")?\n"
     ]
    }
   ],
   "source": [
    "n=int(raw_input(\"enter n:\"))\n",
    "sum1=0\n",
    "q=n\n",
    "while(q>0):\n",
    "    r=q%10\n",
    "    fact=1\n",
    "    for i in range(1,r+1):\n",
    "        fact=fact*i\n",
    "    sum1=sum1+fact\n",
    "    q=q/10\n",
    "if sum1==n:\n",
    "    print \"It is strong number\"\n",
    "else:\n",
    "    print \" It is not a strong number\"\n"
   ]
  },
  {
   "cell_type": "markdown",
   "metadata": {},
   "source": [
    "### SUm of diagonal"
   ]
  },
  {
   "cell_type": "code",
   "execution_count": 43,
   "metadata": {},
   "outputs": [
    {
     "ename": "SyntaxError",
     "evalue": "Missing parentheses in call to 'print'. Did you mean print(i)? (<ipython-input-43-e5caa6fc6309>, line 10)",
     "output_type": "error",
     "traceback": [
      "\u001b[1;36m  File \u001b[1;32m\"<ipython-input-43-e5caa6fc6309>\"\u001b[1;36m, line \u001b[1;32m10\u001b[0m\n\u001b[1;33m    print i\u001b[0m\n\u001b[1;37m          ^\u001b[0m\n\u001b[1;31mSyntaxError\u001b[0m\u001b[1;31m:\u001b[0m Missing parentheses in call to 'print'. Did you mean print(i)?\n"
     ]
    }
   ],
   "source": [
    "from random import randint\n",
    "n=int(input())\n",
    "arr=[]\n",
    "for i in range(n):\n",
    "    my1=[]\n",
    "    for j in range(n):\n",
    "        my1.append(randint(1,5))\n",
    "    arr.append(my1)\n",
    "for i in arr:\n",
    "    print i\n",
    "\n",
    "\n",
    "def diagonal(arr,n):\n",
    "    d1=0\n",
    "    d2=0\n",
    "    for i in range(n):\n",
    "        d1=d1+arr[i][i]\n",
    "        d2=d2+arr[i][n-i-1]\n",
    "    print  abs(d2-d1)\n",
    "diagonal(arr,n)\n",
    "\n",
    "\n"
   ]
  },
  {
   "cell_type": "markdown",
   "metadata": {},
   "source": [
    "### Sum of nbr using lists"
   ]
  },
  {
   "cell_type": "code",
   "execution_count": 44,
   "metadata": {},
   "outputs": [
    {
     "ename": "NameError",
     "evalue": "name 'raw_input' is not defined",
     "output_type": "error",
     "traceback": [
      "\u001b[1;31m---------------------------------------------------------------------------\u001b[0m",
      "\u001b[1;31mNameError\u001b[0m                                 Traceback (most recent call last)",
      "\u001b[1;32m<ipython-input-44-eb3f22e5b501>\u001b[0m in \u001b[0;36m<module>\u001b[1;34m\u001b[0m\n\u001b[0;32m      1\u001b[0m \u001b[1;32mfrom\u001b[0m \u001b[0mrandom\u001b[0m \u001b[1;32mimport\u001b[0m \u001b[0mrandint\u001b[0m\u001b[1;33m\u001b[0m\u001b[1;33m\u001b[0m\u001b[0m\n\u001b[1;32m----> 2\u001b[1;33m \u001b[0mn\u001b[0m\u001b[1;33m=\u001b[0m\u001b[0mint\u001b[0m\u001b[1;33m(\u001b[0m\u001b[0mraw_input\u001b[0m\u001b[1;33m(\u001b[0m\u001b[1;33m)\u001b[0m\u001b[1;33m)\u001b[0m\u001b[1;33m\u001b[0m\u001b[1;33m\u001b[0m\u001b[0m\n\u001b[0m\u001b[0;32m      3\u001b[0m \u001b[0mlist1\u001b[0m\u001b[1;33m=\u001b[0m\u001b[1;33m[\u001b[0m\u001b[1;33m]\u001b[0m\u001b[1;33m\u001b[0m\u001b[1;33m\u001b[0m\u001b[0m\n\u001b[0;32m      4\u001b[0m \u001b[0msum1\u001b[0m\u001b[1;33m=\u001b[0m\u001b[1;36m0\u001b[0m\u001b[1;33m\u001b[0m\u001b[1;33m\u001b[0m\u001b[0m\n\u001b[0;32m      5\u001b[0m \u001b[1;32mfor\u001b[0m \u001b[0mi\u001b[0m \u001b[1;32min\u001b[0m \u001b[0mrange\u001b[0m\u001b[1;33m(\u001b[0m\u001b[0mn\u001b[0m\u001b[1;33m)\u001b[0m\u001b[1;33m:\u001b[0m\u001b[1;33m\u001b[0m\u001b[1;33m\u001b[0m\u001b[0m\n",
      "\u001b[1;31mNameError\u001b[0m: name 'raw_input' is not defined"
     ]
    }
   ],
   "source": [
    "from random import randint\n",
    "n=int(raw_input())\n",
    "list1=[]\n",
    "sum1=0\n",
    "for i in range(n):\n",
    "    list1.append(randint(1,10))\n",
    "print(list1)\n",
    "\n",
    "for i in list1:\n",
    "    sum1+=i\n",
    "print(sum1)\n"
   ]
  },
  {
   "cell_type": "markdown",
   "metadata": {},
   "source": [
    "### transpose mat"
   ]
  },
  {
   "cell_type": "code",
   "execution_count": null,
   "metadata": {},
   "outputs": [],
   "source": []
  }
 ],
 "metadata": {
  "kernelspec": {
   "display_name": "Python 3",
   "language": "python",
   "name": "python3"
  },
  "language_info": {
   "codemirror_mode": {
    "name": "ipython",
    "version": 3
   },
   "file_extension": ".py",
   "mimetype": "text/x-python",
   "name": "python",
   "nbconvert_exporter": "python",
   "pygments_lexer": "ipython3",
   "version": "3.7.4"
  }
 },
 "nbformat": 4,
 "nbformat_minor": 2
}
