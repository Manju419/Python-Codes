{
 "cells": [
  {
   "cell_type": "markdown",
   "metadata": {},
   "source": [
    "## Day 6\n",
    "**Simple programs ......**\n",
    "\n",
    "**Note: In this Chapter we discuss the python codes with clear explanations like how the program run with input values and how the statements work.**\n",
    "\n",
    "Let's go ahead ......."
   ]
  },
  {
   "cell_type": "markdown",
   "metadata": {},
   "source": [
    "### 51. How to select the integers from string"
   ]
  },
  {
   "cell_type": "code",
   "execution_count": 19,
   "metadata": {},
   "outputs": [
    {
     "name": "stdout",
     "output_type": "stream",
     "text": [
      "enter string:he 20\n",
      "[20]\n"
     ]
    }
   ],
   "source": [
    "str1=input(\"enter string:\")\n",
    "lenstr=len(str1)\n",
    "mynum=[]\n",
    "x=0\n",
    "while x<lenstr:\n",
    "    num=\" \"\n",
    "    symbol=str1[x]\n",
    "    while '0'<=symbol<='9':\n",
    "        num=num+symbol\n",
    "        x=x+1                    #line 10\n",
    "        if x<lenstr:\n",
    "            symbol=str1[x]\n",
    "        else:\n",
    "            break\n",
    "    x=x+1                        #line 15\n",
    "    if num!=\" \":    \n",
    "        mynum.append(int(num))  #line 17\n",
    "        \n",
    "\n",
    "print(mynum)                  #line 19"
   ]
  },
  {
   "cell_type": "markdown",
   "metadata": {},
   "source": [
    "##### Note: If you need to know the process of this program go and check in day6 procedure.txt"
   ]
  },
  {
   "cell_type": "markdown",
   "metadata": {},
   "source": [
    "### 52. How to sort words according to their length"
   ]
  },
  {
   "cell_type": "code",
   "execution_count": 22,
   "metadata": {},
   "outputs": [
    {
     "name": "stdout",
     "output_type": "stream",
     "text": [
      "enter word:Hello world is fine\n",
      "is fine Hello world\n"
     ]
    }
   ],
   "source": [
    "str1=input(\"enter word:\")\n",
    "first=str1.split()\n",
    "lenstr=len(first)\n",
    "for i in range(lenstr-1):                  #line 4\n",
    "    for j in range(lenstr-1-i):\n",
    "        if len(first[j])>len(first[j+1]):\n",
    "            first[j],first[j+1]=first[j+1],first[j]       #line 7\n",
    "print(\" \".join(first))"
   ]
  },
  {
   "cell_type": "markdown",
   "metadata": {},
   "source": [
    "##### **Note : The steps from line 4 to line 7 similiar to the bubble sort programe**"
   ]
  },
  {
   "cell_type": "markdown",
   "metadata": {},
   "source": [
    "##### Note: If you need to know the process of this program go and check in day6 procedure.txt¶"
   ]
  },
  {
   "cell_type": "markdown",
   "metadata": {},
   "source": [
    "### 53. How to find the longest word in string"
   ]
  },
  {
   "cell_type": "code",
   "execution_count": 31,
   "metadata": {},
   "outputs": [
    {
     "name": "stdout",
     "output_type": "stream",
     "text": [
      "enter string:Hello manjunath how are you\n",
      "manjunath\n"
     ]
    }
   ],
   "source": [
    "str1=input(\"enter string:\")\n",
    "first=str1.split()\n",
    "lenstr=len(first)\n",
    "long=0\n",
    "for i in range(1,lenstr):\n",
    "    if len(first[long])<len(first[i]):\n",
    "        long=i\n",
    "        \n",
    "print(first[long])"
   ]
  },
  {
   "cell_type": "markdown",
   "metadata": {},
   "source": [
    "##### Note: If you need to know the process of this program go and check in day6 procedure.txt¶"
   ]
  },
  {
   "cell_type": "markdown",
   "metadata": {},
   "source": [
    "### 54.How to get the percentage of uppercase and lowercase"
   ]
  },
  {
   "cell_type": "code",
   "execution_count": 35,
   "metadata": {},
   "outputs": [
    {
     "name": "stdout",
     "output_type": "stream",
     "text": [
      "enter string:Hello World TODAY\n",
      "Lower percentage:47.06\n",
      "Upper percentage:41.18\n"
     ]
    }
   ],
   "source": [
    "str1=input(\"enter string:\")\n",
    "lenstr1=len(str1)\n",
    "lower=upper=0\n",
    "for i in str1:\n",
    "    if 'a'<=i<='z':\n",
    "        lower=lower+1\n",
    "    elif 'A'<=i<='Z':\n",
    "        upper=upper+1\n",
    "        \n",
    "print(\"Lower percentage:%.2f\"%((lower/lenstr1)*100))\n",
    "print(\"Upper percentage:%.2f\"%((upper/lenstr1)*100))"
   ]
  },
  {
   "cell_type": "markdown",
   "metadata": {},
   "source": [
    "##### Note: If you need to know the process of this program go and check in day6 procedure.txt¶"
   ]
  },
  {
   "cell_type": "markdown",
   "metadata": {},
   "source": [
    "### 55. How to check if the given string is palindrome or not"
   ]
  },
  {
   "cell_type": "code",
   "execution_count": 1,
   "metadata": {},
   "outputs": [
    {
     "name": "stdout",
     "output_type": "stream",
     "text": [
      "enter string:abcd\n",
      "this is not palindrome\n"
     ]
    }
   ],
   "source": [
    "str1=input(\"enter string:\")\n",
    "lenstr1=len(str1)\n",
    "for i in range(lenstr1//2):\n",
    "    if str1[i]!=str1[-1-i]:\n",
    "        print(\"this is not palindrome\")\n",
    "        break\n",
    "else:\n",
    "    print(\"This is palindrome \")"
   ]
  },
  {
   "cell_type": "markdown",
   "metadata": {},
   "source": [
    "##### Note: If you need to know the process of this program go and check in day6 procedure.txt¶P"
   ]
  },
  {
   "cell_type": "markdown",
   "metadata": {},
   "source": [
    "### 56.How to generate the random numbers using array\n"
   ]
  },
  {
   "cell_type": "code",
   "execution_count": 2,
   "metadata": {},
   "outputs": [
    {
     "name": "stdout",
     "output_type": "stream",
     "text": [
      "81 32 65 1 67 10 64 11 45 67 \n"
     ]
    }
   ],
   "source": [
    "from random import randint\n",
    "x=10\n",
    "array=[]\n",
    "for i in range(x):\n",
    "    array.append(randint(1,100))\n",
    "for i in array:\n",
    "    print(i,end=\" \")\n",
    "print()    "
   ]
  },
  {
   "cell_type": "markdown",
   "metadata": {},
   "source": [
    "### 57.How to get the maximum element in an array"
   ]
  },
  {
   "cell_type": "code",
   "execution_count": 5,
   "metadata": {},
   "outputs": [
    {
     "name": "stdout",
     "output_type": "stream",
     "text": [
      "31 56 94 21 45 91 16 4 93 13 \n",
      "Maximum value is 94\n"
     ]
    }
   ],
   "source": [
    "from random import randint\n",
    "x=10\n",
    "y=[]\n",
    "for i in range(x):\n",
    "    y.append(randint(1,100))\n",
    "    \n",
    "for i in y:\n",
    "    print(i,end=\" \")\n",
    "print()\n",
    "    \n",
    "maxi=0\n",
    "for i in y:\n",
    "    if i>maxi:\n",
    "        maxi=i\n",
    "print(\"Maximum value is %d\"%maxi)"
   ]
  },
  {
   "cell_type": "markdown",
   "metadata": {},
   "source": [
    "##### Note: If you need to know the process of this program go and check in day6 procedure.txt¶P¶"
   ]
  },
  {
   "cell_type": "markdown",
   "metadata": {},
   "source": [
    "### 58. How to get the minimum element of an array"
   ]
  },
  {
   "cell_type": "code",
   "execution_count": 10,
   "metadata": {},
   "outputs": [
    {
     "name": "stdout",
     "output_type": "stream",
     "text": [
      "91 89 32 7 43 43 22 80 45 9 \n",
      "Minimum value is  7\n"
     ]
    }
   ],
   "source": [
    "from random import randint\n",
    "x=10\n",
    "y=[]\n",
    "for i in range(x):\n",
    "    y.append(randint(1,100))\n",
    "    \n",
    "for i in y:\n",
    "    print(i,end=\" \")\n",
    "print()    \n",
    "print(\"Minimum value is \",min(y))"
   ]
  },
  {
   "cell_type": "markdown",
   "metadata": {},
   "source": [
    "##### Note: If you need to know the process of this program go and check in day6 procedure.txt"
   ]
  },
  {
   "cell_type": "markdown",
   "metadata": {},
   "source": [
    "### 59.How to get the even and odd numbers from random numbers"
   ]
  },
  {
   "cell_type": "code",
   "execution_count": 13,
   "metadata": {},
   "outputs": [
    {
     "name": "stdout",
     "output_type": "stream",
     "text": [
      "98 55 11 40 47 47 51 9 17 95 \n",
      "Even numbers are  2\n",
      "Odd numbers are 8\n"
     ]
    }
   ],
   "source": [
    "from random import randint\n",
    "even=0\n",
    "odd=0\n",
    "x=10\n",
    "y=[]\n",
    "for i in range(x):\n",
    "    y.append(randint(1,100))\n",
    "for i in y:\n",
    "    print(i,end=\" \")\n",
    "print()\n",
    "for j in y:\n",
    "    if j%2==0:\n",
    "        even=even+1\n",
    "    else:\n",
    "        odd=odd+1\n",
    "print(\"Even numbers are \",even)\n",
    "print(\"Odd numbers are\",odd)"
   ]
  },
  {
   "cell_type": "markdown",
   "metadata": {},
   "source": [
    "##### Note: This program is similiar to the above program 58 but here we calculate the odd and even numbers "
   ]
  },
  {
   "cell_type": "markdown",
   "metadata": {},
   "source": [
    "### 60. How to get the positive numbers out of negative numbers"
   ]
  },
  {
   "cell_type": "code",
   "execution_count": 25,
   "metadata": {},
   "outputs": [
    {
     "name": "stdout",
     "output_type": "stream",
     "text": [
      "[3, -6, -1, 2, -2, -6, 3, 0, -2, -2] \n",
      "Negative numbers: [-6, -6, -2, -2, -2, -1]\n",
      "Positive numbers: [0, 2, 3, 3]\n"
     ]
    }
   ],
   "source": [
    "import random\n",
    "x=[]\n",
    "for i in range(10):\n",
    "    x.append(int(random.random()*10)-6)\n",
    "print(x,end=\" \")\n",
    "print()\n",
    "neg=[]\n",
    "pos=[]\n",
    "for i in x:\n",
    "    if i<0:\n",
    "        neg.append(i)\n",
    "        neg.sort()\n",
    "    elif i>=0:\n",
    "        pos.append(i)\n",
    "        pos.sort()\n",
    "print(\"Negative numbers:\",neg)\n",
    "print(\"Positive numbers:\",pos)"
   ]
  },
  {
   "cell_type": "markdown",
   "metadata": {},
   "source": [
    "##### Note: This program is similiar to the above program 58 but here we calculate the odd and even numbers¶"
   ]
  },
  {
   "cell_type": "code",
   "execution_count": null,
   "metadata": {},
   "outputs": [],
   "source": []
  }
 ],
 "metadata": {
  "kernelspec": {
   "display_name": "Python 3",
   "language": "python",
   "name": "python3"
  },
  "language_info": {
   "codemirror_mode": {
    "name": "ipython",
    "version": 3
   },
   "file_extension": ".py",
   "mimetype": "text/x-python",
   "name": "python",
   "nbconvert_exporter": "python",
   "pygments_lexer": "ipython3",
   "version": "3.7.4"
  }
 },
 "nbformat": 4,
 "nbformat_minor": 2
}
